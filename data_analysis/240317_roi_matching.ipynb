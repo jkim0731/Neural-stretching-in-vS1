{
 "cells": [
  {
   "cell_type": "markdown",
   "metadata": {},
   "source": [
    "# Purpose:\n",
    "- Develop codes for matching ROIs between sessions\n",
    "- Between 2 sessions or more\n",
    "\n",
    "## Background:\n",
    "- roi_collection_across_sessions.py\n",
    "- Creates JK0xx_plane_y_cellpose_master_roi.npy, and _cellpose_roi_session_to_master.npy\n",
    "    - Don't know where JK0xx_plane_y_cellpose_roi_collection.npy comes from...\n",
    "    - _cellpose_master_roi.npy:\n",
    "        - viable cell index (index from iscell.npy per session)\n",
    "        - session map list (ROI map of each viable cell - ordered the same as viable cell index)\n",
    "        - master map (the last in the list the final master map)\n",
    "        - session_nums\n",
    "    - _cellpose_roi_session_to_master.npy:\n",
    "        - 2d array, matching each cell in the master map index to the index of viable cell index of each session.\n"
   ]
  },
  {
   "cell_type": "code",
   "execution_count": 1,
   "metadata": {},
   "outputs": [],
   "source": [
    "import numpy as np\n",
    "import pandas as pd\n",
    "from pathlib import Path\n",
    "from matplotlib import pyplot as plt\n",
    "\n",
    "base_dir = Path(r'E:\\TPM\\JK\\h5')\n",
    "\n",
    "expert_mice_df = pd.read_csv(base_dir / 'expert_mice.csv', index_col=0)\n",
    "use_mice_df = expert_mice_df.loc[expert_mice_df['depth_matched'].astype(bool) & \n",
    "                                 ~expert_mice_df['processing_error'].astype(bool) &\n",
    "                                 ((expert_mice_df.session_type == 'training') |\n",
    "                                  (expert_mice_df.session_type.str.contains('test')))]\n",
    "\n",
    "mice = [25,27,30,36,39,52]\n",
    "test_sessions = [[4,19], [3,8], [3,21], [1,17], [1,23], [3,21]]"
   ]
  },
  {
   "cell_type": "code",
   "execution_count": 69,
   "metadata": {},
   "outputs": [],
   "source": [
    "def get_matched_roi_inds_ordered(base_dir, mouse, plane, sessions):\n",
    "    \"\"\" Get the indices of the ROIs that are matched across sessions and ordered by the master ROI index.\n",
    "    \n",
    "    Args:\n",
    "    base_dir: Path\n",
    "        The base directory where the data is stored\n",
    "    mouse: int\n",
    "        The mouse number\n",
    "    plane: int\n",
    "        The plane number\n",
    "    sessions: list\n",
    "        The list of session numbers\n",
    "        \n",
    "    Returns:\n",
    "    roi_ind_matched_ordered: list\n",
    "        The list of indices of the ROIs that are matched across sessions and ordered by the master ROI index.\n",
    "        These indices are matched to spks, stats, and iscell.npy\n",
    "    \"\"\"\n",
    "    plane_dir = base_dir / f'{mouse:03}/plane_{plane}'\n",
    "    master_roi_fn = plane_dir / f'JK{mouse:03}_plane{plane}_cellpose_master_roi.npy'\n",
    "    master_roi_results = np.load(master_roi_fn, allow_pickle=True).item()\n",
    "    session_inds_master_roi = [np.where(np.array(master_roi_results['session_nums']) == sn)[0][0] for sn in sessions]\n",
    "\n",
    "    roi_matching_fn = plane_dir / f'JK{mouse:03}_plane{plane}_cellpose_roi_session_to_master.npy'\n",
    "    roi_matching = np.load(roi_matching_fn, allow_pickle=True).item()\n",
    "\n",
    "    session_to_master = []\n",
    "    for si in session_inds_master_roi:\n",
    "        session_to_master.append(roi_matching['matching_master_roi_index_list'][si])\n",
    "\n",
    "    matched_master_roi_inds = np.intersect1d(*session_to_master)\n",
    "    roi_ind_matched_ordered = []\n",
    "    if len(matched_master_roi_inds) > 0:        \n",
    "        viable_cell_index = [master_roi_results['viable_cell_index_list'][si] for si in session_inds_master_roi]\n",
    "        for si in range(len(session_to_master)):\n",
    "            viable_ind_matched_ordered = np.array([np.where(session_to_master[si]==ri)[0][0] for ri in matched_master_roi_inds])\n",
    "            roi_ind_matched_ordered.append(np.array([viable_cell_index[si][i] for i in viable_ind_matched_ordered]))\n",
    "    return roi_ind_matched_ordered\n"
   ]
  },
  {
   "cell_type": "markdown",
   "metadata": {},
   "source": [
    "# Dev"
   ]
  },
  {
   "cell_type": "code",
   "execution_count": 10,
   "metadata": {},
   "outputs": [],
   "source": [
    "mi = 0\n",
    "mouse = mice[mi]\n",
    "plane = 1\n",
    "\n",
    "plane_dir = base_dir / f'{mouse:03}/plane_{plane}'\n",
    "master_roi_fn = plane_dir / f'JK{mouse:03}_plane{plane}_cellpose_master_roi.npy'\n",
    "master_roi_results = np.load(master_roi_fn, allow_pickle=True).item()\n",
    "sessions = test_sessions[mi]\n",
    "session_inds_master_roi = [np.where(np.array(master_roi_results['session_nums']) == sn)[0][0] for sn in sessions]"
   ]
  },
  {
   "cell_type": "code",
   "execution_count": 19,
   "metadata": {},
   "outputs": [],
   "source": [
    "roi_matching_fn = plane_dir / f'JK{mouse:03}_plane{plane}_cellpose_roi_session_to_master.npy'\n",
    "roi_matching = np.load(roi_matching_fn, allow_pickle=True).item()"
   ]
  },
  {
   "cell_type": "code",
   "execution_count": 21,
   "metadata": {},
   "outputs": [],
   "source": [
    "session_to_master = []\n",
    "for si in session_inds_master_roi:\n",
    "    session_to_master.append(roi_matching['matching_master_roi_index_list'][si])"
   ]
  },
  {
   "cell_type": "code",
   "execution_count": 22,
   "metadata": {},
   "outputs": [
    {
     "data": {
      "text/plain": [
       "array([ 90,  57,  37,  91,  92,  20, 214,  38,  63,  93,  39,  21,  94,\n",
       "        95,  96, 141,  97,  98,  99, 315,  44, 149, 209,  45, 100, 101,\n",
       "       242, 102, 103, 104,  46, 223, 105, 106, 107, 108, 109,   3, 251,\n",
       "       110, 111,   6, 112,  54, 113, 114,  23, 174,  40, 256, 115,  51,\n",
       "        55, 116, 117, 118, 119, 120, 162,  16, 121, 144, 245,  35,  42,\n",
       "       122,  81, 123, 124, 152,  30, 284, 125, 126, 127, 178,  26,  10,\n",
       "       235,  28, 128,  17, 129,  70, 314, 150, 130, 184, 131, 132, 300,\n",
       "       247, 299,   1, 133,  67, 134, 135, 136, 304, 137, 138, 139,  18,\n",
       "       261, 249], dtype=int64)"
      ]
     },
     "execution_count": 22,
     "metadata": {},
     "output_type": "execute_result"
    }
   ],
   "source": [
    "session_to_master[0]"
   ]
  },
  {
   "cell_type": "code",
   "execution_count": 24,
   "metadata": {},
   "outputs": [
    {
     "data": {
      "text/plain": [
       "array([220, 214, 166, 161, 290, 141, 223,  39, 188, 164,  17, 291, 292,\n",
       "        41, 101, 293, 167,   2,  91,  70, 294, 123, 295, 177, 133,   6,\n",
       "       149,  42, 296, 297, 298,  51, 160,  90, 299, 300,  32,  20,  14,\n",
       "       301, 302, 303,  55, 118, 199, 194, 205, 263, 284,   3, 242, 304,\n",
       "       120, 305, 240, 157,  11,  94, 115, 174,  40, 279, 306, 119, 104,\n",
       "       264, 283, 307, 288, 245, 308, 228, 309,  31, 286, 310,  10, 131,\n",
       "       252,  92, 156, 311, 112,  28, 312, 246, 109, 313,  57,  21, 314,\n",
       "       315,  67, 249, 316,  23], dtype=int64)"
      ]
     },
     "execution_count": 24,
     "metadata": {},
     "output_type": "execute_result"
    }
   ],
   "source": [
    "session_to_master[1]"
   ]
  },
  {
   "cell_type": "code",
   "execution_count": 41,
   "metadata": {},
   "outputs": [],
   "source": [
    "matched_master_roi_inds = np.intersect1d(*session_to_master)\n"
   ]
  },
  {
   "cell_type": "code",
   "execution_count": 27,
   "metadata": {},
   "outputs": [
    {
     "data": {
      "text/plain": [
       "dict_keys(['master_map_list', 'session_map_list', 'viable_cell_index_list', 'new_master_map_list', 'new_map_list', 'session_nums'])"
      ]
     },
     "execution_count": 27,
     "metadata": {},
     "output_type": "execute_result"
    }
   ],
   "source": [
    "master_roi_results.keys()"
   ]
  },
  {
   "cell_type": "code",
   "execution_count": 29,
   "metadata": {},
   "outputs": [],
   "source": [
    "viable_cell_index = [master_roi_results['viable_cell_index_list'][si] for si in session_inds_master_roi]"
   ]
  },
  {
   "cell_type": "code",
   "execution_count": 30,
   "metadata": {},
   "outputs": [
    {
     "data": {
      "text/plain": [
       "array([  0,   1,   3,   4,   5,   6,   7,   8,  10,  11,  12,  13,  14,\n",
       "        15,  16,  17,  19,  21,  22,  25,  27,  28,  29,  31,  32,  33,\n",
       "        34,  35,  36,  37,  38,  39,  40,  41,  42,  43,  44,  45,  49,\n",
       "        50,  51,  52,  54,  55,  56,  57,  58,  60,  61,  62,  63,  66,\n",
       "        67,  68,  69,  71,  72,  73,  74,  78,  79,  80,  81,  82,  83,\n",
       "        84,  87,  88,  89,  90,  91,  92,  93,  94,  95,  96,  97,  98,\n",
       "        99, 101, 102, 104, 105, 106, 107, 108, 109, 110, 111, 114, 115,\n",
       "       116, 119, 120, 121, 122, 123, 124, 125, 127, 128, 129, 130, 131,\n",
       "       132, 133], dtype=int64)"
      ]
     },
     "execution_count": 30,
     "metadata": {},
     "output_type": "execute_result"
    }
   ],
   "source": [
    "viable_cell_index[0]"
   ]
  },
  {
   "cell_type": "code",
   "execution_count": 31,
   "metadata": {},
   "outputs": [
    {
     "data": {
      "text/plain": [
       "array([  1,   2,   3,   4,   5,   6,   7,   8,  10,  11,  13,  14,  15,\n",
       "        16,  18,  24,  26,  27,  29,  30,  31,  32,  33,  34,  35,  36,\n",
       "        37,  38,  39,  40,  41,  43,  44,  48,  49,  50,  51,  53,  55,\n",
       "        56,  58,  60,  62,  63,  64,  65,  66,  68,  69,  70,  71,  72,\n",
       "        75,  76,  77,  78,  79,  80,  81,  82,  83,  84,  85,  86,  87,\n",
       "        88,  89,  90,  91,  92,  94,  96,  97,  98,  99, 102, 103, 104,\n",
       "       105, 107, 108, 110, 111, 113, 115, 116, 117, 118, 119, 120, 122,\n",
       "       123, 124, 125, 126, 127], dtype=int64)"
      ]
     },
     "execution_count": 31,
     "metadata": {},
     "output_type": "execute_result"
    }
   ],
   "source": [
    "viable_cell_index[1]"
   ]
  },
  {
   "cell_type": "code",
   "execution_count": 33,
   "metadata": {},
   "outputs": [],
   "source": [
    "session = sessions[0]\n",
    "roi_dir = plane_dir / f'{session:03}/plane0/roi'\n",
    "spikes = np.load(roi_dir / 'spks_reduced.npy')\n",
    "iscell = np.load(roi_dir / 'iscell.npy')"
   ]
  },
  {
   "cell_type": "code",
   "execution_count": 35,
   "metadata": {},
   "outputs": [
    {
     "data": {
      "text/plain": [
       "106"
      ]
     },
     "execution_count": 35,
     "metadata": {},
     "output_type": "execute_result"
    }
   ],
   "source": [
    "len(viable_cell_index[0])"
   ]
  },
  {
   "cell_type": "code",
   "execution_count": 34,
   "metadata": {},
   "outputs": [
    {
     "data": {
      "text/plain": [
       "(134, 9909)"
      ]
     },
     "execution_count": 34,
     "metadata": {},
     "output_type": "execute_result"
    }
   ],
   "source": [
    "spikes.shape"
   ]
  },
  {
   "cell_type": "code",
   "execution_count": 36,
   "metadata": {},
   "outputs": [
    {
     "data": {
      "text/plain": [
       "(134, 2)"
      ]
     },
     "execution_count": 36,
     "metadata": {},
     "output_type": "execute_result"
    }
   ],
   "source": [
    "iscell.shape"
   ]
  },
  {
   "cell_type": "code",
   "execution_count": 45,
   "metadata": {},
   "outputs": [
    {
     "data": {
      "text/plain": [
       "array([  0,   1,   3,   4,   5,   6,  10,  11,  12,  15,  19,  21,  25,\n",
       "        26,  29,  31,  36,  37,  41,  42,  46,  47,  48,  50,  51,  52,\n",
       "        55,  56,  57,  62,  64,  67,  71,  77,  79,  81,  83,  84,  88,\n",
       "        90,  92,  94,  95,  99, 105], dtype=int64)"
      ]
     },
     "execution_count": 45,
     "metadata": {},
     "output_type": "execute_result"
    }
   ],
   "source": [
    "np.where(np.isin(session_to_master[0], matched_master_roi_inds))[0]"
   ]
  },
  {
   "cell_type": "code",
   "execution_count": 47,
   "metadata": {},
   "outputs": [],
   "source": [
    "session_maps = [master_roi_results['session_map_list'][si] for si in session_inds_master_roi]\n",
    "matched_session_maps = []\n",
    "for i in range(len(session_inds_master_roi)):\n",
    "    session_roi_inds_matched = np.where(np.isin(session_to_master[i], matched_master_roi_inds))[0]\n",
    "    matched_session_maps.append(session_maps[i][session_roi_inds_matched,:,:])"
   ]
  },
  {
   "cell_type": "code",
   "execution_count": 49,
   "metadata": {},
   "outputs": [
    {
     "data": {
      "text/plain": [
       "<matplotlib.image.AxesImage at 0x2c2928acb80>"
      ]
     },
     "execution_count": 49,
     "metadata": {},
     "output_type": "execute_result"
    },
    {
     "data": {
      "image/png": "[encoded data removed]",
      "text/plain": [
       "<Figure size 1080x720 with 2 Axes>"
      ]
     },
     "metadata": {
      "needs_background": "light"
     },
     "output_type": "display_data"
    }
   ],
   "source": [
    "fig, ax = plt.subplots(2,1, figsize=(15,10))\n",
    "ax[0].imshow(matched_session_maps[0].sum(axis=0))\n",
    "ax[1].imshow(matched_session_maps[1].sum(axis=0))"
   ]
  },
  {
   "cell_type": "code",
   "execution_count": 50,
   "metadata": {},
   "outputs": [
    {
     "data": {
      "text/plain": [
       "array([  3,   6,  10,  17,  20,  21,  23,  28,  39,  40,  42,  51,  55,\n",
       "        57,  67,  70,  90,  91,  92,  94, 101, 104, 109, 112, 115, 118,\n",
       "       119, 120, 123, 131, 133, 141, 149, 174, 214, 223, 242, 245, 249,\n",
       "       284, 299, 300, 304, 314, 315], dtype=int64)"
      ]
     },
     "execution_count": 50,
     "metadata": {},
     "output_type": "execute_result"
    }
   ],
   "source": [
    "matched_master_roi_inds"
   ]
  },
  {
   "cell_type": "code",
   "execution_count": 55,
   "metadata": {},
   "outputs": [],
   "source": [
    "roi_ind_matched_ordered = []\n",
    "for si in range(len(session_to_master)):\n",
    "    viable_ind_matched_ordered = np.array([np.where(session_to_master[si]==ri)[0][0] for ri in matched_master_roi_inds])\n",
    "    roi_ind_matched_ordered.append(np.array([viable_cell_index[si][i] for i in viable_ind_matched_ordered]))\n"
   ]
  },
  {
   "cell_type": "code",
   "execution_count": 54,
   "metadata": {},
   "outputs": [],
   "source": [
    "import napari"
   ]
  },
  {
   "cell_type": "code",
   "execution_count": 59,
   "metadata": {},
   "outputs": [],
   "source": [
    "stats = []\n",
    "for session in sessions:\n",
    "    roi_dir = plane_dir / f'{session:03}/plane0/roi'\n",
    "    stat = np.load(roi_dir / 'stat_refined.npy', allow_pickle=True)\n",
    "    stats.append(stat)"
   ]
  },
  {
   "cell_type": "code",
   "execution_count": 64,
   "metadata": {},
   "outputs": [
    {
     "data": {
      "text/plain": [
       "<matplotlib.image.AxesImage at 0x2c27eb21670>"
      ]
     },
     "execution_count": 64,
     "metadata": {},
     "output_type": "execute_result"
    },
    {
     "data": {
      "image/png": "[encoded data removed]",
      "text/plain": [
       "<Figure size 432x288 with 1 Axes>"
      ]
     },
     "metadata": {
      "needs_background": "light"
     },
     "output_type": "display_data"
    }
   ],
   "source": [
    "plt.imshow(master_roi_results['session_map_list'][3].sum(axis=0))"
   ]
  },
  {
   "cell_type": "code",
   "execution_count": 65,
   "metadata": {},
   "outputs": [],
   "source": [
    "ops = np.load(roi_dir / 'ops.npy', allow_pickle=True).item()\n"
   ]
  },
  {
   "cell_type": "code",
   "execution_count": 67,
   "metadata": {},
   "outputs": [],
   "source": [
    "matched_roi_maps = np.zeros((len(sessions), len(matched_master_roi_inds), ops['Ly'], ops['Lx']))\n",
    "\n",
    "for si in range(len(session_inds_master_roi)):\n",
    "    for ri in range(len(matched_master_roi_inds)):\n",
    "        x = stats[si][roi_ind_matched_ordered[si][ri]]['xpix']\n",
    "        y = stats[si][roi_ind_matched_ordered[si][ri]]['ypix']\n",
    "        matched_roi_maps[si,ri,y,x] = 1"
   ]
  },
  {
   "cell_type": "code",
   "execution_count": 70,
   "metadata": {},
   "outputs": [
    {
     "name": "stderr",
     "output_type": "stream",
     "text": [
      "c:\\Users\\shires\\Anaconda3\\envs\\suite2p\\lib\\site-packages\\napari\\_vispy\\vispy_camera.py:109: RuntimeWarning: divide by zero encountered in true_divide\n",
      "  zoom = np.min(canvas_size / scale)\n"
     ]
    },
    {
     "data": {
      "text/plain": [
       "<Image layer 'Image [1]' at 0x2c20bf0a370>"
      ]
     },
     "execution_count": 70,
     "metadata": {},
     "output_type": "execute_result"
    }
   ],
   "source": [
    "viewer = napari.Viewer()\n",
    "viewer.add_image(matched_roi_maps[0])\n",
    "viewer.add_image(matched_roi_maps[1], opacity=0.5)"
   ]
  },
  {
   "cell_type": "markdown",
   "metadata": {},
   "source": [
    "# Test codes from matched_roi.py"
   ]
  },
  {
   "cell_type": "code",
   "execution_count": 75,
   "metadata": {},
   "outputs": [
    {
     "data": {
      "text/plain": [
       "<module 'matched_roi' from 'c:\\\\Users\\\\shires\\\\Dropbox\\\\Works\\\\Projects\\\\2020 Neural stretching in S1\\\\Analysis\\\\codes\\\\data_analysis\\\\matched_roi.py'>"
      ]
     },
     "execution_count": 75,
     "metadata": {},
     "output_type": "execute_result"
    }
   ],
   "source": [
    "# from importlib import reload\n",
    "# reload(mr)"
   ]
  },
  {
   "cell_type": "code",
   "execution_count": 76,
   "metadata": {},
   "outputs": [],
   "source": [
    "import matched_roi as mr\n",
    "mouse = 25\n",
    "plane = 3\n",
    "sessions_all = np.array([int(sn) for sn in use_mice_df.query('mouse==@mouse and plane==@plane').session.unique()])\n",
    "sessions = sessions_all[:3]\n",
    "\n",
    "roi_ind_matched_ordered, matched_master_roi_inds = mr.get_matched_roi_inds_ordered(base_dir, mouse, plane, sessions)"
   ]
  },
  {
   "cell_type": "code",
   "execution_count": 85,
   "metadata": {},
   "outputs": [
    {
     "data": {
      "image/png": "[encoded data removed]",
      "text/plain": [
       "<Figure size 1080x1080 with 3 Axes>"
      ]
     },
     "metadata": {
      "needs_background": "light"
     },
     "output_type": "display_data"
    }
   ],
   "source": [
    "reload(mr)\n",
    "fig, ax = mr.compare_group_matched_inds(base_dir, mouse, plane, sessions)"
   ]
  },
  {
   "cell_type": "code",
   "execution_count": 86,
   "metadata": {},
   "outputs": [
    {
     "name": "stderr",
     "output_type": "stream",
     "text": [
      "c:\\Users\\shires\\Anaconda3\\envs\\suite2p\\lib\\site-packages\\napari\\_vispy\\vispy_camera.py:109: RuntimeWarning: divide by zero encountered in true_divide\n",
      "  zoom = np.min(canvas_size / scale)\n"
     ]
    }
   ],
   "source": [
    "mr.compared_ordered_roi_matching_napari(base_dir, mouse, plane, sessions)"
   ]
  },
  {
   "cell_type": "markdown",
   "metadata": {},
   "source": [
    "# Removing not-cells\n",
    "- ROI collection and matching were done before dendrite filtering\n",
    "- Additional filtering happened and recorded at iscell.npy\n",
    "    - filter_dendrite_rois.py (diameter = 7)"
   ]
  },
  {
   "cell_type": "code",
   "execution_count": 41,
   "metadata": {},
   "outputs": [],
   "source": [
    "mouse = 25\n",
    "plane = 1\n",
    "sessions = [4,19]\n",
    "\n",
    "plane_dir = base_dir / f'{mouse:03}/plane_{plane}'\n",
    "master_roi_fn = plane_dir / f'JK{mouse:03}_plane{plane}_cellpose_master_roi.npy'\n",
    "master_roi_results = np.load(master_roi_fn, allow_pickle=True).item()\n",
    "session_inds_master_roi = [np.where(np.array(master_roi_results['session_nums']) == sn)[0][0] for sn in sessions]\n",
    "\n",
    "roi_matching_fn = plane_dir / f'JK{mouse:03}_plane{plane}_cellpose_roi_session_to_master.npy'\n",
    "roi_matching = np.load(roi_matching_fn, allow_pickle=True).item()\n",
    "\n"
   ]
  },
  {
   "cell_type": "code",
   "execution_count": 42,
   "metadata": {},
   "outputs": [
    {
     "name": "stdout",
     "output_type": "stream",
     "text": [
      "106\n",
      "106\n"
     ]
    }
   ],
   "source": [
    "si = session_inds_master_roi[0]\n",
    "print(len(roi_matching['matching_master_roi_index_list'][si]))\n",
    "print(len(master_roi_results['viable_cell_index_list'][si]))"
   ]
  },
  {
   "cell_type": "code",
   "execution_count": 43,
   "metadata": {},
   "outputs": [
    {
     "data": {
      "text/plain": [
       "array([  0,   1,   3,   4,   5,   6,   7,   8,  10,  11,  12,  13,  14,\n",
       "        15,  16,  17,  19,  21,  22,  25,  27,  28,  29,  31,  32,  33,\n",
       "        34,  35,  36,  37,  38,  39,  40,  41,  42,  43,  44,  45,  49,\n",
       "        50,  51,  52,  54,  55,  56,  57,  58,  60,  61,  62,  63,  66,\n",
       "        67,  68,  69,  71,  72,  73,  74,  78,  79,  80,  81,  82,  83,\n",
       "        84,  87,  88,  89,  90,  91,  92,  93,  94,  95,  96,  97,  98,\n",
       "        99, 101, 102, 104, 105, 106, 107, 108, 109, 110, 111, 114, 115,\n",
       "       116, 119, 120, 121, 122, 123, 124, 125, 127, 128, 129, 130, 131,\n",
       "       132, 133], dtype=int64)"
      ]
     },
     "execution_count": 43,
     "metadata": {},
     "output_type": "execute_result"
    }
   ],
   "source": [
    "master_roi_results['viable_cell_index_list'][si]"
   ]
  },
  {
   "cell_type": "code",
   "execution_count": 44,
   "metadata": {},
   "outputs": [
    {
     "data": {
      "text/plain": [
       "array([ 90,  57,  37,  91,  92,  20, 214,  38,  63,  93,  39,  21,  94,\n",
       "        95,  96, 141,  97,  98,  99, 315,  44, 149, 209,  45, 100, 101,\n",
       "       242, 102, 103, 104,  46, 223, 105, 106, 107, 108, 109,   3, 251,\n",
       "       110, 111,   6, 112,  54, 113, 114,  23, 174,  40, 256, 115,  51,\n",
       "        55, 116, 117, 118, 119, 120, 162,  16, 121, 144, 245,  35,  42,\n",
       "       122,  81, 123, 124, 152,  30, 284, 125, 126, 127, 178,  26,  10,\n",
       "       235,  28, 128,  17, 129,  70, 314, 150, 130, 184, 131, 132, 300,\n",
       "       247, 299,   1, 133,  67, 134, 135, 136, 304, 137, 138, 139,  18,\n",
       "       261, 249], dtype=int64)"
      ]
     },
     "execution_count": 44,
     "metadata": {},
     "output_type": "execute_result"
    }
   ],
   "source": [
    "roi_matching['matching_master_roi_index_list'][si]"
   ]
  },
  {
   "cell_type": "code",
   "execution_count": 53,
   "metadata": {},
   "outputs": [
    {
     "data": {
      "text/plain": [
       "(array([29], dtype=int64),)"
      ]
     },
     "execution_count": 53,
     "metadata": {},
     "output_type": "execute_result"
    }
   ],
   "source": [
    "np.where(master_roi_results['viable_cell_index_list'][si]==37)"
   ]
  },
  {
   "cell_type": "code",
   "execution_count": 52,
   "metadata": {},
   "outputs": [
    {
     "data": {
      "text/plain": [
       "(array([37], dtype=int64),)"
      ]
     },
     "execution_count": 52,
     "metadata": {},
     "output_type": "execute_result"
    }
   ],
   "source": [
    "np.where(roi_matching['matching_master_roi_index_list'][si]==3)"
   ]
  },
  {
   "cell_type": "code",
   "execution_count": 51,
   "metadata": {},
   "outputs": [
    {
     "data": {
      "text/plain": [
       "array([  3,   6,  17,  20,  21,  23,  39,  40,  42,  51,  55,  57,  67,\n",
       "        70,  90,  91,  92,  94, 101, 104, 109, 115, 119, 120, 131, 133,\n",
       "       141, 149, 174, 214, 223, 242, 249, 299, 300, 304, 315], dtype=int64)"
      ]
     },
     "execution_count": 51,
     "metadata": {},
     "output_type": "execute_result"
    }
   ],
   "source": [
    "matched_master_roi_inds"
   ]
  },
  {
   "cell_type": "code",
   "execution_count": 6,
   "metadata": {},
   "outputs": [],
   "source": [
    "i = 0\n",
    "session = sessions[i]\n",
    "roi_dir = plane_dir / f'{session:03}/plane0/roi'\n",
    "iscell = np.load(roi_dir / 'iscell.npy')\n",
    "iscell_inds = np.where(iscell[:,0])[0]\n"
   ]
  },
  {
   "cell_type": "code",
   "execution_count": 9,
   "metadata": {},
   "outputs": [],
   "source": [
    "iscell_inds_viable_cell_index = np.where(np.isin(master_roi_results['viable_cell_index_list'][si],\n",
    "                                                iscell_inds))[0]"
   ]
  },
  {
   "cell_type": "code",
   "execution_count": 14,
   "metadata": {},
   "outputs": [
    {
     "data": {
      "text/plain": [
       "array([ 90,  57,  37,  91,  92,  20, 214,  38,  63,  93,  39,  21,  94,\n",
       "        95,  96, 141,  97,  98,  99, 315,  44, 149, 209,  45, 100, 101,\n",
       "       242, 102, 103, 104,  46, 223, 105, 106, 107, 109,   3, 251, 111,\n",
       "         6, 112,  54, 114,  23, 174,  40, 256, 115,  51,  55, 116, 117,\n",
       "       118, 119, 120, 162,  16, 144,  35,  42, 122,  81, 123, 126, 127,\n",
       "        17, 129,  70, 150, 130, 131, 132, 300, 247, 299,   1, 133,  67,\n",
       "       134, 136, 304, 137, 138, 139,  18, 261, 249], dtype=int64)"
      ]
     },
     "execution_count": 14,
     "metadata": {},
     "output_type": "execute_result"
    }
   ],
   "source": [
    "roi_matching['matching_master_roi_index_list'][si][iscell_inds_viable_cell_index]"
   ]
  },
  {
   "cell_type": "code",
   "execution_count": 36,
   "metadata": {},
   "outputs": [
    {
     "name": "stdout",
     "output_type": "stream",
     "text": [
      "37\n"
     ]
    }
   ],
   "source": [
    "remove_notcell = True\n",
    "session_to_master = []\n",
    "for i, si in enumerate(session_inds_master_roi):\n",
    "    if remove_notcell:\n",
    "        session = sessions[i]\n",
    "        roi_dir = plane_dir / f'{session:03}/plane0/roi'\n",
    "        iscell = np.load(roi_dir / 'iscell.npy')\n",
    "        iscell_inds = np.where(iscell[:,0])[0]\n",
    "        iscell_inds_viable_cell_index = np.where(np.isin(master_roi_results['viable_cell_index_list'][si],\n",
    "                                                        iscell_inds))[0]\n",
    "    else:\n",
    "        iscell_inds_viable_cell_index = range(len(master_roi_results['viable_cell_index_list'][si]))\n",
    "    assert len(roi_matching['matching_master_roi_index_list'][si]) == len(master_roi_results['viable_cell_index_list'][si])\n",
    "    session_to_master.append(roi_matching['matching_master_roi_index_list'][si][iscell_inds_viable_cell_index])\n",
    "\n",
    "matched_master_roi_inds = session_to_master[0]\n",
    "for si in range(1,len(sessions)):\n",
    "    matched_master_roi_inds = np.intersect1d(matched_master_roi_inds, session_to_master[si])\n",
    "\n",
    "print(len(matched_master_roi_inds))"
   ]
  },
  {
   "cell_type": "code",
   "execution_count": 54,
   "metadata": {},
   "outputs": [],
   "source": [
    "roi_ind_matched_ordered = []\n",
    "if len(matched_master_roi_inds) > 0:        \n",
    "    viable_cell_index = [master_roi_results['viable_cell_index_list'][si] for si in session_inds_master_roi]\n",
    "    session_to_master_again = [roi_matching['matching_master_roi_index_list'][si] for si in session_inds_master_roi]\n",
    "    for si in range(len(sessions)):\n",
    "        viable_ind_matched_ordered = np.array([np.where(session_to_master_again[si]==ri)[0][0] for ri in matched_master_roi_inds])\n",
    "        session_roi_ind_matched_ordered = np.array([viable_cell_index[si][i] for i in viable_ind_matched_ordered])\n",
    "        roi_ind_matched_ordered.append(session_roi_ind_matched_ordered)\n",
    "        assert len(session_roi_ind_matched_ordered) == len(matched_master_roi_inds)"
   ]
  },
  {
   "cell_type": "code",
   "execution_count": 48,
   "metadata": {},
   "outputs": [
    {
     "data": {
      "text/plain": [
       "array([  0,   1,   4,   5,   6,   7,  12,  13,  14,  17,  25,  28,  33,\n",
       "        34,  37,  39,  43,  44,  50,  55,  56,  57,  60,  61,  62,  68,\n",
       "        69,  78,  84,  88,  91,  93,  95,  97,  98, 102, 109], dtype=int64)"
      ]
     },
     "execution_count": 48,
     "metadata": {},
     "output_type": "execute_result"
    }
   ],
   "source": [
    "np.sort(roi_ind_matched_ordered[0])"
   ]
  },
  {
   "cell_type": "code",
   "execution_count": 56,
   "metadata": {},
   "outputs": [
    {
     "data": {
      "text/plain": [
       "True"
      ]
     },
     "execution_count": 56,
     "metadata": {},
     "output_type": "execute_result"
    }
   ],
   "source": [
    "i = 0\n",
    "session = sessions[i]\n",
    "roi_dir = plane_dir / f'{session:03}/plane0/roi'\n",
    "iscell = np.load(roi_dir / 'iscell.npy')\n",
    "iscell_inds = np.where(iscell[:,0])[0]\n",
    "np.isin(roi_ind_matched_ordered[i], iscell_inds).all()"
   ]
  },
  {
   "cell_type": "code",
   "execution_count": null,
   "metadata": {},
   "outputs": [],
   "source": [
    "session_to_master = []\n",
    "for si in session_inds_master_roi:\n",
    "    session_to_master.append(roi_matching['matching_master_roi_index_list'][si])\n",
    "\n",
    "matched_master_roi_inds = session_to_master[0]\n",
    "for si in range(1,len(sessions)):\n",
    "    matched_master_roi_inds = np.intersect1d(matched_master_roi_inds, session_to_master[si])\n",
    "\n",
    "roi_ind_matched_ordered = []\n",
    "if len(matched_master_roi_inds) > 0:\n",
    "    viable_cell_index = [master_roi_results['viable_cell_index_list'][si] for si in session_inds_master_roi]\n",
    "    session_to_master_again = [roi_matching['matching_master_roi_index_list'][si] for si in session_inds_master_roi]\n",
    "    for si in range(len(sessions)):\n",
    "        viable_ind_matched_ordered = np.array([np.where(session_to_master_again[si]==ri)[0][0] for ri in matched_master_roi_inds])\n",
    "        roi_ind_matched_ordered.append(np.array([viable_cell_index[si][i] for i in viable_ind_matched_ordered]))\n"
   ]
  }
 ],
 "metadata": {
  "kernelspec": {
   "display_name": "suite2p",
   "language": "python",
   "name": "python3"
  },
  "language_info": {
   "codemirror_mode": {
    "name": "ipython",
    "version": 3
   },
   "file_extension": ".py",
   "mimetype": "text/x-python",
   "name": "python",
   "nbconvert_exporter": "python",
   "pygments_lexer": "ipython3",
   "version": "3.8.11"
  }
 },
 "nbformat": 4,
 "nbformat_minor": 2
}
