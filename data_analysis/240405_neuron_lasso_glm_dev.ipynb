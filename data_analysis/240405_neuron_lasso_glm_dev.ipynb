{
 "cells": [
  {
   "cell_type": "markdown",
   "metadata": {},
   "source": [
    "# Purpose:\n",
    "- Develop Lasso regression for neuronal activities\n",
    "- Using the same design matrix and splits as from the ridge.\n",
    "- pyglmnet or sklearn?"
   ]
  },
  {
   "cell_type": "code",
   "execution_count": 2,
   "metadata": {},
   "outputs": [
    {
     "name": "stderr",
     "output_type": "stream",
     "text": [
      "c:\\Users\\shires\\.conda\\envs\\suite2p\\lib\\site-packages\\pandas\\core\\indexing.py:1667: SettingWithCopyWarning: \n",
      "A value is trying to be set on a copy of a slice from a DataFrame.\n",
      "Try using .loc[row_indexer,col_indexer] = value instead\n",
      "\n",
      "See the caveats in the documentation: https://pandas.pydata.org/pandas-docs/stable/user_guide/indexing.html#returning-a-view-versus-a-copy\n",
      "  self.obj[key] = value\n"
     ]
    }
   ],
   "source": [
    "# from pyglmnet import GLM\n",
    "import numpy as np\n",
    "import pandas as pd\n",
    "from importlib import reload\n",
    "from pathlib import Path\n",
    "import matplotlib.pyplot as plt\n",
    "import matplotlib\n",
    "matplotlib.style.use('default')\n",
    "import xarray as xr\n",
    "from utils import lda_angle_discrim as lad\n",
    "from sklearn.linear_model import ElasticNet\n",
    "import socket\n",
    "hostname = socket.gethostname()\n",
    "\n",
    "if hostname == 'HNB228-LABPC6':\n",
    "    base_dir = Path(r'D:\\JK\\h5')\n",
    "    b_dir = Path(r'D:\\JK\\SoloData')\n",
    "else:\n",
    "    base_dir = Path(r'E:\\TPM\\JK\\h5')\n",
    "    b_dir = Path(r'E:\\TPM\\JK\\SoloData')\n",
    "results_dir = base_dir / 'results'\n",
    "wf_dir = results_dir / 'touch_whisker_features'\n",
    "\n",
    "expert_mice_df = pd.read_csv(base_dir / 'expert_mice.csv', index_col=0)\n",
    "use_mice_df = expert_mice_df.loc[expert_mice_df['depth_matched'].astype(bool) & \n",
    "                                 ~expert_mice_df['processing_error'].astype(bool) &\n",
    "                                 ((expert_mice_df.session_type == 'training') |\n",
    "                                  (expert_mice_df.session_type.str.contains('test')))]\n",
    "use_volume_df = use_mice_df.query('plane in [1, 5]')\n",
    "use_volume_df.loc[:, 'volume'] = use_volume_df['plane'].apply(lambda x: 1 if x==1 else 2)\n",
    "training_volume_df = use_volume_df.query('session_type == \"training\"')\n",
    "remove_ind = training_volume_df.query('mouse==27 and session==\"15\"')\n",
    "training_volume_df = training_volume_df.drop(remove_ind.index)\n",
    "remove_ind = training_volume_df.query('mouse==36 and session==\"9\"')\n",
    "training_volume_df = training_volume_df.drop(remove_ind.index)\n",
    "\n",
    "mice = [25,27,30,36,39,52]\n",
    "test_sessions = [[4,19], [3,8], [3,21], [1,17], [1,23], [3,21]]\n",
    "naive_sessions = [10, 4, 11, 6, 6, 11]"
   ]
  },
  {
   "cell_type": "code",
   "execution_count": 5,
   "metadata": {},
   "outputs": [],
   "source": [
    "ridge_dir = results_dir / 'neuron_glm/ridge/whisker_combined'\n",
    "lasso_dir = results_dir / 'neuron_glm/lasso/whisker_combined'\n"
   ]
  },
  {
   "cell_type": "code",
   "execution_count": 8,
   "metadata": {},
   "outputs": [],
   "source": [
    "mouse = 25\n",
    "plane = 1\n",
    "session = 1\n",
    "design_pkl = ridge_dir / f'JK{mouse:03}S{session:02}_plane{plane}_design_whisker_combined.pkl'\n",
    "design = pd.read_pickle(design_pkl)\n",
    "split_fn = ridge_dir / f'JK{mouse:03}S{session:02}_plane{plane}_glm_split.npy'\n",
    "split = np.load(split_fn, allow_pickle=True).item()\n",
    "rigde_result_fn = ridge_dir / f'JK{mouse:03}S{session:02}_plane{plane}_glm_result.nc'\n",
    "with xr.open_dataset(rigde_result_fn) as ds:\n",
    "    ridge_result = ds.load()\n"
   ]
  },
  {
   "cell_type": "code",
   "execution_count": 12,
   "metadata": {},
   "outputs": [],
   "source": [
    "traces = ridge_result['traces']\n",
    "X = ridge_result['X']"
   ]
  },
  {
   "cell_type": "code",
   "execution_count": 6,
   "metadata": {},
   "outputs": [
    {
     "data": {
      "text/plain": [
       "dict_keys(['lambda_groups', 'fit_groups'])"
      ]
     },
     "execution_count": 6,
     "metadata": {},
     "output_type": "execute_result"
    }
   ],
   "source": [
    "split.keys()"
   ]
  },
  {
   "cell_type": "code",
   "execution_count": 43,
   "metadata": {},
   "outputs": [
    {
     "data": {
      "text/plain": [
       "array([1.00000000e-04, 1.62377674e-04, 2.63665090e-04, 4.28133240e-04,\n",
       "       6.95192796e-04, 1.12883789e-03, 1.83298071e-03, 2.97635144e-03,\n",
       "       4.83293024e-03, 7.84759970e-03, 1.27427499e-02, 2.06913808e-02,\n",
       "       3.35981829e-02, 5.45559478e-02, 8.85866790e-02, 1.43844989e-01,\n",
       "       2.33572147e-01, 3.79269019e-01, 6.15848211e-01, 1.00000000e+00])"
      ]
     },
     "execution_count": 43,
     "metadata": {},
     "output_type": "execute_result"
    }
   ],
   "source": [
    "lam_grid = np.logspace(-4, 0, 20)\n",
    "lam_grid"
   ]
  },
  {
   "cell_type": "code",
   "execution_count": 85,
   "metadata": {},
   "outputs": [],
   "source": [
    "lambda_groups = split['lambda_groups']\n",
    "num_lam_splits = len(lambda_groups)\n",
    "n_cells = traces.shape[1]\n",
    "n_lams = len(lam_grid)\n",
    "varexps = np.zeros((n_cells, n_lams, num_lam_splits))\n",
    "for lam_i, lam in enumerate(lam_grid):\n",
    "    for spi in range(num_lam_splits):\n",
    "        train_inds = np.concatenate([lambda_groups[i] for i in range(num_lam_splits) if i != spi])\n",
    "        test_inds = lambda_groups[spi]\n",
    "        X_train = X.isel(index=train_inds)\n",
    "        X_test = X.isel(index=test_inds)\n",
    "        y_train = traces.isel(index=train_inds)\n",
    "        y_test = traces.isel(index=test_inds)\n",
    "        glm = ElasticNet(alpha=lam, l1_ratio=0.95, fit_intercept=False)\n",
    "        glm.fit(X_train, y_train)\n",
    "        y_pred = glm.predict(X_test)\n",
    "        varexps[:, lam_i, spi] = 1 - np.var(y_test - y_pred, axis=0) / np.var(y_test, axis=0)\n",
    "varexps[np.isinf(varexps)] = np.nan\n",
    "mean_varexps = np.nanmean(varexps, axis=2)"
   ]
  },
  {
   "cell_type": "code",
   "execution_count": 42,
   "metadata": {},
   "outputs": [
    {
     "data": {
      "text/plain": [
       "array([1.00000000e-08, 2.63665090e-08, 6.95192796e-08, 1.83298071e-07,\n",
       "       4.83293024e-07, 1.27427499e-06, 3.35981829e-06, 8.85866790e-06,\n",
       "       2.33572147e-05, 6.15848211e-05, 1.62377674e-04, 4.28133240e-04,\n",
       "       1.12883789e-03, 2.97635144e-03, 7.84759970e-03, 2.06913808e-02,\n",
       "       5.45559478e-02, 1.43844989e-01, 3.79269019e-01, 1.00000000e+00])"
      ]
     },
     "execution_count": 42,
     "metadata": {},
     "output_type": "execute_result"
    }
   ],
   "source": [
    "lam_grid"
   ]
  },
  {
   "cell_type": "code",
   "execution_count": 46,
   "metadata": {},
   "outputs": [
    {
     "data": {
      "text/plain": [
       "array([12,  4,  5, 14, 14, 10, 14,  9,  6, 11, 10,  9,  9, 12, 10, 10, 11,\n",
       "        9,  9, 11, 11, 12, 13, 12,  9, 13,  8, 12, 10,  9, 10,  9, 14,  8,\n",
       "       11, 11,  8,  9, 13, 11, 10,  9, 10, 10, 10,  9,  9, 10, 12,  7, 11,\n",
       "       10, 14, 10, 11, 14, 13, 11, 11, 11,  9, 10,  9, 10,  9, 10,  9, 10,\n",
       "       11,  9, 12, 10, 10,  9, 11,  9,  9,  6, 12,  9, 11, 10,  8,  9,  8,\n",
       "       15,  9,  8,  9,  9,  8, 11, 12, 10, 10, 10,  9, 10, 10, 13, 11,  8,\n",
       "        9, 13,  8, 10, 10, 13, 11,  9,  5,  9,  8, 12, 14,  9, 10, 11,  9,\n",
       "       11], dtype=int64)"
      ]
     },
     "execution_count": 46,
     "metadata": {},
     "output_type": "execute_result"
    }
   ],
   "source": [
    "np.argmax(mean_varexps, axis=1)"
   ]
  },
  {
   "cell_type": "code",
   "execution_count": 45,
   "metadata": {},
   "outputs": [
    {
     "data": {
      "text/plain": [
       "array([0.03359818, 0.00069519, 0.00112884, 0.08858668, 0.08858668,\n",
       "       0.01274275, 0.08858668, 0.0078476 , 0.00183298, 0.02069138,\n",
       "       0.01274275, 0.0078476 , 0.0078476 , 0.03359818, 0.01274275,\n",
       "       0.01274275, 0.02069138, 0.0078476 , 0.0078476 , 0.02069138,\n",
       "       0.02069138, 0.03359818, 0.05455595, 0.03359818, 0.0078476 ,\n",
       "       0.05455595, 0.00483293, 0.03359818, 0.01274275, 0.0078476 ,\n",
       "       0.01274275, 0.0078476 , 0.08858668, 0.00483293, 0.02069138,\n",
       "       0.02069138, 0.00483293, 0.0078476 , 0.05455595, 0.02069138,\n",
       "       0.01274275, 0.0078476 , 0.01274275, 0.01274275, 0.01274275,\n",
       "       0.0078476 , 0.0078476 , 0.01274275, 0.03359818, 0.00297635,\n",
       "       0.02069138, 0.01274275, 0.08858668, 0.01274275, 0.02069138,\n",
       "       0.08858668, 0.05455595, 0.02069138, 0.02069138, 0.02069138,\n",
       "       0.0078476 , 0.01274275, 0.0078476 , 0.01274275, 0.0078476 ,\n",
       "       0.01274275, 0.0078476 , 0.01274275, 0.02069138, 0.0078476 ,\n",
       "       0.03359818, 0.01274275, 0.01274275, 0.0078476 , 0.02069138,\n",
       "       0.0078476 , 0.0078476 , 0.00183298, 0.03359818, 0.0078476 ,\n",
       "       0.02069138, 0.01274275, 0.00483293, 0.0078476 , 0.00483293,\n",
       "       0.14384499, 0.0078476 , 0.00483293, 0.0078476 , 0.0078476 ,\n",
       "       0.00483293, 0.02069138, 0.03359818, 0.01274275, 0.01274275,\n",
       "       0.01274275, 0.0078476 , 0.01274275, 0.01274275, 0.05455595,\n",
       "       0.02069138, 0.00483293, 0.0078476 , 0.05455595, 0.00483293,\n",
       "       0.01274275, 0.01274275, 0.05455595, 0.02069138, 0.0078476 ,\n",
       "       0.00112884, 0.0078476 , 0.00483293, 0.03359818, 0.08858668,\n",
       "       0.0078476 , 0.01274275, 0.02069138, 0.0078476 , 0.02069138])"
      ]
     },
     "execution_count": 45,
     "metadata": {},
     "output_type": "execute_result"
    }
   ],
   "source": [
    "lam_grid[np.argmax(mean_varexps, axis=1)]"
   ]
  },
  {
   "cell_type": "code",
   "execution_count": 88,
   "metadata": {},
   "outputs": [
    {
     "data": {
      "text/plain": [
       "(array([72., 16.,  7.,  5.,  4.,  5.,  4.,  2.,  3.,  2.]),\n",
       " array([-2.96020282e-06,  3.34829660e-02,  6.69688922e-02,  1.00454818e-01,\n",
       "         1.33940745e-01,  1.67426671e-01,  2.00912597e-01,  2.34398523e-01,\n",
       "         2.67884449e-01,  3.01370376e-01,  3.34856302e-01]),\n",
       " <BarContainer object of 10 artists>)"
      ]
     },
     "execution_count": 88,
     "metadata": {},
     "output_type": "execute_result"
    },
    {
     "data": {
      "image/png": "[encoded data removed]",
      "text/plain": [
       "<Figure size 432x288 with 1 Axes>"
      ]
     },
     "metadata": {
      "needs_background": "light"
     },
     "output_type": "display_data"
    }
   ],
   "source": [
    "plt.hist(np.amax(mean_varexps, axis=1))"
   ]
  },
  {
   "cell_type": "code",
   "execution_count": 86,
   "metadata": {},
   "outputs": [],
   "source": [
    "def fit_glm_lasso(trace, X, lam, fit_intercept=False):\n",
    "    if fit_intercept == False:\n",
    "        assert 'intercept' in X.feature.values\n",
    "    glm = ElasticNet(alpha=lam, l1_ratio=0.95, fit_intercept=fit_intercept)\n",
    "    glm.fit(X, trace)\n",
    "    return glm"
   ]
  },
  {
   "cell_type": "code",
   "execution_count": 98,
   "metadata": {},
   "outputs": [],
   "source": [
    "def glm_variance_ratio(glm, trace, X):\n",
    "    pred = glm.predict(X)\n",
    "    ve = 1 - np.var(trace - pred, axis=0) / np.var(trace, axis=0)\n",
    "    return pred, ve"
   ]
  },
  {
   "cell_type": "code",
   "execution_count": 52,
   "metadata": {},
   "outputs": [],
   "source": [
    "def variance_ratio(traces, W, X): \n",
    "    '''\n",
    "    Computes the fraction of variance in traces explained by the linear model Y = X*W\n",
    "    \n",
    "    traces: xarray (n_frames, n_cells)\n",
    "    W: xarray (n_features, n_cells)\n",
    "    X: xarray (n_frames, n_features)\n",
    "    '''\n",
    "    if len(traces.shape) == 1:\n",
    "        assert len(traces) == X.shape[0]\n",
    "        trace = traces.values[:,np.newaxis]\n",
    "    elif len(traces.shape) == 2:\n",
    "        trace = traces.values\n",
    "    pred = X.values @ W.values\n",
    "    ve = 1 - (np.var(trace - pred, axis=0) / np.var(trace, axis=0))\n",
    "    return pred, ve"
   ]
  },
  {
   "cell_type": "code",
   "execution_count": 99,
   "metadata": {},
   "outputs": [],
   "source": [
    "fit_groups = split['fit_groups']\n",
    "lambdas = lam_grid[np.argmax(mean_varexps, axis=1)]\n",
    "\n",
    "predicted_fold = np.zeros(traces.shape)\n",
    "varexp_fold = np.zeros((traces.shape[1], len(fit_groups)))\n",
    "W_all = xr.DataArray(np.zeros((X.shape[-1], traces.shape[1], len(fit_groups))),\n",
    "                    dims=('feature', 'cell_id', 'fold'),\n",
    "                    coords={'feature': X.feature.values,\n",
    "                            'cell_id': traces.cell_id.values,\n",
    "                            'fold': [f'fold_{i}' for i in np.arange(len(fit_groups))]})\n",
    "\n",
    "for fi in range(len(fit_groups)):\n",
    "    train_inds = np.concatenate([fit_groups[k] for k in np.setdiff1d(range(len(fit_groups)), fi)])\n",
    "    test_inds = fit_groups[fi]\n",
    "    for ci in range(traces.shape[1]):\n",
    "        lam = lambdas[ci]\n",
    "        glm = fit_glm_lasso(traces.isel(index=train_inds,cell_id=ci), X.isel(index=train_inds), lam,\n",
    "                            fit_intercept=False)\n",
    "        W_all[:,ci,fi] = glm.coef_.squeeze()\n",
    "        pred, ve = glm_variance_ratio(glm, traces.isel(index=test_inds,cell_id=ci), X.isel(index=test_inds))\n",
    "        predicted_fold[test_inds,ci] = pred.reshape((len(test_inds),))\n",
    "        varexp_fold[ci, fi] = ve\n",
    "varexp_fold = xr.DataArray(varexp_fold,\n",
    "                            dims=('cell_id', 'fold'),\n",
    "                            coords={'cell_id':traces.cell_id.values,\n",
    "                                    'fold': [f'fold_{i}' for i in np.arange(len(fit_groups))]})\n",
    "predicted_fold = xr.DataArray(predicted_fold, dims=('index', 'cell_id'),\n",
    "                            coords={'index':traces.index.values,\n",
    "                                    'cell_id':traces.cell_id.values})\n",
    "\n",
    "# adding final model of a cell  \n",
    "W_final = W_all.mean(dim='fold')\n",
    "pred_final_w, ve_final_w = variance_ratio(traces, W_final, X)\n",
    "glm = ElasticNet(alpha=1, l1_ratio=0.95, fit_intercept=False)\n",
    "glm.coef_ = W_final.values.T\n",
    "glm.intercept_ = 0\n",
    "pred_final, ve_final = glm_variance_ratio(glm, traces, X)\n",
    "predicted_final = xr.DataArray(pred_final, dims=('index', 'cell_id'),\n",
    "                            coords={'index':traces.index.values,\n",
    "                                    'cell_id':traces.cell_id.values})\n",
    "ve_final = xr.DataArray(ve_final, dims=('cell_id'),\n",
    "                            coords={'cell_id':traces.cell_id.values})"
   ]
  },
  {
   "cell_type": "code",
   "execution_count": 105,
   "metadata": {},
   "outputs": [
    {
     "data": {
      "text/plain": [
       "array(['intercept', 'theta_onset_0', 'theta_onset_1', 'theta_onset_2',\n",
       "       'phi_onset_0', 'phi_onset_1', 'phi_onset_2', 'kappaH_onset_0',\n",
       "       'kappaH_onset_1', 'kappaH_onset_2', 'kappaV_onset_0',\n",
       "       'kappaV_onset_1', 'kappaV_onset_2', 'arc_length_onset_0',\n",
       "       'arc_length_onset_1', 'arc_length_onset_2', 'touch_count_0',\n",
       "       'touch_count_1', 'touch_count_2', 'delta_theta_0', 'delta_theta_1',\n",
       "       'delta_theta_2', 'delta_phi_0', 'delta_phi_1', 'delta_phi_2',\n",
       "       'delta_kappaH_0', 'delta_kappaH_1', 'delta_kappaH_2',\n",
       "       'delta_kappaV_0', 'delta_kappaV_1', 'delta_kappaV_2',\n",
       "       'touch_duration_0', 'touch_duration_1', 'touch_duration_2',\n",
       "       'slide_distance_0', 'slide_distance_1', 'slide_distance_2',\n",
       "       'num_whisks_-2', 'num_whisks_-1', 'num_whisks_0', 'num_whisks_1',\n",
       "       'num_whisks_2', 'num_whisks_3', 'num_whisks_4', 'midpoint_-2',\n",
       "       'midpoint_-1', 'midpoint_0', 'midpoint_1', 'midpoint_2',\n",
       "       'midpoint_3', 'midpoint_4', 'amplitude_-2', 'amplitude_-1',\n",
       "       'amplitude_0', 'amplitude_1', 'amplitude_2', 'amplitude_3',\n",
       "       'amplitude_4', 'num_lick_left_-2', 'num_lick_left_-1',\n",
       "       'num_lick_left_0', 'num_lick_left_1', 'num_lick_left_2',\n",
       "       'num_lick_right_-2', 'num_lick_right_-1', 'num_lick_right_0',\n",
       "       'num_lick_right_1', 'num_lick_right_2', 'pole_in_frame_0',\n",
       "       'pole_in_frame_1', 'pole_in_frame_2', 'pole_in_frame_3',\n",
       "       'pole_in_frame_4', 'pole_out_frame_0', 'pole_out_frame_1',\n",
       "       'pole_out_frame_2', 'pole_out_frame_3', 'pole_out_frame_4',\n",
       "       'first_reward_lick_left_0', 'first_reward_lick_left_1',\n",
       "       'first_reward_lick_left_2', 'first_reward_lick_left_3',\n",
       "       'first_reward_lick_left_4', 'first_reward_lick_right_0',\n",
       "       'first_reward_lick_right_1', 'first_reward_lick_right_2',\n",
       "       'first_reward_lick_right_3', 'first_reward_lick_right_4'],\n",
       "      dtype=object)"
      ]
     },
     "execution_count": 105,
     "metadata": {},
     "output_type": "execute_result"
    }
   ],
   "source": [
    "X.feature.values\n"
   ]
  },
  {
   "cell_type": "code",
   "execution_count": 80,
   "metadata": {},
   "outputs": [
    {
     "data": {
      "text/html": [
       "<div><svg style=\"position: absolute; width: 0; height: 0; overflow: hidden\">\n",
       "<defs>\n",
       "<symbol id=\"icon-database\" viewBox=\"0 0 32 32\">\n",
       "<path d=\"M16 0c-8.837 0-16 2.239-16 5v4c0 2.761 7.163 5 16 5s16-2.239 16-5v-4c0-2.761-7.163-5-16-5z\"></path>\n",
       "<path d=\"M16 17c-8.837 0-16-2.239-16-5v6c0 2.761 7.163 5 16 5s16-2.239 16-5v-6c0 2.761-7.163 5-16 5z\"></path>\n",
       "<path d=\"M16 26c-8.837 0-16-2.239-16-5v6c0 2.761 7.163 5 16 5s16-2.239 16-5v-6c0 2.761-7.163 5-16 5z\"></path>\n",
       "</symbol>\n",
       "<symbol id=\"icon-file-text2\" viewBox=\"0 0 32 32\">\n",
       "<path d=\"M28.681 7.159c-0.694-0.947-1.662-2.053-2.724-3.116s-2.169-2.030-3.116-2.724c-1.612-1.182-2.393-1.319-2.841-1.319h-15.5c-1.378 0-2.5 1.121-2.5 2.5v27c0 1.378 1.122 2.5 2.5 2.5h23c1.378 0 2.5-1.122 2.5-2.5v-19.5c0-0.448-0.137-1.23-1.319-2.841zM24.543 5.457c0.959 0.959 1.712 1.825 2.268 2.543h-4.811v-4.811c0.718 0.556 1.584 1.309 2.543 2.268zM28 29.5c0 0.271-0.229 0.5-0.5 0.5h-23c-0.271 0-0.5-0.229-0.5-0.5v-27c0-0.271 0.229-0.5 0.5-0.5 0 0 15.499-0 15.5 0v7c0 0.552 0.448 1 1 1h7v19.5z\"></path>\n",
       "<path d=\"M23 26h-14c-0.552 0-1-0.448-1-1s0.448-1 1-1h14c0.552 0 1 0.448 1 1s-0.448 1-1 1z\"></path>\n",
       "<path d=\"M23 22h-14c-0.552 0-1-0.448-1-1s0.448-1 1-1h14c0.552 0 1 0.448 1 1s-0.448 1-1 1z\"></path>\n",
       "<path d=\"M23 18h-14c-0.552 0-1-0.448-1-1s0.448-1 1-1h14c0.552 0 1 0.448 1 1s-0.448 1-1 1z\"></path>\n",
       "</symbol>\n",
       "</defs>\n",
       "</svg>\n",
       "<style>/* CSS stylesheet for displaying xarray objects in jupyterlab.\n",
       " *\n",
       " */\n",
       "\n",
       ":root {\n",
       "  --xr-font-color0: var(--jp-content-font-color0, rgba(0, 0, 0, 1));\n",
       "  --xr-font-color2: var(--jp-content-font-color2, rgba(0, 0, 0, 0.54));\n",
       "  --xr-font-color3: var(--jp-content-font-color3, rgba(0, 0, 0, 0.38));\n",
       "  --xr-border-color: var(--jp-border-color2, #e0e0e0);\n",
       "  --xr-disabled-color: var(--jp-layout-color3, #bdbdbd);\n",
       "  --xr-background-color: var(--jp-layout-color0, white);\n",
       "  --xr-background-color-row-even: var(--jp-layout-color1, white);\n",
       "  --xr-background-color-row-odd: var(--jp-layout-color2, #eeeeee);\n",
       "}\n",
       "\n",
       "html[theme=dark],\n",
       "body[data-theme=dark],\n",
       "body.vscode-dark {\n",
       "  --xr-font-color0: rgba(255, 255, 255, 1);\n",
       "  --xr-font-color2: rgba(255, 255, 255, 0.54);\n",
       "  --xr-font-color3: rgba(255, 255, 255, 0.38);\n",
       "  --xr-border-color: #1F1F1F;\n",
       "  --xr-disabled-color: #515151;\n",
       "  --xr-background-color: #111111;\n",
       "  --xr-background-color-row-even: #111111;\n",
       "  --xr-background-color-row-odd: #313131;\n",
       "}\n",
       "\n",
       ".xr-wrap {\n",
       "  display: block !important;\n",
       "  min-width: 300px;\n",
       "  max-width: 700px;\n",
       "}\n",
       "\n",
       ".xr-text-repr-fallback {\n",
       "  /* fallback to plain text repr when CSS is not injected (untrusted notebook) */\n",
       "  display: none;\n",
       "}\n",
       "\n",
       ".xr-header {\n",
       "  padding-top: 6px;\n",
       "  padding-bottom: 6px;\n",
       "  margin-bottom: 4px;\n",
       "  border-bottom: solid 1px var(--xr-border-color);\n",
       "}\n",
       "\n",
       ".xr-header > div,\n",
       ".xr-header > ul {\n",
       "  display: inline;\n",
       "  margin-top: 0;\n",
       "  margin-bottom: 0;\n",
       "}\n",
       "\n",
       ".xr-obj-type,\n",
       ".xr-array-name {\n",
       "  margin-left: 2px;\n",
       "  margin-right: 10px;\n",
       "}\n",
       "\n",
       ".xr-obj-type {\n",
       "  color: var(--xr-font-color2);\n",
       "}\n",
       "\n",
       ".xr-sections {\n",
       "  padding-left: 0 !important;\n",
       "  display: grid;\n",
       "  grid-template-columns: 150px auto auto 1fr 20px 20px;\n",
       "}\n",
       "\n",
       ".xr-section-item {\n",
       "  display: contents;\n",
       "}\n",
       "\n",
       ".xr-section-item input {\n",
       "  display: none;\n",
       "}\n",
       "\n",
       ".xr-section-item input + label {\n",
       "  color: var(--xr-disabled-color);\n",
       "}\n",
       "\n",
       ".xr-section-item input:enabled + label {\n",
       "  cursor: pointer;\n",
       "  color: var(--xr-font-color2);\n",
       "}\n",
       "\n",
       ".xr-section-item input:enabled + label:hover {\n",
       "  color: var(--xr-font-color0);\n",
       "}\n",
       "\n",
       ".xr-section-summary {\n",
       "  grid-column: 1;\n",
       "  color: var(--xr-font-color2);\n",
       "  font-weight: 500;\n",
       "}\n",
       "\n",
       ".xr-section-summary > span {\n",
       "  display: inline-block;\n",
       "  padding-left: 0.5em;\n",
       "}\n",
       "\n",
       ".xr-section-summary-in:disabled + label {\n",
       "  color: var(--xr-font-color2);\n",
       "}\n",
       "\n",
       ".xr-section-summary-in + label:before {\n",
       "  display: inline-block;\n",
       "  content: '►';\n",
       "  font-size: 11px;\n",
       "  width: 15px;\n",
       "  text-align: center;\n",
       "}\n",
       "\n",
       ".xr-section-summary-in:disabled + label:before {\n",
       "  color: var(--xr-disabled-color);\n",
       "}\n",
       "\n",
       ".xr-section-summary-in:checked + label:before {\n",
       "  content: '▼';\n",
       "}\n",
       "\n",
       ".xr-section-summary-in:checked + label > span {\n",
       "  display: none;\n",
       "}\n",
       "\n",
       ".xr-section-summary,\n",
       ".xr-section-inline-details {\n",
       "  padding-top: 4px;\n",
       "  padding-bottom: 4px;\n",
       "}\n",
       "\n",
       ".xr-section-inline-details {\n",
       "  grid-column: 2 / -1;\n",
       "}\n",
       "\n",
       ".xr-section-details {\n",
       "  display: none;\n",
       "  grid-column: 1 / -1;\n",
       "  margin-bottom: 5px;\n",
       "}\n",
       "\n",
       ".xr-section-summary-in:checked ~ .xr-section-details {\n",
       "  display: contents;\n",
       "}\n",
       "\n",
       ".xr-array-wrap {\n",
       "  grid-column: 1 / -1;\n",
       "  display: grid;\n",
       "  grid-template-columns: 20px auto;\n",
       "}\n",
       "\n",
       ".xr-array-wrap > label {\n",
       "  grid-column: 1;\n",
       "  vertical-align: top;\n",
       "}\n",
       "\n",
       ".xr-preview {\n",
       "  color: var(--xr-font-color3);\n",
       "}\n",
       "\n",
       ".xr-array-preview,\n",
       ".xr-array-data {\n",
       "  padding: 0 5px !important;\n",
       "  grid-column: 2;\n",
       "}\n",
       "\n",
       ".xr-array-data,\n",
       ".xr-array-in:checked ~ .xr-array-preview {\n",
       "  display: none;\n",
       "}\n",
       "\n",
       ".xr-array-in:checked ~ .xr-array-data,\n",
       ".xr-array-preview {\n",
       "  display: inline-block;\n",
       "}\n",
       "\n",
       ".xr-dim-list {\n",
       "  display: inline-block !important;\n",
       "  list-style: none;\n",
       "  padding: 0 !important;\n",
       "  margin: 0;\n",
       "}\n",
       "\n",
       ".xr-dim-list li {\n",
       "  display: inline-block;\n",
       "  padding: 0;\n",
       "  margin: 0;\n",
       "}\n",
       "\n",
       ".xr-dim-list:before {\n",
       "  content: '(';\n",
       "}\n",
       "\n",
       ".xr-dim-list:after {\n",
       "  content: ')';\n",
       "}\n",
       "\n",
       ".xr-dim-list li:not(:last-child):after {\n",
       "  content: ',';\n",
       "  padding-right: 5px;\n",
       "}\n",
       "\n",
       ".xr-has-index {\n",
       "  font-weight: bold;\n",
       "}\n",
       "\n",
       ".xr-var-list,\n",
       ".xr-var-item {\n",
       "  display: contents;\n",
       "}\n",
       "\n",
       ".xr-var-item > div,\n",
       ".xr-var-item label,\n",
       ".xr-var-item > .xr-var-name span {\n",
       "  background-color: var(--xr-background-color-row-even);\n",
       "  margin-bottom: 0;\n",
       "}\n",
       "\n",
       ".xr-var-item > .xr-var-name:hover span {\n",
       "  padding-right: 5px;\n",
       "}\n",
       "\n",
       ".xr-var-list > li:nth-child(odd) > div,\n",
       ".xr-var-list > li:nth-child(odd) > label,\n",
       ".xr-var-list > li:nth-child(odd) > .xr-var-name span {\n",
       "  background-color: var(--xr-background-color-row-odd);\n",
       "}\n",
       "\n",
       ".xr-var-name {\n",
       "  grid-column: 1;\n",
       "}\n",
       "\n",
       ".xr-var-dims {\n",
       "  grid-column: 2;\n",
       "}\n",
       "\n",
       ".xr-var-dtype {\n",
       "  grid-column: 3;\n",
       "  text-align: right;\n",
       "  color: var(--xr-font-color2);\n",
       "}\n",
       "\n",
       ".xr-var-preview {\n",
       "  grid-column: 4;\n",
       "}\n",
       "\n",
       ".xr-index-preview {\n",
       "  grid-column: 2 / 5;\n",
       "  color: var(--xr-font-color2);\n",
       "}\n",
       "\n",
       ".xr-var-name,\n",
       ".xr-var-dims,\n",
       ".xr-var-dtype,\n",
       ".xr-preview,\n",
       ".xr-attrs dt {\n",
       "  white-space: nowrap;\n",
       "  overflow: hidden;\n",
       "  text-overflow: ellipsis;\n",
       "  padding-right: 10px;\n",
       "}\n",
       "\n",
       ".xr-var-name:hover,\n",
       ".xr-var-dims:hover,\n",
       ".xr-var-dtype:hover,\n",
       ".xr-attrs dt:hover {\n",
       "  overflow: visible;\n",
       "  width: auto;\n",
       "  z-index: 1;\n",
       "}\n",
       "\n",
       ".xr-var-attrs,\n",
       ".xr-var-data,\n",
       ".xr-index-data {\n",
       "  display: none;\n",
       "  background-color: var(--xr-background-color) !important;\n",
       "  padding-bottom: 5px !important;\n",
       "}\n",
       "\n",
       ".xr-var-attrs-in:checked ~ .xr-var-attrs,\n",
       ".xr-var-data-in:checked ~ .xr-var-data,\n",
       ".xr-index-data-in:checked ~ .xr-index-data {\n",
       "  display: block;\n",
       "}\n",
       "\n",
       ".xr-var-data > table {\n",
       "  float: right;\n",
       "}\n",
       "\n",
       ".xr-var-name span,\n",
       ".xr-var-data,\n",
       ".xr-index-name div,\n",
       ".xr-index-data,\n",
       ".xr-attrs {\n",
       "  padding-left: 25px !important;\n",
       "}\n",
       "\n",
       ".xr-attrs,\n",
       ".xr-var-attrs,\n",
       ".xr-var-data,\n",
       ".xr-index-data {\n",
       "  grid-column: 1 / -1;\n",
       "}\n",
       "\n",
       "dl.xr-attrs {\n",
       "  padding: 0;\n",
       "  margin: 0;\n",
       "  display: grid;\n",
       "  grid-template-columns: 125px auto;\n",
       "}\n",
       "\n",
       ".xr-attrs dt,\n",
       ".xr-attrs dd {\n",
       "  padding: 0;\n",
       "  margin: 0;\n",
       "  float: left;\n",
       "  padding-right: 10px;\n",
       "  width: auto;\n",
       "}\n",
       "\n",
       ".xr-attrs dt {\n",
       "  font-weight: normal;\n",
       "  grid-column: 1;\n",
       "}\n",
       "\n",
       ".xr-attrs dt:hover span {\n",
       "  display: inline-block;\n",
       "  background: var(--xr-background-color);\n",
       "  padding-right: 10px;\n",
       "}\n",
       "\n",
       ".xr-attrs dd {\n",
       "  grid-column: 2;\n",
       "  white-space: pre-wrap;\n",
       "  word-break: break-all;\n",
       "}\n",
       "\n",
       ".xr-icon-database,\n",
       ".xr-icon-file-text2,\n",
       ".xr-no-icon {\n",
       "  display: inline-block;\n",
       "  vertical-align: middle;\n",
       "  width: 1em;\n",
       "  height: 1.5em !important;\n",
       "  stroke-width: 0;\n",
       "  stroke: currentColor;\n",
       "  fill: currentColor;\n",
       "}\n",
       "</style><pre class='xr-text-repr-fallback'>&lt;xarray.DataArray &#x27;traces&#x27; ()&gt;\n",
       "array(0.02660703)\n",
       "Coordinates:\n",
       "    cell_id  int32 0</pre><div class='xr-wrap' style='display:none'><div class='xr-header'><div class='xr-obj-type'>xarray.DataArray</div><div class='xr-array-name'>'traces'</div></div><ul class='xr-sections'><li class='xr-section-item'><div class='xr-array-wrap'><input id='section-5194a864-503f-4ce3-8330-900083b444dd' class='xr-array-in' type='checkbox' checked><label for='section-5194a864-503f-4ce3-8330-900083b444dd' title='Show/hide data repr'><svg class='icon xr-icon-database'><use xlink:href='#icon-database'></use></svg></label><div class='xr-array-preview xr-preview'><span>0.02661</span></div><div class='xr-array-data'><pre>array(0.02660703)</pre></div></div></li><li class='xr-section-item'><input id='section-c21e0cfa-d783-4cc8-83d7-ae67f6b4440b' class='xr-section-summary-in' type='checkbox'  checked><label for='section-c21e0cfa-d783-4cc8-83d7-ae67f6b4440b' class='xr-section-summary' >Coordinates: <span>(1)</span></label><div class='xr-section-inline-details'></div><div class='xr-section-details'><ul class='xr-var-list'><li class='xr-var-item'><div class='xr-var-name'><span>cell_id</span></div><div class='xr-var-dims'>()</div><div class='xr-var-dtype'>int32</div><div class='xr-var-preview xr-preview'>0</div><input id='attrs-cfc588ac-d3bf-48c5-9279-2262c624e9f8' class='xr-var-attrs-in' type='checkbox' disabled><label for='attrs-cfc588ac-d3bf-48c5-9279-2262c624e9f8' title='Show/Hide attributes'><svg class='icon xr-icon-file-text2'><use xlink:href='#icon-file-text2'></use></svg></label><input id='data-a52ef0e8-f593-46d3-8de1-884baa5bb61e' class='xr-var-data-in' type='checkbox'><label for='data-a52ef0e8-f593-46d3-8de1-884baa5bb61e' title='Show/Hide data repr'><svg class='icon xr-icon-database'><use xlink:href='#icon-database'></use></svg></label><div class='xr-var-attrs'><dl class='xr-attrs'></dl></div><div class='xr-var-data'><pre>array(0)</pre></div></li></ul></div></li><li class='xr-section-item'><input id='section-3e14ae4e-116b-40b4-907d-ee32f8d2d536' class='xr-section-summary-in' type='checkbox' disabled ><label for='section-3e14ae4e-116b-40b4-907d-ee32f8d2d536' class='xr-section-summary'  title='Expand/collapse section'>Indexes: <span>(0)</span></label><div class='xr-section-inline-details'></div><div class='xr-section-details'><ul class='xr-var-list'></ul></div></li><li class='xr-section-item'><input id='section-d4c26d48-a914-46c4-b71a-09bf9f81b81a' class='xr-section-summary-in' type='checkbox' disabled ><label for='section-d4c26d48-a914-46c4-b71a-09bf9f81b81a' class='xr-section-summary'  title='Expand/collapse section'>Attributes: <span>(0)</span></label><div class='xr-section-inline-details'></div><div class='xr-section-details'><dl class='xr-attrs'></dl></div></li></ul></div></div>"
      ],
      "text/plain": [
       "<xarray.DataArray 'traces' ()>\n",
       "array(0.02660703)\n",
       "Coordinates:\n",
       "    cell_id  int32 0"
      ]
     },
     "execution_count": 80,
     "metadata": {},
     "output_type": "execute_result"
    }
   ],
   "source": [
    "glm_variance_ratio(glm, traces.isel(index=test_inds,cell_id=ci), X.isel(index=test_inds))"
   ]
  },
  {
   "cell_type": "markdown",
   "metadata": {},
   "source": [
    "## For dropping features"
   ]
  },
  {
   "cell_type": "code",
   "execution_count": 106,
   "metadata": {},
   "outputs": [],
   "source": [
    "whisker_feature_names_base = ['theta_onset', 'phi_onset', 'kappaH_onset', 'kappaV_onset',\n",
    "        'arc_length_onset', 'touch_count', 'delta_theta', 'delta_phi',\n",
    "        'delta_kappaH', 'delta_kappaV', 'touch_duration', 'slide_distance']\n",
    "whisker_feature_names = [key for key in X.feature.values if sum([wfnb in key for wfnb in whisker_feature_names_base])==1]\n",
    "whisking_names = [key for key in X.feature.values if ('num_whisks' in key) or ('midpoint' in key) or ('amplitude' in key)]\n",
    "lick_names = [key for key in X.feature.values if 'num_lick' in key]\n",
    "sound_names = [key for key in X.feature.values if 'pole_in_frame' in key or 'pole_out_frame' in key]\n",
    "reward_names = [key for key in X.feature.values if 'first_reward_lick' in key]\n",
    "feature_names = {'whisker_feature': whisker_feature_names,\n",
    "                'whisking': whisking_names,\n",
    "                'lick': lick_names,\n",
    "                'sound': sound_names,\n",
    "                'reward': reward_names}"
   ]
  },
  {
   "cell_type": "code",
   "execution_count": 111,
   "metadata": {},
   "outputs": [],
   "source": [
    "n_cells = traces.shape[1]\n",
    "n_features = len(feature_names)\n",
    "varexp_drop = xr.DataArray(np.zeros((n_cells, n_features)),\n",
    "                        dims=('cell_id', 'dropped_feature'),\n",
    "                        coords={'cell_id':traces.cell_id.values,\n",
    "                                'dropped_feature': list(feature_names.keys())})\n",
    "predicted_drop = xr.DataArray(np.zeros((*traces.shape, n_features)),\n",
    "                                dims=('index', 'cell_id', 'dropped_feature'),\n",
    "                                coords={'index':traces.index.values,\n",
    "                                        'cell_id':traces.cell_id.values,\n",
    "                                        'dropped_feature': list(feature_names.keys())})\n",
    "W_drop = xr.DataArray(np.zeros((X.shape[-1], n_cells, n_features)),\n",
    "                        dims=('feature', 'cell_id', 'dropped_feature'),\n",
    "                        coords={'feature': X.feature.values,\n",
    "                                'cell_id':traces.cell_id.values,\n",
    "                                'dropped_feature': list(feature_names.keys())})\n",
    "lambdas_drop = xr.DataArray(np.zeros((n_cells, n_features)),\n",
    "                        dims=('cell_id', 'dropped_feature'),\n",
    "                        coords={'cell_id':traces.cell_id.values,\n",
    "                                'dropped_feature': list(feature_names.keys())})"
   ]
  },
  {
   "cell_type": "code",
   "execution_count": 126,
   "metadata": {},
   "outputs": [],
   "source": [
    "from scripts import fit_glm_whisker_combined as fgwc\n",
    "for fni, key in enumerate(feature_names.keys()):\n",
    "    X_temp = X.sel(feature=np.setdiff1d(X.feature.values, feature_names[key]))\n",
    "    lam_d, _ = fgwc.lasso_find_lambda(traces, X_temp, lambda_groups)\n",
    "    # W_d = fgwc.fit_glm_lasso(traces, X_temp, lam_d)\n",
    "    # pred_d, ve_d = fgwc.variance_ratio(traces, W_d, X_temp)\n",
    "    pred_d, ve_d, W_d, _, _, _ = fgwc.fit_model(X_temp, traces, fit_groups, lam_d, model='lasso')\n",
    "    varexp_drop[:,fni] = ve_d\n",
    "    predicted_drop[:,:,fni] = pred_d\n",
    "    matching_indices = {'feature': W_d['feature'], 'cell_id': W_d['cell_id'], 'dropped_feature': key}\n",
    "    W_drop.loc[matching_indices] = W_d\n",
    "    lambdas_drop[:,fni] = lam_d"
   ]
  },
  {
   "cell_type": "code",
   "execution_count": 128,
   "metadata": {},
   "outputs": [],
   "source": [
    "# Compare with another run\n",
    "lasso_dir = results_dir / 'neuron_glm/lasso/whisker_combined'\n",
    "lasso_fn = lasso_dir / f'JK{mouse:03}S{session:02}_plane{plane}_glm_result.nc'\n",
    "with xr.open_dataset(lasso_fn) as ds:\n",
    "    lasso_result = ds.load()\n"
   ]
  },
  {
   "cell_type": "code",
   "execution_count": 133,
   "metadata": {},
   "outputs": [
    {
     "data": {
      "text/plain": [
       "(4106, 120, 5)"
      ]
     },
     "execution_count": 133,
     "metadata": {},
     "output_type": "execute_result"
    }
   ],
   "source": [
    "predicted_drop.shape"
   ]
  },
  {
   "cell_type": "code",
   "execution_count": 134,
   "metadata": {},
   "outputs": [
    {
     "data": {
      "text/plain": [
       "(4106, 120, 5)"
      ]
     },
     "execution_count": 134,
     "metadata": {},
     "output_type": "execute_result"
    }
   ],
   "source": [
    "lasso_result['predicted_drop'].shape"
   ]
  },
  {
   "cell_type": "code",
   "execution_count": 135,
   "metadata": {},
   "outputs": [
    {
     "data": {
      "text/plain": [
       "(120, 5)"
      ]
     },
     "execution_count": 135,
     "metadata": {},
     "output_type": "execute_result"
    }
   ],
   "source": [
    "varexp_drop.shape"
   ]
  },
  {
   "cell_type": "code",
   "execution_count": 136,
   "metadata": {},
   "outputs": [
    {
     "data": {
      "text/plain": [
       "(120, 5)"
      ]
     },
     "execution_count": 136,
     "metadata": {},
     "output_type": "execute_result"
    }
   ],
   "source": [
    "lasso_result['varexp_drop'].shape"
   ]
  },
  {
   "cell_type": "code",
   "execution_count": 138,
   "metadata": {},
   "outputs": [
    {
     "data": {
      "image/png": "[encoded data removed]",
      "text/plain": [
       "<Figure size 432x288 with 1 Axes>"
      ]
     },
     "metadata": {
      "needs_background": "light"
     },
     "output_type": "display_data"
    }
   ],
   "source": [
    "plt.hist(lasso_result['varexp_drop'] - varexp_drop);"
   ]
  },
  {
   "cell_type": "markdown",
   "metadata": {},
   "source": [
    "# Check parallel results"
   ]
  },
  {
   "cell_type": "code",
   "execution_count": 5,
   "metadata": {},
   "outputs": [],
   "source": [
    "glm_not_run = []\n",
    "split_not_run= []\n",
    "glm_dir = base_dir / 'results/neuron_glm/lasso/whisker_combined'\n",
    "for i, row in use_mice_df.iterrows():\n",
    "    mouse = row.mouse\n",
    "    plane = row.plane\n",
    "    session = int(row.session)\n",
    "    glm_save_fn = glm_dir / f'JK{mouse:03}S{session:02}_plane{plane}_glm_result.nc'\n",
    "    split_save_fn = glm_dir / f'JK{mouse:03}S{session:02}_plane{plane}_glm_split.npy'\n",
    "    if not glm_save_fn.exists():\n",
    "        glm_not_run.append((mouse, plane, session))\n",
    "    if not split_save_fn.exists():\n",
    "        split_not_run.append((mouse, plane, session))\n",
    "\n"
   ]
  },
  {
   "cell_type": "code",
   "execution_count": 6,
   "metadata": {},
   "outputs": [
    {
     "data": {
      "text/plain": [
       "192"
      ]
     },
     "execution_count": 6,
     "metadata": {},
     "output_type": "execute_result"
    }
   ],
   "source": [
    "len(glm_not_run)"
   ]
  },
  {
   "cell_type": "code",
   "execution_count": 7,
   "metadata": {},
   "outputs": [
    {
     "data": {
      "text/plain": [
       "192"
      ]
     },
     "execution_count": 7,
     "metadata": {},
     "output_type": "execute_result"
    }
   ],
   "source": [
    "len(split_not_run)"
   ]
  },
  {
   "cell_type": "code",
   "execution_count": 8,
   "metadata": {},
   "outputs": [
    {
     "data": {
      "text/plain": [
       "[(25, 5, 15),\n",
       " (27, 3, 6),\n",
       " (27, 4, 2),\n",
       " (27, 4, 5),\n",
       " (27, 5, 10),\n",
       " (27, 5, 12),\n",
       " (27, 5, 15),\n",
       " (27, 5, 16),\n",
       " (27, 8, 1),\n",
       " (36, 1, 2),\n",
       " (36, 1, 8),\n",
       " (36, 1, 10),\n",
       " (36, 1, 13),\n",
       " (36, 2, 2),\n",
       " (36, 2, 3),\n",
       " (36, 2, 5),\n",
       " (36, 2, 6),\n",
       " (36, 2, 8),\n",
       " (36, 2, 9),\n",
       " (36, 2, 13),\n",
       " (36, 2, 15),\n",
       " (36, 2, 17),\n",
       " (36, 3, 1),\n",
       " (36, 3, 2),\n",
       " (36, 3, 3),\n",
       " (36, 3, 4),\n",
       " (36, 3, 6),\n",
       " (36, 3, 7),\n",
       " (36, 3, 8),\n",
       " (36, 3, 9),\n",
       " (36, 3, 10),\n",
       " (36, 3, 16),\n",
       " (36, 4, 1),\n",
       " (36, 4, 2),\n",
       " (36, 4, 3),\n",
       " (36, 4, 4),\n",
       " (36, 4, 5),\n",
       " (36, 4, 6),\n",
       " (36, 4, 7),\n",
       " (36, 4, 8),\n",
       " (36, 4, 9),\n",
       " (36, 4, 10),\n",
       " (36, 4, 13),\n",
       " (36, 4, 17),\n",
       " (36, 5, 2),\n",
       " (36, 5, 3),\n",
       " (36, 5, 4),\n",
       " (36, 5, 5),\n",
       " (36, 5, 6),\n",
       " (36, 5, 7),\n",
       " (36, 5, 8),\n",
       " (36, 5, 9),\n",
       " (36, 6, 2),\n",
       " (36, 6, 3),\n",
       " (36, 6, 5),\n",
       " (36, 6, 6),\n",
       " (36, 6, 17),\n",
       " (36, 7, 2),\n",
       " (36, 7, 3),\n",
       " (36, 7, 5),\n",
       " (36, 7, 6),\n",
       " (36, 7, 13),\n",
       " (36, 7, 14),\n",
       " (36, 7, 17),\n",
       " (36, 8, 2),\n",
       " (36, 8, 3),\n",
       " (36, 8, 4),\n",
       " (36, 8, 5),\n",
       " (36, 8, 6),\n",
       " (36, 8, 7),\n",
       " (36, 8, 8),\n",
       " (36, 8, 9),\n",
       " (36, 8, 13),\n",
       " (36, 8, 14),\n",
       " (39, 1, 5),\n",
       " (39, 1, 6),\n",
       " (39, 1, 7),\n",
       " (39, 2, 5),\n",
       " (39, 2, 6),\n",
       " (39, 2, 7),\n",
       " (39, 3, 3),\n",
       " (39, 3, 4),\n",
       " (39, 4, 3),\n",
       " (39, 4, 4),\n",
       " (39, 5, 2),\n",
       " (39, 5, 3),\n",
       " (39, 6, 2),\n",
       " (39, 6, 3),\n",
       " (39, 6, 5),\n",
       " (39, 6, 6),\n",
       " (39, 7, 2),\n",
       " (39, 7, 3),\n",
       " (39, 8, 2),\n",
       " (39, 8, 3),\n",
       " (39, 8, 4),\n",
       " (39, 8, 5),\n",
       " (39, 8, 6),\n",
       " (52, 1, 6),\n",
       " (52, 1, 8),\n",
       " (52, 1, 11),\n",
       " (52, 1, 13),\n",
       " (52, 1, 14),\n",
       " (52, 2, 6),\n",
       " (52, 2, 8),\n",
       " (52, 2, 11),\n",
       " (52, 2, 12),\n",
       " (52, 2, 13),\n",
       " (52, 2, 14),\n",
       " (52, 3, 10),\n",
       " (52, 3, 11),\n",
       " (52, 3, 18),\n",
       " (52, 3, 20),\n",
       " (52, 3, 21),\n",
       " (52, 4, 3),\n",
       " (52, 4, 6),\n",
       " (52, 4, 8),\n",
       " (52, 4, 11),\n",
       " (52, 4, 13),\n",
       " (52, 4, 14),\n",
       " (52, 4, 16),\n",
       " (52, 4, 17),\n",
       " (52, 4, 18),\n",
       " (52, 4, 20),\n",
       " (52, 4, 21),\n",
       " (52, 5, 1),\n",
       " (52, 5, 3),\n",
       " (52, 5, 6),\n",
       " (52, 5, 7),\n",
       " (52, 5, 8),\n",
       " (52, 5, 9),\n",
       " (52, 5, 10),\n",
       " (52, 5, 11),\n",
       " (52, 5, 12),\n",
       " (52, 5, 13),\n",
       " (52, 5, 14),\n",
       " (52, 5, 15),\n",
       " (52, 5, 16),\n",
       " (52, 5, 17),\n",
       " (52, 5, 18),\n",
       " (52, 5, 20),\n",
       " (52, 5, 21),\n",
       " (52, 6, 1),\n",
       " (52, 6, 3),\n",
       " (52, 6, 6),\n",
       " (52, 6, 7),\n",
       " (52, 6, 8),\n",
       " (52, 6, 9),\n",
       " (52, 6, 10),\n",
       " (52, 6, 11),\n",
       " (52, 6, 12),\n",
       " (52, 6, 13),\n",
       " (52, 6, 14),\n",
       " (52, 6, 15),\n",
       " (52, 6, 16),\n",
       " (52, 6, 17),\n",
       " (52, 6, 18),\n",
       " (52, 6, 20),\n",
       " (52, 6, 21),\n",
       " (52, 7, 1),\n",
       " (52, 7, 3),\n",
       " (52, 7, 6),\n",
       " (52, 7, 7),\n",
       " (52, 7, 8),\n",
       " (52, 7, 9),\n",
       " (52, 7, 10),\n",
       " (52, 7, 11),\n",
       " (52, 7, 12),\n",
       " (52, 7, 13),\n",
       " (52, 7, 14),\n",
       " (52, 7, 15),\n",
       " (52, 7, 16),\n",
       " (52, 7, 17),\n",
       " (52, 7, 18),\n",
       " (52, 7, 20),\n",
       " (52, 7, 21),\n",
       " (52, 8, 1),\n",
       " (52, 8, 3),\n",
       " (52, 8, 6),\n",
       " (52, 8, 7),\n",
       " (52, 8, 8),\n",
       " (52, 8, 9),\n",
       " (52, 8, 10),\n",
       " (52, 8, 11),\n",
       " (52, 8, 12),\n",
       " (52, 8, 13),\n",
       " (52, 8, 14),\n",
       " (52, 8, 15),\n",
       " (52, 8, 16),\n",
       " (52, 8, 17),\n",
       " (52, 8, 18),\n",
       " (52, 8, 20),\n",
       " (52, 8, 21)]"
      ]
     },
     "execution_count": 8,
     "metadata": {},
     "output_type": "execute_result"
    }
   ],
   "source": [
    "glm_not_run"
   ]
  }
 ],
 "metadata": {
  "kernelspec": {
   "display_name": "suite2p",
   "language": "python",
   "name": "python3"
  },
  "language_info": {
   "codemirror_mode": {
    "name": "ipython",
    "version": 3
   },
   "file_extension": ".py",
   "mimetype": "text/x-python",
   "name": "python",
   "nbconvert_exporter": "python",
   "pygments_lexer": "ipython3",
   "version": "3.8.11"
  }
 },
 "nbformat": 4,
 "nbformat_minor": 2
}
