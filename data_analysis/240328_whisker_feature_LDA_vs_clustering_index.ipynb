{
 "cells": [
  {
   "cell_type": "markdown",
   "metadata": {},
   "source": [
    "# Purpose:\n",
    "- To see if whisker feature angle discrimination affects clustering index\n",
    "    - During naïve, learning, and expert sessions\n",
    "## Hypothesis:\n",
    "- Clustering index variability during naïve sessions are due to the variability in angle discriminability from sensory inputs (whisker features)\n",
    "    - When sensory inputs discriminate angles better, S1 activity discriminates angles better.\n",
    "## Method:\n",
    "- Use LDA to discriminate the angles from whisker features.\n",
    "- Look at the correlation between LDA results and clustering index\n",
    "    - From different phases of learning"
   ]
  },
  {
   "cell_type": "code",
   "execution_count": 1,
   "metadata": {},
   "outputs": [
    {
     "name": "stderr",
     "output_type": "stream",
     "text": [
      "c:\\Users\\shires\\Anaconda3\\envs\\suite2p\\lib\\site-packages\\pandas\\core\\indexing.py:1667: SettingWithCopyWarning: \n",
      "A value is trying to be set on a copy of a slice from a DataFrame.\n",
      "Try using .loc[row_indexer,col_indexer] = value instead\n",
      "\n",
      "See the caveats in the documentation: https://pandas.pydata.org/pandas-docs/stable/user_guide/indexing.html#returning-a-view-versus-a-copy\n",
      "  self.obj[key] = value\n"
     ]
    }
   ],
   "source": [
    "import numpy as np\n",
    "import pandas as pd\n",
    "from importlib import reload\n",
    "from pathlib import Path\n",
    "import matplotlib.pyplot as plt\n",
    "import utils.clustering_index as ci\n",
    "from sklearn.discriminant_analysis import LinearDiscriminantAnalysis as LDA\n",
    "\n",
    "base_dir = Path(r'E:\\TPM\\JK\\h5')\n",
    "behavior_dir = Path(r'E:\\TPM\\JK\\SoloData')\n",
    "whisker_dir = Path(r'E:\\TPM\\JK\\WhiskerVideo')\n",
    "results_dir = base_dir / 'results'\n",
    "load_dir = results_dir / 'pop_responses' / 'touch_before_answer'\n",
    "\n",
    "expert_mice_df = pd.read_csv(base_dir / 'expert_mice.csv', index_col=0)\n",
    "use_mice_df = expert_mice_df.loc[expert_mice_df['depth_matched'].astype(bool) & \n",
    "                                 ~expert_mice_df['processing_error'].astype(bool) &\n",
    "                                 ((expert_mice_df.session_type == 'training') |\n",
    "                                  (expert_mice_df.session_type.str.contains('test')))]\n",
    "use_volume_df = use_mice_df.query('plane in [1, 5]')\n",
    "use_volume_df.loc[:, 'volume'] = use_volume_df['plane'].apply(lambda x: 1 if x==1 else 2)\n",
    "training_volume_df = use_volume_df.query('session_type == \"training\"')\n",
    "remove_ind = training_volume_df.query('mouse==27 and session==\"15\"')\n",
    "training_volume_df = training_volume_df.drop(remove_ind.index)\n",
    "remove_ind = training_volume_df.query('mouse==36 and session==\"9\"')\n",
    "training_volume_df = training_volume_df.drop(remove_ind.index)\n",
    "\n",
    "mice = [25,27,30,36,39,52]\n",
    "test_sessions = [[4,19], [3,8], [3,21], [1,17], [1,23], [3,21]]\n",
    "naive_sessions = [10, 4, 11, 6, 6, 11]"
   ]
  },
  {
   "cell_type": "code",
   "execution_count": 4,
   "metadata": {},
   "outputs": [],
   "source": [
    "mouse = 25\n",
    "volume = 1\n",
    "sessions = [int(s) for s in training_volume_df.query('mouse==@mouse and volume==@volume').session.unique()]\n",
    "session = sessions[0]"
   ]
  },
  {
   "cell_type": "code",
   "execution_count": 7,
   "metadata": {},
   "outputs": [],
   "source": [
    "session_wdir = whisker_dir / f'JK{mouse:03}S{session:02}'\n",
    "whisker_filepath = session_wdir / f'JK{mouse:03}S{session:02}_whisker.pkl'\n",
    "whisker_df = pd.read_pickle(whisker_filepath)"
   ]
  },
  {
   "cell_type": "code",
   "execution_count": 9,
   "metadata": {},
   "outputs": [
    {
     "data": {
      "text/plain": [
       "Index(['amplitude', 'arcLength', 'kappaH', 'kappaV', 'midpoint', 'phase',\n",
       "       'phi', 'poleAngle', 'poleDistance', 'poleMovingFrames', 'polePosition',\n",
       "       'poleUpFrames', 'protractionSlide', 'protractionSlideByWhisking',\n",
       "       'protractionTFchunks', 'protractionTFchunksByWhisking',\n",
       "       'protractionTouchDuration', 'protractionTouchDurationByWhisking',\n",
       "       'retractionSlide', 'retractionSlideByWhisking', 'retractionTFchunks',\n",
       "       'retractionTFchunksByWhisking', 'retractionTouchDuration',\n",
       "       'retractionTouchDurationByWhisking', 'theta', 'whisker_time',\n",
       "       'whiskingStartFrames', 'mouse_name', 'session_name'],\n",
       "      dtype='object')"
      ]
     },
     "execution_count": 9,
     "metadata": {},
     "output_type": "execute_result"
    }
   ],
   "source": [
    "whisker_df.columns"
   ]
  },
  {
   "cell_type": "code",
   "execution_count": 10,
   "metadata": {},
   "outputs": [
    {
     "data": {
      "text/plain": [
       "[array([511., 512.]),\n",
       " array([522., 523., 524.]),\n",
       " array([530., 531., 532., 533.]),\n",
       " array(553.),\n",
       " array([566., 567., 568., 569., 570.]),\n",
       " array([595., 596., 597., 598.]),\n",
       " array([609., 610., 611., 612.]),\n",
       " array([621., 622., 623., 624., 625., 626., 627.]),\n",
       " array([639., 640., 641., 642.]),\n",
       " array([655., 656., 657., 658., 659., 660., 661., 662., 663., 664., 665.,\n",
       "        666., 667.]),\n",
       " array([674., 675., 676., 677., 678., 679.]),\n",
       " array([686., 687., 688., 689., 690., 691., 692., 693.]),\n",
       " array([704., 705., 706., 707., 708., 709., 710., 711., 712.]),\n",
       " array([726., 727., 728.]),\n",
       " array([741., 742., 743., 744.]),\n",
       " array([756., 757., 758., 759., 760., 761., 762., 763., 764., 765., 766.,\n",
       "        767., 768., 769., 770., 771., 772., 773., 774., 775., 776., 777.,\n",
       "        778., 779., 780.]),\n",
       " array([818., 819., 820.]),\n",
       " array([825., 826., 827., 828., 829., 830., 831., 832., 833., 834., 835.,\n",
       "        836., 837., 838., 839., 840.]),\n",
       " array([876., 877., 878., 879., 880., 881.]),\n",
       " array([905., 906., 907., 908., 909., 910., 911., 912., 913., 914., 915.,\n",
       "        916., 917., 918., 919., 920., 921., 922., 923., 924., 925., 926.,\n",
       "        927., 928., 929.]),\n",
       " array([945., 946., 947., 948.]),\n",
       " array([968., 969., 970.]),\n",
       " array([983., 984., 985., 986., 987., 988., 989., 990.]),\n",
       " array([1020., 1021., 1022., 1023.]),\n",
       " array([1050., 1051., 1052., 1053., 1054., 1055., 1056., 1057., 1058.]),\n",
       " array([1067., 1068., 1069., 1070., 1071., 1072., 1073., 1074., 1075.,\n",
       "        1076., 1077., 1078., 1079., 1080., 1081.]),\n",
       " array([1130., 1131., 1132.])]"
      ]
     },
     "execution_count": 10,
     "metadata": {},
     "output_type": "execute_result"
    }
   ],
   "source": [
    "whisker_df.iloc[0].protractionTFchunksByWhisking"
   ]
  }
 ],
 "metadata": {
  "kernelspec": {
   "display_name": "suite2p",
   "language": "python",
   "name": "python3"
  },
  "language_info": {
   "codemirror_mode": {
    "name": "ipython",
    "version": 3
   },
   "file_extension": ".py",
   "mimetype": "text/x-python",
   "name": "python",
   "nbconvert_exporter": "python",
   "pygments_lexer": "ipython3",
   "version": "3.8.11"
  }
 },
 "nbformat": 4,
 "nbformat_minor": 2
}
