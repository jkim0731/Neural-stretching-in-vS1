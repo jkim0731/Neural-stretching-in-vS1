{
 "cells": [
  {
   "cell_type": "markdown",
   "metadata": {},
   "source": [
    "# Purpose\n",
    "- Gather calcium and spike data\n",
    "- z-scoring\n",
    "- Match with frame_whisker_behavior dataset\n",
    "- Calculate touch response per trial (before and after decision lick)\n",
    "- Per neuron activity pattern change across training\n",
    "- Population activity pattern change across training <br>\n",
    "<br>\n",
    "Continued from 220924_final_signal_extraction.ipynb & 221024_build_dataset.ipynb"
   ]
  },
  {
   "cell_type": "code",
   "execution_count": null,
   "metadata": {},
   "outputs": [],
   "source": []
  }
 ],
 "metadata": {
  "kernelspec": {
   "display_name": "Python 3.8.11 ('suite2p')",
   "language": "python",
   "name": "python3"
  },
  "language_info": {
   "name": "python",
   "version": "3.8.11"
  },
  "orig_nbformat": 4,
  "vscode": {
   "interpreter": {
    "hash": "53092f88beb6d9efd0118112bc0e9c1c54eac338b7f8334bd9c460f5dc451b11"
   }
  }
 },
 "nbformat": 4,
 "nbformat_minor": 2
}
