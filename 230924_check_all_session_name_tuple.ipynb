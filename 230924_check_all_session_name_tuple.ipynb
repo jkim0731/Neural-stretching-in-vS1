{
 "cells": [
  {
   "cell_type": "code",
   "execution_count": 1,
   "metadata": {},
   "outputs": [],
   "source": [
    "from pathlib import Path\n",
    "\n",
    "BASE_DIR_1 = Path('F:/')\n",
    "BASE_DIR_2 = Path('D:/')\n",
    "\n",
    "mice = [25,27,30,36,39,52]\n",
    "planes = range(1,9)\n",
    "\n",
    "# Generate tuples of sessions\n",
    "session_tuples = []\n",
    "for mouse in mice:\n",
    "    base_dir = BASE_DIR_1 if mouse < 31 else BASE_DIR_2\n",
    "    for plane in planes:\n",
    "        plane_dir = base_dir / f'{mouse:03}/plane_{plane}'\n",
    "        sessions = [x.name for x in plane_dir.iterdir() if x.is_dir() and x.name[0].isdigit()]\n",
    "        # list of (mouse,plane,session) tuples\n",
    "        test_sessions = [(mouse, plane, session) for session in sessions]\n",
    "        session_tuples.extend(test_sessions)\n",
    "    "
   ]
  }
 ],
 "metadata": {
  "kernelspec": {
   "display_name": "cellpose",
   "language": "python",
   "name": "python3"
  },
  "language_info": {
   "codemirror_mode": {
    "name": "ipython",
    "version": 3
   },
   "file_extension": ".py",
   "mimetype": "text/x-python",
   "name": "python",
   "nbconvert_exporter": "python",
   "pygments_lexer": "ipython3",
   "version": "3.8.17"
  },
  "orig_nbformat": 4
 },
 "nbformat": 4,
 "nbformat_minor": 2
}
