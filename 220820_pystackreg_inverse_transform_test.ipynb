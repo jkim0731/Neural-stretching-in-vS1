{
 "cells": [
  {
   "cell_type": "code",
   "execution_count": 47,
   "metadata": {},
   "outputs": [],
   "source": [
    "# Test inverse transform of pystackreg registration.\n",
    "# Question: is there a simple inverse transformation matrix for affine and bilinear transformation?\n",
    "# I could inverse registration for rigid body by applying inverse matrix of the transformation matrix, but could not do that with affine or bilinear.\n",
    "# Test: From real session-to-session registration examples, perform registration in both ways.\n",
    "# Compare the matrices. \n",
    "# Find rules if possible.\n",
    "\n",
    "import numpy as np\n",
    "from pystackreg import StackReg\n",
    "import napari\n",
    "\n",
    "\n",
    "h5Dir = 'H:/'\n",
    "mice =          [25,    27,   30,   36,     39,     52]\n",
    "refSessions =   [4,     3,    3,    1,      1,      3]\n",
    "expSessions =   [19,    10,   21,   17,     23,     21]\n",
    "zoom =          [2,     2,    2,    1.7,    1.7,    1.7]\n",
    "freq =          [7.7,   7.7,  7.7,  7.7,    6.1,    7.7]\n",
    "\n",
    "optimal_reg_methods = {'025': ['bilinear', 'bilinear', 'suite2p', 'bilinear', 'old', 'old', 'old', 'old'],\n",
    "                        '027': ['bilinear', 'bilinear', 'bilinear', 'bilinear', 'suite2p', 'suite2p', 'affine', 'bilinear'],\n",
    "                        '030': ['old', 'old', 'old', 'bilinear', 'affine', 'bilinear', 'bilinear', 'bilinear'],\n",
    "                        '036': ['old', 'old', 'old', 'suite2p', 'suite2p', 'bilinear', 'old', 'bilinear'],\n",
    "                        '039': ['suite2p', 'suite2p', 'suite2p', 'suite2p', 'affine', 'affine', 'affine', 'affine'],\n",
    "                        '052': ['bilinear', 'bilinear', 'bilinear', 'bilinear', 'bilinear', 'bilinear', 'bilinear', 'affine']}\n",
    "relative_depths_selected = {'025': [[7,17], [18,28]],\n",
    "                            '027': [[20,30], [25,35]],\n",
    "                            '030': [[17,27], [22,32]],\n",
    "                            '036': [[16,26], [12,22]],\n",
    "                            '039': [[22,32], [17,27]],\n",
    "                            '052': [[27,37], [17,27]]} # per imaged volume\n",
    "manual_removal_Session_i = {'025': [[7,14], []],\n",
    "                            '027': [range(7,12), []],\n",
    "                            '030': [[], [19]],\n",
    "                            '036': [[17], [19]],\n",
    "                            '039': [[], []],\n",
    "                            '052': [[], []]} # per imaged volume\n",
    "\n",
    "def imblend_for_napari(refImg, testImg):\n",
    "    if (len(refImg.shape) != 2) or (len(testImg.shape) != 2):\n",
    "        raise('Both images should have 2 dims.')\n",
    "    if any(np.array(refImg.shape)-np.array(testImg.shape)):\n",
    "        raise('Both images should have matching dims')\n",
    "    refImg = img_norm(refImg.copy())\n",
    "    testImg = img_norm(testImg.copy())\n",
    "    refRGB = np.moveaxis(np.tile(refImg,(3,1,1)), 0, -1)\n",
    "    testRGB = np.moveaxis(np.tile(testImg,(3,1,1)), 0, -1)\n",
    "    blended = imblend(refImg, testImg)\n",
    "    return np.array([refRGB, testRGB, blended])\n",
    "\n",
    "def img_norm(img):\n",
    "    # return (img - np.amin(img)) / (np.amax(img) - np.amin(img))\n",
    "    img = np.clip(img, np.percentile(img,0.2), np.percentile(img, 99.8))\n",
    "    return (img - np.amin(img)) / (np.amax(img) - np.amin(img))\n",
    "\n",
    "def imblend(refImg, testImg):\n",
    "    if (len(refImg.shape) != 2) or (len(testImg.shape) != 2):\n",
    "        raise('Both images should have 2 dims.')\n",
    "    if any(np.array(refImg.shape)-np.array(testImg.shape)):\n",
    "        raise('Both images should have matching dims')\n",
    "    Ly,Lx = refImg.shape\n",
    "    blended = np.zeros((Ly,Lx,3))\n",
    "    blended[:,:,0] = refImg\n",
    "    blended[:,:,2] = testImg\n",
    "    blended[:,:,1] = refImg\n",
    "    return blended"
   ]
  },
  {
   "cell_type": "code",
   "execution_count": 6,
   "metadata": {},
   "outputs": [
    {
     "data": {
      "text/plain": [
       "'bilinear'"
      ]
     },
     "execution_count": 6,
     "metadata": {},
     "output_type": "execute_result"
    }
   ],
   "source": [
    "mi = 0\n",
    "pn = 2\n",
    "mouse=mice[mi]\n",
    "mouse_str = f'{mouse:03}'\n",
    "reg_meth = optimal_reg_methods[mouse_str][pn-1]\n",
    "refSn = refSessions[mi] # for 'old' method\n",
    "planeDir = f'{h5Dir}{mouse:03}/plane_{pn}/'\n",
    "session_to_session_registration = np.load(f'{planeDir}JK{mouse:03}_plane{pn}_session_to_session_registration.npy', allow_pickle=True).item()\n",
    "#  result = {'mouse': mouse,\n",
    "#                 'plane': pn,\n",
    "#                 'edge_buffer': edge_buffer,\n",
    "#                 'selected_session_i': selectedSi,\n",
    "#                 'selected_session_num': selectedSnums,\n",
    "#                 'zdrift_list': zdrift_list,\n",
    "#                 'registration_method': reg_meth,\n",
    "#                 'bilinear_result': bilinear_result, \n",
    "#                 'affine_result': affine_result,\n",
    "#                 'suite2p_result': suite2p_result,\n",
    "#                 'old_result': old_result\n",
    "#                 }\n",
    "selected_session_num = session_to_session_registration['selected_session_num']\n",
    "edge_buffer = session_to_session_registration['edge_buffer']\n",
    "reg_meth"
   ]
  },
  {
   "cell_type": "code",
   "execution_count": 5,
   "metadata": {},
   "outputs": [
    {
     "data": {
      "text/plain": [
       "array([ 1,  2,  3,  4,  5,  6, 13, 15, 17, 19, 22, 23, 24])"
      ]
     },
     "execution_count": 5,
     "metadata": {},
     "output_type": "execute_result"
    }
   ],
   "source": [
    "selected_session_num"
   ]
  },
  {
   "cell_type": "code",
   "execution_count": 12,
   "metadata": {},
   "outputs": [
    {
     "name": "stderr",
     "output_type": "stream",
     "text": [
      "c:\\Users\\shires\\Anaconda3\\envs\\suite2p\\lib\\site-packages\\napari\\_vispy\\vispy_camera.py:109: RuntimeWarning: divide by zero encountered in true_divide\n",
      "  zoom = np.min(canvas_size / scale)\n"
     ]
    },
    {
     "data": {
      "text/plain": [
       "Viewer(axes=Axes(visible=False, labels=True, colored=True, dashed=False, arrows=True), camera=Camera(center=(0.0, 163.0, 313.0), zoom=2.4736421725239617, angles=(0.0, 0.0, 90.0), perspective=0.0, interactive=True), cursor=Cursor(position=(0.0, 0.0, 0.0), scaled=True, size=1, style='standard'), dims=Dims(ndim=3, ndisplay=2, last_used=2, range=((0.0, 1.0, 1.0), (0.0, 326.0, 1.0), (0.0, 626.0, 1.0)), current_step=(0, 0, 0), order=(0, 1, 2), axis_labels=('0', '1', '2')), grid=GridCanvas(enabled=False, stride=1, shape=(-1, -1)), layers=[<Image layer 'Image' at 0x1758496e880>], scale_bar=ScaleBar(visible=False, colored=False, ticks=True, position='bottom_right', font_size=10.0, unit=None), text_overlay=TextOverlay(visible=False, color=array([1., 1., 1., 1.]), font_size=10.0, position='top_left', text=''), help='', status='Ready', tooltip=Tooltip(visible=False, text=''), theme='dark', title='napari', mouse_move_callbacks=[], mouse_drag_callbacks=[], mouse_wheel_callbacks=[<function dims_scroll at 0x00000175F070C550>], _persisted_mouse_event={}, _mouse_drag_gen={}, _mouse_wheel_gen={}, keymap={'Control-Shift-C': <bound method QtViewer.toggle_console_visibility of <napari._qt.qt_viewer.QtViewer object at 0x0000017582E251F0>>})"
      ]
     },
     "execution_count": 12,
     "metadata": {},
     "output_type": "execute_result"
    }
   ],
   "source": [
    "def get_mimg(planeDir,session_num,edge_buffer):\n",
    "    opsFn = f'{planeDir}{session_num:03}/plane0/ops.npy'\n",
    "    ops = np.load(opsFn, allow_pickle=True).item()\n",
    "    topBuffer = edge_buffer['topBuffer']\n",
    "    bottomBuffer = edge_buffer['bottomBuffer']\n",
    "    leftBuffer = edge_buffer['leftBuffer']\n",
    "    rightBuffer = edge_buffer['rightBuffer']\n",
    "    mimg = ops['meanImg'][topBuffer:-bottomBuffer,leftBuffer:-rightBuffer]\n",
    "    return mimg\n",
    "ref_i = 0\n",
    "mov_i = 10\n",
    "ref_num = selected_session_num[ref_i]\n",
    "mov_num = selected_session_num[mov_i]\n",
    "ref_mimg = get_mimg(planeDir, ref_num, edge_buffer)\n",
    "mov_mimg = get_mimg(planeDir, mov_num, edge_buffer)\n",
    "napari.view_image(np.array([ref_mimg,mov_mimg]))"
   ]
  },
  {
   "cell_type": "code",
   "execution_count": 20,
   "metadata": {},
   "outputs": [
    {
     "data": {
      "text/plain": [
       "array([[ 0.99966222,  0.02598926,  2.97495359],\n",
       "       [-0.02598926,  0.99966222, 10.48029864],\n",
       "       [ 0.        ,  0.        ,  1.        ]])"
      ]
     },
     "execution_count": 20,
     "metadata": {},
     "output_type": "execute_result"
    }
   ],
   "source": [
    "# Rigid transformation bidirectionally\n",
    "sr = StackReg(StackReg.RIGID_BODY)\n",
    "tmat_mov_to_ref = sr.register(ref_mimg,mov_mimg)\n",
    "reg_mimg_mov_to_ref = sr.transform(mov_mimg, tmat=tmat_mov_to_ref)\n",
    "tmat_mov_to_ref"
   ]
  },
  {
   "cell_type": "code",
   "execution_count": 16,
   "metadata": {},
   "outputs": [
    {
     "data": {
      "text/plain": [
       "array([[  0.99966286,  -0.02596487,  -2.63573547],\n",
       "       [  0.02596487,   0.99966286, -10.50004868],\n",
       "       [  0.        ,   0.        ,   1.        ]])"
      ]
     },
     "execution_count": 16,
     "metadata": {},
     "output_type": "execute_result"
    }
   ],
   "source": [
    "sr = StackReg(StackReg.RIGID_BODY)\n",
    "tmat_ref_to_mov = sr.register(mov_mimg, ref_mimg)\n",
    "reg_mimg_ref_to_mov = sr.transform(ref_mimg, tmat=tmat_ref_to_mov)\n",
    "tmat_ref_to_mov"
   ]
  },
  {
   "cell_type": "code",
   "execution_count": 17,
   "metadata": {},
   "outputs": [
    {
     "name": "stderr",
     "output_type": "stream",
     "text": [
      "c:\\Users\\shires\\Anaconda3\\envs\\suite2p\\lib\\site-packages\\napari\\_vispy\\vispy_camera.py:109: RuntimeWarning: divide by zero encountered in true_divide\n",
      "  zoom = np.min(canvas_size / scale)\n"
     ]
    },
    {
     "data": {
      "text/plain": [
       "Viewer(axes=Axes(visible=False, labels=True, colored=True, dashed=False, arrows=True), camera=Camera(center=(0.0, 163.0, 313.0), zoom=2.4736421725239617, angles=(0.0, 0.0, 90.0), perspective=0.0, interactive=True), cursor=Cursor(position=(0.0, 0.0, 0.0), scaled=True, size=1, style='standard'), dims=Dims(ndim=3, ndisplay=2, last_used=2, range=((0.0, 1.0, 1.0), (0.0, 326.0, 1.0), (0.0, 626.0, 1.0)), current_step=(0, 0, 0), order=(0, 1, 2), axis_labels=('0', '1', '2')), grid=GridCanvas(enabled=False, stride=1, shape=(-1, -1)), layers=[<Image layer 'Image' at 0x1758590f2e0>], scale_bar=ScaleBar(visible=False, colored=False, ticks=True, position='bottom_right', font_size=10.0, unit=None), text_overlay=TextOverlay(visible=False, color=array([1., 1., 1., 1.]), font_size=10.0, position='top_left', text=''), help='', status='Ready', tooltip=Tooltip(visible=False, text=''), theme='dark', title='napari', mouse_move_callbacks=[], mouse_drag_callbacks=[], mouse_wheel_callbacks=[<function dims_scroll at 0x00000175F070C550>], _persisted_mouse_event={}, _mouse_drag_gen={}, _mouse_wheel_gen={}, keymap={'Control-Shift-C': <bound method QtViewer.toggle_console_visibility of <napari._qt.qt_viewer.QtViewer object at 0x0000017584D19430>>})"
      ]
     },
     "execution_count": 17,
     "metadata": {},
     "output_type": "execute_result"
    }
   ],
   "source": [
    "napari.view_image(np.array([reg_mimg_ref_to_mov, mov_mimg]))\n"
   ]
  },
  {
   "cell_type": "code",
   "execution_count": 18,
   "metadata": {},
   "outputs": [
    {
     "name": "stderr",
     "output_type": "stream",
     "text": [
      "c:\\Users\\shires\\Anaconda3\\envs\\suite2p\\lib\\site-packages\\napari\\_vispy\\vispy_camera.py:109: RuntimeWarning: divide by zero encountered in true_divide\n",
      "  zoom = np.min(canvas_size / scale)\n"
     ]
    },
    {
     "data": {
      "text/plain": [
       "Viewer(axes=Axes(visible=False, labels=True, colored=True, dashed=False, arrows=True), camera=Camera(center=(0.0, 163.0, 313.0), zoom=2.4736421725239617, angles=(0.0, 0.0, 90.0), perspective=0.0, interactive=True), cursor=Cursor(position=(0.0, 0.0, 0.0), scaled=True, size=1, style='standard'), dims=Dims(ndim=3, ndisplay=2, last_used=2, range=((0.0, 1.0, 1.0), (0.0, 326.0, 1.0), (0.0, 626.0, 1.0)), current_step=(0, 0, 0), order=(0, 1, 2), axis_labels=('0', '1', '2')), grid=GridCanvas(enabled=False, stride=1, shape=(-1, -1)), layers=[<Image layer 'Image' at 0x17588105d00>], scale_bar=ScaleBar(visible=False, colored=False, ticks=True, position='bottom_right', font_size=10.0, unit=None), text_overlay=TextOverlay(visible=False, color=array([1., 1., 1., 1.]), font_size=10.0, position='top_left', text=''), help='', status='Ready', tooltip=Tooltip(visible=False, text=''), theme='dark', title='napari', mouse_move_callbacks=[], mouse_drag_callbacks=[], mouse_wheel_callbacks=[<function dims_scroll at 0x00000175F070C550>], _persisted_mouse_event={}, _mouse_drag_gen={}, _mouse_wheel_gen={}, keymap={'Control-Shift-C': <bound method QtViewer.toggle_console_visibility of <napari._qt.qt_viewer.QtViewer object at 0x0000017585908700>>})"
      ]
     },
     "execution_count": 18,
     "metadata": {},
     "output_type": "execute_result"
    }
   ],
   "source": [
    "napari.view_image(np.array([reg_mimg_mov_to_ref, ref_mimg]))"
   ]
  },
  {
   "cell_type": "code",
   "execution_count": 21,
   "metadata": {},
   "outputs": [
    {
     "data": {
      "text/plain": [
       "array([[ 1.00000000e+00,  2.43963666e-05,  6.72199545e-02],\n",
       "       [-2.43963666e-05,  1.00000000e+00,  5.22974502e-02],\n",
       "       [ 0.00000000e+00,  0.00000000e+00,  1.00000000e+00]])"
      ]
     },
     "execution_count": 21,
     "metadata": {},
     "output_type": "execute_result"
    }
   ],
   "source": [
    "np.matmul(tmat_mov_to_ref, tmat_ref_to_mov)"
   ]
  },
  {
   "cell_type": "code",
   "execution_count": 22,
   "metadata": {},
   "outputs": [
    {
     "name": "stderr",
     "output_type": "stream",
     "text": [
      "c:\\Users\\shires\\Anaconda3\\envs\\suite2p\\lib\\site-packages\\napari\\_vispy\\vispy_camera.py:109: RuntimeWarning: divide by zero encountered in true_divide\n",
      "  zoom = np.min(canvas_size / scale)\n"
     ]
    },
    {
     "data": {
      "text/plain": [
       "Viewer(axes=Axes(visible=False, labels=True, colored=True, dashed=False, arrows=True), camera=Camera(center=(0.0, 163.0, 313.0), zoom=2.4736421725239617, angles=(0.0, 0.0, 90.0), perspective=0.0, interactive=True), cursor=Cursor(position=(0.0, 0.0, 0.0), scaled=True, size=1, style='standard'), dims=Dims(ndim=3, ndisplay=2, last_used=2, range=((0.0, 1.0, 1.0), (0.0, 326.0, 1.0), (0.0, 626.0, 1.0)), current_step=(0, 0, 0), order=(0, 1, 2), axis_labels=('0', '1', '2')), grid=GridCanvas(enabled=False, stride=1, shape=(-1, -1)), layers=[<Image layer 'Image' at 0x1758913dd90>], scale_bar=ScaleBar(visible=False, colored=False, ticks=True, position='bottom_right', font_size=10.0, unit=None), text_overlay=TextOverlay(visible=False, color=array([1., 1., 1., 1.]), font_size=10.0, position='top_left', text=''), help='', status='Ready', tooltip=Tooltip(visible=False, text=''), theme='dark', title='napari', mouse_move_callbacks=[], mouse_drag_callbacks=[], mouse_wheel_callbacks=[<function dims_scroll at 0x00000175F070C550>], _persisted_mouse_event={}, _mouse_drag_gen={}, _mouse_wheel_gen={}, keymap={'Control-Shift-C': <bound method QtViewer.toggle_console_visibility of <napari._qt.qt_viewer.QtViewer object at 0x0000017588458940>>})"
      ]
     },
     "execution_count": 22,
     "metadata": {},
     "output_type": "execute_result"
    }
   ],
   "source": [
    "# Apply two transformations and see if it comes back to the original image\n",
    "sr = StackReg(StackReg.RIGID_BODY)\n",
    "ref_comeback_mimg = sr.transform(sr.transform(ref_mimg, tmat=tmat_ref_to_mov), tmat=tmat_mov_to_ref)\n",
    "napari.view_image(np.array([ref_mimg, ref_comeback_mimg]))\n"
   ]
  },
  {
   "cell_type": "code",
   "execution_count": 23,
   "metadata": {},
   "outputs": [
    {
     "name": "stderr",
     "output_type": "stream",
     "text": [
      "c:\\Users\\shires\\Anaconda3\\envs\\suite2p\\lib\\site-packages\\napari\\_vispy\\vispy_camera.py:109: RuntimeWarning: divide by zero encountered in true_divide\n",
      "  zoom = np.min(canvas_size / scale)\n"
     ]
    },
    {
     "data": {
      "text/plain": [
       "Viewer(axes=Axes(visible=False, labels=True, colored=True, dashed=False, arrows=True), camera=Camera(center=(0.0, 163.0, 313.0), zoom=2.4736421725239617, angles=(0.0, 0.0, 90.0), perspective=0.0, interactive=True), cursor=Cursor(position=(0.0, 0.0, 0.0), scaled=True, size=1, style='standard'), dims=Dims(ndim=3, ndisplay=2, last_used=2, range=((0.0, 1.0, 1.0), (0.0, 326.0, 1.0), (0.0, 626.0, 1.0)), current_step=(0, 0, 0), order=(0, 1, 2), axis_labels=('0', '1', '2')), grid=GridCanvas(enabled=False, stride=1, shape=(-1, -1)), layers=[<Image layer 'Image' at 0x1758a477400>], scale_bar=ScaleBar(visible=False, colored=False, ticks=True, position='bottom_right', font_size=10.0, unit=None), text_overlay=TextOverlay(visible=False, color=array([1., 1., 1., 1.]), font_size=10.0, position='top_left', text=''), help='', status='Ready', tooltip=Tooltip(visible=False, text=''), theme='dark', title='napari', mouse_move_callbacks=[], mouse_drag_callbacks=[], mouse_wheel_callbacks=[<function dims_scroll at 0x00000175F070C550>], _persisted_mouse_event={}, _mouse_drag_gen={}, _mouse_wheel_gen={}, keymap={'Control-Shift-C': <bound method QtViewer.toggle_console_visibility of <napari._qt.qt_viewer.QtViewer object at 0x0000017585908E50>>})"
      ]
     },
     "execution_count": 23,
     "metadata": {},
     "output_type": "execute_result"
    }
   ],
   "source": [
    "sr = StackReg(StackReg.RIGID_BODY)\n",
    "mov_comeback_mimg = sr.transform(sr.transform(mov_mimg, tmat=tmat_mov_to_ref), tmat=tmat_ref_to_mov)\n",
    "napari.view_image(np.array([mov_mimg, mov_comeback_mimg]))"
   ]
  },
  {
   "cell_type": "code",
   "execution_count": 24,
   "metadata": {},
   "outputs": [
    {
     "name": "stderr",
     "output_type": "stream",
     "text": [
      "c:\\Users\\shires\\Anaconda3\\envs\\suite2p\\lib\\site-packages\\napari\\_vispy\\vispy_camera.py:109: RuntimeWarning: divide by zero encountered in true_divide\n",
      "  zoom = np.min(canvas_size / scale)\n"
     ]
    },
    {
     "data": {
      "text/plain": [
       "Viewer(axes=Axes(visible=False, labels=True, colored=True, dashed=False, arrows=True), camera=Camera(center=(0.0, 163.0, 313.0), zoom=2.4736421725239617, angles=(0.0, 0.0, 90.0), perspective=0.0, interactive=True), cursor=Cursor(position=(0.0, 0.0, 0.0), scaled=True, size=1, style='standard'), dims=Dims(ndim=3, ndisplay=2, last_used=2, range=((0.0, 1.0, 1.0), (0.0, 326.0, 1.0), (0.0, 626.0, 1.0)), current_step=(0, 0, 0), order=(0, 1, 2), axis_labels=('0', '1', '2')), grid=GridCanvas(enabled=False, stride=1, shape=(-1, -1)), layers=[<Image layer 'Image' at 0x1758b7c6c70>], scale_bar=ScaleBar(visible=False, colored=False, ticks=True, position='bottom_right', font_size=10.0, unit=None), text_overlay=TextOverlay(visible=False, color=array([1., 1., 1., 1.]), font_size=10.0, position='top_left', text=''), help='', status='Ready', tooltip=Tooltip(visible=False, text=''), theme='dark', title='napari', mouse_move_callbacks=[], mouse_drag_callbacks=[], mouse_wheel_callbacks=[<function dims_scroll at 0x00000175F070C550>], _persisted_mouse_event={}, _mouse_drag_gen={}, _mouse_wheel_gen={}, keymap={'Control-Shift-C': <bound method QtViewer.toggle_console_visibility of <napari._qt.qt_viewer.QtViewer object at 0x000001758A47A040>>})"
      ]
     },
     "execution_count": 24,
     "metadata": {},
     "output_type": "execute_result"
    }
   ],
   "source": [
    "# comeback image from applying inverse matrix\n",
    "inv_tmat_ref_to_mov = np.linalg.inv(tmat_ref_to_mov)\n",
    "ref_comeback_mimg_using_inv = sr.transform(sr.transform(ref_mimg, tmat=tmat_ref_to_mov), inv_tmat_ref_to_mov)\n",
    "napari.view_image(np.array([ref_mimg, ref_comeback_mimg_using_inv]))"
   ]
  },
  {
   "cell_type": "markdown",
   "metadata": {},
   "source": [
    "# Affine"
   ]
  },
  {
   "cell_type": "code",
   "execution_count": 25,
   "metadata": {},
   "outputs": [
    {
     "data": {
      "text/plain": [
       "array([[ 0.98454682,  0.02226894,  6.75687113],\n",
       "       [-0.02575935,  0.97789764, 13.98751523],\n",
       "       [ 0.        ,  0.        ,  1.        ]])"
      ]
     },
     "execution_count": 25,
     "metadata": {},
     "output_type": "execute_result"
    }
   ],
   "source": [
    "# Now, do the same thing with affine transformation\n",
    "sr = StackReg(StackReg.AFFINE)\n",
    "tmat_mov_to_ref = sr.register(ref_mimg, mov_mimg)\n",
    "reg_mimg_mov_to_ref = sr.transform(mov_mimg, tmat=tmat_mov_to_ref)\n",
    "tmat_mov_to_ref"
   ]
  },
  {
   "cell_type": "code",
   "execution_count": 26,
   "metadata": {},
   "outputs": [
    {
     "data": {
      "text/plain": [
       "array([[  1.01726951,  -0.02682832,  -6.36392689],\n",
       "       [  0.02523787,   1.03109363, -15.5227741 ],\n",
       "       [  0.        ,   0.        ,   1.        ]])"
      ]
     },
     "execution_count": 26,
     "metadata": {},
     "output_type": "execute_result"
    }
   ],
   "source": [
    "tmat_ref_to_mov = sr.register(mov_mimg, ref_mimg)\n",
    "reg_mimg_ref_to_mov = sr.transform(ref_mimg, tmat=tmat_ref_to_mov)\n",
    "tmat_ref_to_mov"
   ]
  },
  {
   "cell_type": "code",
   "execution_count": 27,
   "metadata": {},
   "outputs": [
    {
     "data": {
      "text/plain": [
       "array([[ 1.00224054, -0.00358183,  0.13437055],\n",
       "       [-0.00171244,  1.00886606, -0.92980718],\n",
       "       [ 0.        ,  0.        ,  1.        ]])"
      ]
     },
     "execution_count": 27,
     "metadata": {},
     "output_type": "execute_result"
    }
   ],
   "source": [
    "np.matmul(tmat_ref_to_mov,tmat_mov_to_ref)\n",
    "# Affine transformation back and forth does not have inverse matrix relationship"
   ]
  },
  {
   "cell_type": "code",
   "execution_count": 32,
   "metadata": {},
   "outputs": [
    {
     "name": "stderr",
     "output_type": "stream",
     "text": [
      "c:\\Users\\shires\\Anaconda3\\envs\\suite2p\\lib\\site-packages\\napari\\_vispy\\vispy_camera.py:109: RuntimeWarning: divide by zero encountered in true_divide\n",
      "  zoom = np.min(canvas_size / scale)\n"
     ]
    }
   ],
   "source": [
    "napari.view_image(np.array([reg_mimg_ref_to_mov, mov_mimg]));"
   ]
  },
  {
   "cell_type": "code",
   "execution_count": 30,
   "metadata": {},
   "outputs": [
    {
     "name": "stderr",
     "output_type": "stream",
     "text": [
      "c:\\Users\\shires\\Anaconda3\\envs\\suite2p\\lib\\site-packages\\napari\\_vispy\\vispy_camera.py:109: RuntimeWarning: divide by zero encountered in true_divide\n",
      "  zoom = np.min(canvas_size / scale)\n"
     ]
    },
    {
     "data": {
      "text/plain": [
       "Viewer(axes=Axes(visible=False, labels=True, colored=True, dashed=False, arrows=True), camera=Camera(center=(0.0, 163.0, 313.0), zoom=2.4736421725239617, angles=(0.0, 0.0, 90.0), perspective=0.0, interactive=True), cursor=Cursor(position=(0.0, 0.0, 0.0), scaled=True, size=1, style='standard'), dims=Dims(ndim=3, ndisplay=2, last_used=2, range=((0.0, 1.0, 1.0), (0.0, 326.0, 1.0), (0.0, 626.0, 1.0)), current_step=(0, 0, 0), order=(0, 1, 2), axis_labels=('0', '1', '2')), grid=GridCanvas(enabled=False, stride=1, shape=(-1, -1)), layers=[<Image layer 'Image' at 0x1758ff6d070>], scale_bar=ScaleBar(visible=False, colored=False, ticks=True, position='bottom_right', font_size=10.0, unit=None), text_overlay=TextOverlay(visible=False, color=array([1., 1., 1., 1.]), font_size=10.0, position='top_left', text=''), help='', status='Ready', tooltip=Tooltip(visible=False, text=''), theme='dark', title='napari', mouse_move_callbacks=[], mouse_drag_callbacks=[], mouse_wheel_callbacks=[<function dims_scroll at 0x00000175F070C550>], _persisted_mouse_event={}, _mouse_drag_gen={}, _mouse_wheel_gen={}, keymap={'Control-Shift-C': <bound method QtViewer.toggle_console_visibility of <napari._qt.qt_viewer.QtViewer object at 0x000001758F119040>>})"
      ]
     },
     "execution_count": 30,
     "metadata": {},
     "output_type": "execute_result"
    }
   ],
   "source": [
    "napari.view_image(np.array([reg_mimg_mov_to_ref, ref_mimg]));"
   ]
  },
  {
   "cell_type": "code",
   "execution_count": 31,
   "metadata": {},
   "outputs": [
    {
     "name": "stderr",
     "output_type": "stream",
     "text": [
      "c:\\Users\\shires\\Anaconda3\\envs\\suite2p\\lib\\site-packages\\napari\\_vispy\\vispy_camera.py:109: RuntimeWarning: divide by zero encountered in true_divide\n",
      "  zoom = np.min(canvas_size / scale)\n"
     ]
    },
    {
     "data": {
      "text/plain": [
       "Viewer(axes=Axes(visible=False, labels=True, colored=True, dashed=False, arrows=True), camera=Camera(center=(0.0, 163.0, 313.0), zoom=2.4736421725239617, angles=(0.0, 0.0, 90.0), perspective=0.0, interactive=True), cursor=Cursor(position=(0.0, 0.0, 0.0), scaled=True, size=1, style='standard'), dims=Dims(ndim=3, ndisplay=2, last_used=2, range=((0.0, 1.0, 1.0), (0.0, 326.0, 1.0), (0.0, 626.0, 1.0)), current_step=(0, 0, 0), order=(0, 1, 2), axis_labels=('0', '1', '2')), grid=GridCanvas(enabled=False, stride=1, shape=(-1, -1)), layers=[<Image layer 'Image' at 0x175929ba5b0>], scale_bar=ScaleBar(visible=False, colored=False, ticks=True, position='bottom_right', font_size=10.0, unit=None), text_overlay=TextOverlay(visible=False, color=array([1., 1., 1., 1.]), font_size=10.0, position='top_left', text=''), help='', status='Ready', tooltip=Tooltip(visible=False, text=''), theme='dark', title='napari', mouse_move_callbacks=[], mouse_drag_callbacks=[], mouse_wheel_callbacks=[<function dims_scroll at 0x00000175F070C550>], _persisted_mouse_event={}, _mouse_drag_gen={}, _mouse_wheel_gen={}, keymap={'Control-Shift-C': <bound method QtViewer.toggle_console_visibility of <napari._qt.qt_viewer.QtViewer object at 0x000001758C1948B0>>})"
      ]
     },
     "execution_count": 31,
     "metadata": {},
     "output_type": "execute_result"
    }
   ],
   "source": [
    "mov_comeback_mimg = sr.transform(sr.transform(mov_mimg, tmat=tmat_mov_to_ref), tmat=tmat_ref_to_mov)\n",
    "napari.view_image(np.array([mov_mimg, mov_comeback_mimg]))\n",
    "# Applying back and forth does not make it come back to the original image."
   ]
  },
  {
   "cell_type": "code",
   "execution_count": 34,
   "metadata": {},
   "outputs": [
    {
     "name": "stderr",
     "output_type": "stream",
     "text": [
      "c:\\Users\\shires\\Anaconda3\\envs\\suite2p\\lib\\site-packages\\napari\\_vispy\\vispy_camera.py:109: RuntimeWarning: divide by zero encountered in true_divide\n",
      "  zoom = np.min(canvas_size / scale)\n"
     ]
    }
   ],
   "source": [
    "# How about registering the registered image? (round-trip)\n",
    "tmat_ref_round_trip = sr.register(ref_mimg, reg_mimg_ref_to_mov)\n",
    "ref_mimg_round_trip = sr.transform(sr.transform(ref_mimg, tmat=tmat_ref_to_mov), tmat=tmat_ref_round_trip)\n",
    "napari.view_image(np.array([ref_mimg, ref_mimg_round_trip]));\n",
    "# Round-trip restores the image perfectly."
   ]
  },
  {
   "cell_type": "code",
   "execution_count": 35,
   "metadata": {},
   "outputs": [
    {
     "data": {
      "text/plain": [
       "array([[9.99992760e-01, 9.95226745e-06, 1.33449972e-03],\n",
       "       [7.75027883e-06, 9.99955193e-01, 7.27147807e-03],\n",
       "       [0.00000000e+00, 0.00000000e+00, 1.00000000e+00]])"
      ]
     },
     "execution_count": 35,
     "metadata": {},
     "output_type": "execute_result"
    }
   ],
   "source": [
    "np.matmul(tmat_ref_to_mov,tmat_ref_round_trip)\n",
    "# In case of affine, it is very close to the inverse transformation."
   ]
  },
  {
   "cell_type": "code",
   "execution_count": 37,
   "metadata": {},
   "outputs": [
    {
     "name": "stderr",
     "output_type": "stream",
     "text": [
      "c:\\Users\\shires\\Anaconda3\\envs\\suite2p\\lib\\site-packages\\napari\\_vispy\\vispy_camera.py:109: RuntimeWarning: divide by zero encountered in true_divide\n",
      "  zoom = np.min(canvas_size / scale)\n"
     ]
    }
   ],
   "source": [
    "# Try inverse transformation for affine\n",
    "inv_tmat_ref_to_mov = np.linalg.inv(tmat_ref_to_mov)\n",
    "ref_comeback_mimg_using_inv = sr.transform(sr.transform(ref_mimg, tmat=tmat_ref_to_mov), inv_tmat_ref_to_mov)\n",
    "napari.view_image(np.array([ref_mimg, ref_comeback_mimg_using_inv]));\n",
    "# For affine, inverse matrix works."
   ]
  },
  {
   "cell_type": "markdown",
   "metadata": {},
   "source": [
    "# Bilinear"
   ]
  },
  {
   "cell_type": "code",
   "execution_count": 39,
   "metadata": {},
   "outputs": [
    {
     "data": {
      "text/plain": [
       "array([[ 9.82053818e-01,  1.84835147e-02,  1.33689915e-05,\n",
       "         7.43799346e+00],\n",
       "       [-2.54524518e-02,  9.78127100e-01, -1.26218533e-06,\n",
       "         1.39315565e+01],\n",
       "       [ 0.00000000e+00,  0.00000000e+00,  1.00000000e+00,\n",
       "         0.00000000e+00],\n",
       "       [ 0.00000000e+00,  0.00000000e+00,  0.00000000e+00,\n",
       "         1.00000000e+00]])"
      ]
     },
     "execution_count": 39,
     "metadata": {},
     "output_type": "execute_result"
    }
   ],
   "source": [
    "# Now, test in bilinear transformation\n",
    "sr = StackReg(StackReg.BILINEAR)\n",
    "tmat_mov_to_ref = sr.register(ref_mimg, mov_mimg)\n",
    "reg_mimg_mov_to_ref = sr.transform(mov_mimg, tmat=tmat_mov_to_ref)\n",
    "tmat_mov_to_ref"
   ]
  },
  {
   "cell_type": "code",
   "execution_count": 40,
   "metadata": {},
   "outputs": [
    {
     "data": {
      "text/plain": [
       "array([[ 1.02058613e+00, -1.53341001e-02, -2.69962849e-05,\n",
       "        -8.02879803e+00],\n",
       "       [ 2.75040379e-02,  1.02549153e+00, -5.31253373e-06,\n",
       "        -1.49557850e+01],\n",
       "       [ 0.00000000e+00,  0.00000000e+00,  1.00000000e+00,\n",
       "         0.00000000e+00],\n",
       "       [ 0.00000000e+00,  0.00000000e+00,  0.00000000e+00,\n",
       "         1.00000000e+00]])"
      ]
     },
     "execution_count": 40,
     "metadata": {},
     "output_type": "execute_result"
    }
   ],
   "source": [
    "tmat_ref_to_mov = sr.register(mov_mimg, ref_mimg)\n",
    "reg_mimg_ref_to_mov = sr.transform(ref_mimg, tmat=tmat_ref_to_mov)\n",
    "tmat_ref_to_mov"
   ]
  },
  {
   "cell_type": "code",
   "execution_count": 41,
   "metadata": {},
   "outputs": [
    {
     "data": {
      "text/plain": [
       "array([[ 1.00266079e+00,  3.86531977e-03, -1.33327232e-05,\n",
       "        -6.51312983e-01],\n",
       "       [ 9.09171742e-04,  1.00356943e+00, -6.23919284e-06,\n",
       "        -4.64517010e-01],\n",
       "       [ 0.00000000e+00,  0.00000000e+00,  1.00000000e+00,\n",
       "         0.00000000e+00],\n",
       "       [ 0.00000000e+00,  0.00000000e+00,  0.00000000e+00,\n",
       "         1.00000000e+00]])"
      ]
     },
     "execution_count": 41,
     "metadata": {},
     "output_type": "execute_result"
    }
   ],
   "source": [
    "np.matmul(tmat_ref_to_mov,tmat_mov_to_ref)\n",
    "# Bilinear transformation back and forth does not have inverse matrix relationship"
   ]
  },
  {
   "cell_type": "code",
   "execution_count": 42,
   "metadata": {},
   "outputs": [
    {
     "name": "stderr",
     "output_type": "stream",
     "text": [
      "c:\\Users\\shires\\Anaconda3\\envs\\suite2p\\lib\\site-packages\\napari\\_vispy\\vispy_camera.py:109: RuntimeWarning: divide by zero encountered in true_divide\n",
      "  zoom = np.min(canvas_size / scale)\n"
     ]
    }
   ],
   "source": [
    "napari.view_image(np.array([reg_mimg_ref_to_mov, mov_mimg]));"
   ]
  },
  {
   "cell_type": "code",
   "execution_count": 43,
   "metadata": {},
   "outputs": [
    {
     "name": "stderr",
     "output_type": "stream",
     "text": [
      "c:\\Users\\shires\\Anaconda3\\envs\\suite2p\\lib\\site-packages\\napari\\_vispy\\vispy_camera.py:109: RuntimeWarning: divide by zero encountered in true_divide\n",
      "  zoom = np.min(canvas_size / scale)\n"
     ]
    }
   ],
   "source": [
    "napari.view_image(np.array([reg_mimg_mov_to_ref, ref_mimg]));"
   ]
  },
  {
   "cell_type": "code",
   "execution_count": 51,
   "metadata": {},
   "outputs": [
    {
     "name": "stderr",
     "output_type": "stream",
     "text": [
      "c:\\Users\\shires\\Anaconda3\\envs\\suite2p\\lib\\site-packages\\napari\\_vispy\\vispy_camera.py:109: RuntimeWarning: divide by zero encountered in true_divide\n",
      "  zoom = np.min(canvas_size / scale)\n"
     ]
    },
    {
     "data": {
      "text/plain": [
       "<Image layer 'mov_mimg' at 0x1759c575310>"
      ]
     },
     "execution_count": 51,
     "metadata": {},
     "output_type": "execute_result"
    }
   ],
   "source": [
    "mov_comeback_mimg = sr.transform(sr.transform(mov_mimg, tmat=tmat_mov_to_ref), tmat=tmat_ref_to_mov)\n",
    "# napari.view_image(imblend_for_napari(mov_mimg, mov_comeback_mimg));\n",
    "viewer = napari.Viewer()\n",
    "viewer.add_image(mov_comeback_mimg)\n",
    "viewer.add_image(mov_mimg)\n",
    "# Applying back and forth is close to the original image - but maybe it is specific to this image pair.\n",
    "\n"
   ]
  },
  {
   "cell_type": "markdown",
   "metadata": {},
   "source": [
    "# For bilinear registration\n",
    "- Are samples registered with bilinear transformation works well with back and forth?\n",
    "- If not, I should apply round=trip registration method."
   ]
  },
  {
   "cell_type": "code",
   "execution_count": 54,
   "metadata": {},
   "outputs": [
    {
     "data": {
      "text/plain": [
       "'bilinear'"
      ]
     },
     "execution_count": 54,
     "metadata": {},
     "output_type": "execute_result"
    }
   ],
   "source": [
    "mi = 0\n",
    "pn = 4\n",
    "mouse=mice[mi]\n",
    "mouse_str = f'{mouse:03}'\n",
    "reg_meth = optimal_reg_methods[mouse_str][pn-1]\n",
    "refSn = refSessions[mi] # for 'old' method\n",
    "planeDir = f'{h5Dir}{mouse:03}/plane_{pn}/'\n",
    "session_to_session_registration = np.load(f'{planeDir}JK{mouse:03}_plane{pn}_session_to_session_registration.npy', allow_pickle=True).item()\n",
    "selected_session_num = session_to_session_registration['selected_session_num']\n",
    "edge_buffer = session_to_session_registration['edge_buffer']\n",
    "reg_meth"
   ]
  },
  {
   "cell_type": "code",
   "execution_count": 59,
   "metadata": {},
   "outputs": [
    {
     "name": "stderr",
     "output_type": "stream",
     "text": [
      "c:\\Users\\shires\\Anaconda3\\envs\\suite2p\\lib\\site-packages\\napari\\_vispy\\vispy_camera.py:109: RuntimeWarning: divide by zero encountered in true_divide\n",
      "  zoom = np.min(canvas_size / scale)\n"
     ]
    },
    {
     "data": {
      "text/plain": [
       "Viewer(axes=Axes(visible=False, labels=True, colored=True, dashed=False, arrows=True), camera=Camera(center=(0.0, 163.0, 313.0), zoom=2.4736421725239617, angles=(0.0, 0.0, 90.0), perspective=0.0, interactive=True), cursor=Cursor(position=(0.0, 0.0, 0.0), scaled=True, size=1, style='standard'), dims=Dims(ndim=3, ndisplay=2, last_used=2, range=((0.0, 1.0, 1.0), (0.0, 326.0, 1.0), (0.0, 626.0, 1.0)), current_step=(0, 0, 0), order=(0, 1, 2), axis_labels=('0', '1', '2')), grid=GridCanvas(enabled=False, stride=1, shape=(-1, -1)), layers=[<Image layer 'Image' at 0x17593a4f9d0>], scale_bar=ScaleBar(visible=False, colored=False, ticks=True, position='bottom_right', font_size=10.0, unit=None), text_overlay=TextOverlay(visible=False, color=array([1., 1., 1., 1.]), font_size=10.0, position='top_left', text=''), help='', status='Ready', tooltip=Tooltip(visible=False, text=''), theme='dark', title='napari', mouse_move_callbacks=[], mouse_drag_callbacks=[], mouse_wheel_callbacks=[<function dims_scroll at 0x00000175F070C550>], _persisted_mouse_event={}, _mouse_drag_gen={}, _mouse_wheel_gen={}, keymap={'Control-Shift-C': <bound method QtViewer.toggle_console_visibility of <napari._qt.qt_viewer.QtViewer object at 0x000001759C9A7A60>>})"
      ]
     },
     "execution_count": 59,
     "metadata": {},
     "output_type": "execute_result"
    }
   ],
   "source": [
    "ref_i = 3\n",
    "mov_i = 8\n",
    "ref_num = selected_session_num[ref_i]\n",
    "mov_num = selected_session_num[mov_i]\n",
    "ref_mimg = get_mimg(planeDir, ref_num, edge_buffer)\n",
    "mov_mimg = get_mimg(planeDir, mov_num, edge_buffer)\n",
    "napari.view_image(np.array([ref_mimg,mov_mimg]))"
   ]
  },
  {
   "cell_type": "code",
   "execution_count": 61,
   "metadata": {},
   "outputs": [
    {
     "name": "stderr",
     "output_type": "stream",
     "text": [
      "c:\\Users\\shires\\Anaconda3\\envs\\suite2p\\lib\\site-packages\\napari\\_vispy\\vispy_camera.py:109: RuntimeWarning: divide by zero encountered in true_divide\n",
      "  zoom = np.min(canvas_size / scale)\n"
     ]
    }
   ],
   "source": [
    "sr = StackReg(StackReg.BILINEAR)\n",
    "tmat_mov_to_ref = sr.register(ref_mimg, mov_mimg)\n",
    "reg_mimg_mov_to_ref = sr.transform(mov_mimg, tmat=tmat_mov_to_ref)\n",
    "tmat_ref_to_mov = sr.register(mov_mimg, ref_mimg)\n",
    "reg_mimg_ref_to_mov = sr.transform(ref_mimg, tmat=tmat_ref_to_mov)\n",
    "viewer = napari.Viewer()\n",
    "viewer.add_image(np.array([reg_mimg_ref_to_mov, mov_mimg]), name='ref to mov');\n",
    "viewer.add_image(np.array([reg_mimg_mov_to_ref, ref_mimg]), name='mov to ref');"
   ]
  },
  {
   "cell_type": "markdown",
   "metadata": {},
   "source": [
    "Examples of bad registration <br>\n",
    "mi = 0, pn = 4, ref_i = 3, mov_i = 8: ref to mov is great, mov to ref is bad -> both mov comeback and ref comeback were bad.\n",
    "- Cannot use comeback registration"
   ]
  },
  {
   "cell_type": "code",
   "execution_count": 62,
   "metadata": {},
   "outputs": [
    {
     "name": "stderr",
     "output_type": "stream",
     "text": [
      "c:\\Users\\shires\\Anaconda3\\envs\\suite2p\\lib\\site-packages\\napari\\_vispy\\vispy_camera.py:109: RuntimeWarning: divide by zero encountered in true_divide\n",
      "  zoom = np.min(canvas_size / scale)\n"
     ]
    },
    {
     "data": {
      "text/plain": [
       "<Image layer 'mov_mimg' at 0x17592a6e370>"
      ]
     },
     "execution_count": 62,
     "metadata": {},
     "output_type": "execute_result"
    }
   ],
   "source": [
    "mov_comeback_mimg = sr.transform(sr.transform(mov_mimg, tmat=tmat_mov_to_ref), tmat=tmat_ref_to_mov)\n",
    "viewer = napari.Viewer()\n",
    "viewer.add_image(mov_comeback_mimg)\n",
    "viewer.add_image(mov_mimg)"
   ]
  },
  {
   "cell_type": "code",
   "execution_count": 63,
   "metadata": {},
   "outputs": [
    {
     "name": "stderr",
     "output_type": "stream",
     "text": [
      "c:\\Users\\shires\\Anaconda3\\envs\\suite2p\\lib\\site-packages\\napari\\_vispy\\vispy_camera.py:109: RuntimeWarning: divide by zero encountered in true_divide\n",
      "  zoom = np.min(canvas_size / scale)\n"
     ]
    },
    {
     "data": {
      "text/plain": [
       "<Image layer 'ref_mimg' at 0x17599620910>"
      ]
     },
     "execution_count": 63,
     "metadata": {},
     "output_type": "execute_result"
    }
   ],
   "source": [
    "ref_comeback_mimg = sr.transform(sr.transform(ref_mimg, tmat=tmat_ref_to_mov), tmat=tmat_mov_to_ref)\n",
    "viewer = napari.Viewer()\n",
    "viewer.add_image(ref_comeback_mimg)\n",
    "viewer.add_image(ref_mimg)"
   ]
  },
  {
   "cell_type": "markdown",
   "metadata": {},
   "source": [
    "What about round-trip registration in this case?"
   ]
  },
  {
   "cell_type": "code",
   "execution_count": 65,
   "metadata": {},
   "outputs": [
    {
     "name": "stderr",
     "output_type": "stream",
     "text": [
      "c:\\Users\\shires\\Anaconda3\\envs\\suite2p\\lib\\site-packages\\napari\\_vispy\\vispy_camera.py:109: RuntimeWarning: divide by zero encountered in true_divide\n",
      "  zoom = np.min(canvas_size / scale)\n"
     ]
    }
   ],
   "source": [
    "# How about registering the registered image? (round-trip)\n",
    "tmat_ref_round_trip = sr.register(ref_mimg, reg_mimg_ref_to_mov)\n",
    "ref_mimg_round_trip = sr.transform(sr.transform(ref_mimg, tmat=tmat_ref_to_mov), tmat=tmat_ref_round_trip)\n",
    "tmat_mov_round_trip = sr.register(mov_mimg, reg_mimg_mov_to_ref)\n",
    "mov_mimg_round_trip = sr.transform(sr.transform(mov_mimg, tmat=tmat_mov_to_ref), tmat=tmat_mov_round_trip)\n",
    "\n",
    "viewer = napari.Viewer()\n",
    "viewer.add_image(np.array([ref_mimg, ref_mimg_round_trip]), name='ref round-trip');\n",
    "viewer.add_image(np.array([mov_mimg, mov_mimg_round_trip]), name='mov round-trip');\n"
   ]
  },
  {
   "cell_type": "markdown",
   "metadata": {},
   "source": [
    "For bad registration (mov-to-ref in this example), round-trip was better than back and forth, but still it was quite distorted. <br>\n",
    "For good registraiton (ref-to-mov in this example), round-trip perfectly restored the image."
   ]
  },
  {
   "cell_type": "markdown",
   "metadata": {},
   "source": [
    "# Conclusion\n",
    "- For affine, apply inverse matrix for transformation.\n",
    "- For bilinear, since I confirmed it worked for select samples, apply the round-trip registration for each session image.\n",
    "\n",
    "# Next step\n",
    "- Visually check how the backward registration (from the master map to each session) worked.\n",
    "- Quantify proportion of matched area.\n",
    "    - Can be used to filter out ROIs to discard. (Maybe apply to a certain region of the FOV?) \n",
    "        - May not need to discard ROIs at all. \n",
    "        - Because I want to look at non-detected ROIs as well. \n",
    "        - Also, suite2p does not get all active cells, and I curated very conservatively.\n",
    "    - Possibly in combination with the signal correlation values.\n",
    "- Collect signals in both this backward registration (With lambda=1) and the session ROI (With lambda=1)\n",
    "    - Quantify correlation between these two signals. "
   ]
  }
 ],
 "metadata": {
  "kernelspec": {
   "display_name": "Python 3.8.11 ('suite2p')",
   "language": "python",
   "name": "python3"
  },
  "language_info": {
   "codemirror_mode": {
    "name": "ipython",
    "version": 3
   },
   "file_extension": ".py",
   "mimetype": "text/x-python",
   "name": "python",
   "nbconvert_exporter": "python",
   "pygments_lexer": "ipython3",
   "version": "3.8.11"
  },
  "orig_nbformat": 4,
  "vscode": {
   "interpreter": {
    "hash": "53092f88beb6d9efd0118112bc0e9c1c54eac338b7f8334bd9c460f5dc451b11"
   }
  }
 },
 "nbformat": 4,
 "nbformat_minor": 2
}
