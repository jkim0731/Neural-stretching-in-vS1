{
 "cells": [
  {
   "attachments": {},
   "cell_type": "markdown",
   "metadata": {},
   "source": [
    "# Representational drift\n",
    "### Questions\n",
    "- Is touch neuron change random?\n",
    "- Is tuning change random?"
   ]
  },
  {
   "cell_type": "code",
   "execution_count": 1,
   "metadata": {},
   "outputs": [],
   "source": [
    "import numpy as np\n",
    "np.set_printoptions(suppress=True)\n",
    "import pandas as pd\n",
    "import os, glob, h5py\n",
    "from pathlib import Path\n",
    "from matplotlib import pyplot as plt\n",
    "import seaborn as sns\n",
    "from tqdm import notebook\n",
    "from scipy import stats\n",
    "from sklearn.decomposition import PCA\n",
    "from sklearn.preprocessing import StandardScaler\n",
    "import matplotlib as mpl\n",
    "\n",
    "h5_dir_1 = Path('H:/')\n",
    "h5_dir_2 = Path('F:/')\n",
    "b_dir = Path('D:/SoloData/')\n",
    "w_dir = Path('D:/WhiskerVideo/')\n",
    "mice =          [25,    27,   30,   36,     37,     38,     39,     41,     52,     53,     54,     56]\n",
    "expert_mice = [25, 27, 30, 36, 39, 52]\n",
    "ref_sessions = [4,3,3,1,1,3]\n",
    "exp_sessions = [19,10,21,17,23,21]\n",
    "# refSessions =   [4,     3,    3,    1,      7,      2,      1,      3,      3,      3,      3,      3]\n",
    "# expSessions =   [19,    10,   21,   17,     0,      0,      23,     0,      21,     0,      0,      0]\n",
    "# zoom =          [2,     2,    2,    1.7,    1.7,    1.7,    1.7,    1.7,    1.7,    1.7,    1.7,    1.7]\n",
    "image_rate_list = [30.8359, 30.8359, 30.8359, 30.8359, \n",
    "                    24.2892, 24.2892, 24.2892, 24.2892,\n",
    "                    30.8359, 30.8359, 30.8359, 30.8359] # from .mat file (sbx)\n",
    "image_size_list = [[512,796], [512,796], [512,796], [512,796], \n",
    "                    [650,796], [650,796], [650,796], [650,796], \n",
    "                    [512,796], [512,796], [512,796], [512,796]] # from .mat file (sbx)\n",
    "planes = range(1,9)\n",
    "\n",
    "save_dir_base = Path(r'C:\\Users\\shires\\Dropbox\\Works\\Projects\\2020 Neural stretching in S1\\Results')\n",
    "# save_dir = Path('/Users/jinho.kim/Dropbox/Works/Projects/2020 Neural stretching in S1/Data')"
   ]
  },
  {
   "attachments": {},
   "cell_type": "markdown",
   "metadata": {},
   "source": [
    "# Test in one plane"
   ]
  },
  {
   "cell_type": "code",
   "execution_count": null,
   "metadata": {},
   "outputs": [],
   "source": [
    "# Load crude touch response dataframe\n",
    "\n"
   ]
  }
 ],
 "metadata": {
  "kernelspec": {
   "display_name": "suite2p",
   "language": "python",
   "name": "python3"
  },
  "language_info": {
   "codemirror_mode": {
    "name": "ipython",
    "version": 3
   },
   "file_extension": ".py",
   "mimetype": "text/x-python",
   "name": "python",
   "nbconvert_exporter": "python",
   "pygments_lexer": "ipython3",
   "version": "3.8.11"
  },
  "orig_nbformat": 4,
  "vscode": {
   "interpreter": {
    "hash": "53092f88beb6d9efd0118112bc0e9c1c54eac338b7f8334bd9c460f5dc451b11"
   }
  }
 },
 "nbformat": 4,
 "nbformat_minor": 2
}
