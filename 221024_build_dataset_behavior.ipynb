{
 "cells": [
  {
   "cell_type": "code",
   "execution_count": null,
   "metadata": {},
   "outputs": [],
   "source": [
    "import numpy as np\n",
    "import matplotlib.pyplot as plt\n",
    "import pandas as pd\n",
    "import os, shutil, tqdm, glob, h5py, mat73\n",
    "from pathlib import Path\n",
    "from scipy.io import loadmat\n",
    "\n",
    "h5_dir = Path('H:/')\n",
    "b_dir = Path('D:/SoloData/')\n",
    "w_dir = Path('D:/WhiskerVideo/')\n",
    "mice =          [25,    27,   30,   36,     37,     38,     39,     41,     52,     53,     54,     56]"
   ]
  }
 ],
 "metadata": {
  "kernelspec": {
   "display_name": "Python 3.8.11 ('suite2p')",
   "language": "python",
   "name": "python3"
  },
  "language_info": {
   "name": "python",
   "version": "3.8.11"
  },
  "orig_nbformat": 4,
  "vscode": {
   "interpreter": {
    "hash": "53092f88beb6d9efd0118112bc0e9c1c54eac338b7f8334bd9c460f5dc451b11"
   }
  }
 },
 "nbformat": 4,
 "nbformat_minor": 2
}
