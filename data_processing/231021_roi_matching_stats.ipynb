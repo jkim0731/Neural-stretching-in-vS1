{
 "cells": [
  {
   "cell_type": "markdown",
   "metadata": {},
   "source": [
    "# Purpose\n",
    "- Look at the stats of ROI matching across sessions\n",
    "- Treat one imaging volume as one\n",
    "- Following 231015_roi_merge_qc.ipynb\n",
    "    - Seems like almost no ROI survived in all the sessions\n",
    "- Stats:\n",
    "    - ROI IOU between all pairs of sessions\n",
    "        - After removing the edge ROIs (consider rolling edge of suite2p as well)\n",
    "        - Each ROI is deemed matched if IOU > 0.7\n",
    "            - Deal with multi-match\n",
    "    - ROI IOU vs depth difference \n",
    "        - Only using the mean depth of the session\n",
    "    - ROI IOU vs time difference\n",
    "        - Within certain range of depth\n",
    "        "
   ]
  },
  {
   "cell_type": "code",
   "execution_count": null,
   "metadata": {},
   "outputs": [],
   "source": [
    "import numpy as np\n",
    "import pandas as pd\n",
    "from pathlib import Path\n",
    "import matplotlib.pyplot as plt\n",
    "\n",
    "base_dir = Path(r'E:\\TPM\\JK\\h5')\n",
    "mice = [25,27,30,36,39,52]\n",
    "planes = range(1,9)\n",
    "\n",
    "# Generate tuples of sessions\n",
    "session_tuples = []\n",
    "for mouse in mice:\n",
    "    for plane in planes:\n",
    "        plane_dir = base_dir / f'{mouse:03}/plane_{plane}'\n",
    "        sessions = [x.name for x in plane_dir.iterdir() if x.is_dir() and x.name[0].isdigit()]\n",
    "        # list of (mouse,plane,session) tuples\n",
    "        for session in sessions:\n",
    "            session_tuples.append((mouse,plane,session))"
   ]
  },
  {
   "cell_type": "code",
   "execution_count": null,
   "metadata": {},
   "outputs": [],
   "source": []
  }
 ],
 "metadata": {
  "kernelspec": {
   "display_name": "suite2p",
   "language": "python",
   "name": "python3"
  },
  "language_info": {
   "name": "python",
   "version": "3.8.11"
  }
 },
 "nbformat": 4,
 "nbformat_minor": 2
}
