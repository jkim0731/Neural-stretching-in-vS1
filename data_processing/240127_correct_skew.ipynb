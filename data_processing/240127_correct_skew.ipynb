{
 "cells": [
  {
   "cell_type": "markdown",
   "metadata": {},
   "source": [
    "# Purpose:\n",
    "- I'm using skewness of dF to filter tdTomato-only ROIs from JK052\n",
    "- There are sessions (e.g., S014 for lower volume of JK052) where huge signal error leads to too high skewness values compared to other sessions.\n",
    "- Correct skew values using reduced fluorescence for select sessions\n",
    "    - For all JK052 sessions\n",
    "    - dF = F_reduced - ops['neucoeff'] * Fneu_reduced\n",
    "- Actually, re-calculate skew and save them to stat_reduced for all mice and sessions"
   ]
  },
  {
   "cell_type": "code",
   "execution_count": 7,
   "metadata": {},
   "outputs": [],
   "source": [
    "import numpy as np\n",
    "import pandas as pd\n",
    "from scipy import stats\n",
    "from pathlib import Path\n",
    "from matplotlib import pyplot as plt"
   ]
  },
  {
   "cell_type": "code",
   "execution_count": 3,
   "metadata": {},
   "outputs": [],
   "source": [
    "\n",
    "base_dir = Path(r'E:\\TPM\\JK\\h5')\n",
    "\n",
    "expert_mice_df = pd.read_csv(base_dir / 'expert_mice.csv', index_col=0)\n",
    "use_mice_df = expert_mice_df.loc[expert_mice_df['depth_matched'].astype(bool) & \n",
    "                                 ~expert_mice_df['processing_error'].astype(bool) &\n",
    "                                 ((expert_mice_df.session_type == 'training') |\n",
    "                                  (expert_mice_df.session_type.str.contains('test')))]\n"
   ]
  },
  {
   "cell_type": "code",
   "execution_count": 5,
   "metadata": {},
   "outputs": [],
   "source": [
    "# Test in one session\n",
    "mouse = 52\n",
    "plane = 1\n",
    "session_num = 3\n",
    "session_name = f'{session_num:03}'\n",
    "plane_dir = base_dir / f'{mouse:03}' / f'plane_{plane}'\n",
    "roi_dir = plane_dir / f'{session_name}/plane0/roi'\n",
    "ops = np.load(roi_dir / 'ops.npy', allow_pickle=True).item()\n",
    "stat = np.load(roi_dir / 'stat.npy', allow_pickle=True)\n",
    "F_reduced = np.load(roi_dir / 'F_reduced.npy')\n",
    "Fneu_reduced = np.load(roi_dir / 'Fneu_reduced.npy')\n",
    "assert F_reduced.shape == Fneu_reduced.shape\n",
    "assert F_reduced.shape[0] == len(stat)\n",
    "dF = F_reduced - ops['neucoeff'] * Fneu_reduced\n",
    "sk = stats.skew(dF, axis=1)\n",
    "\n"
   ]
  },
  {
   "cell_type": "code",
   "execution_count": 8,
   "metadata": {},
   "outputs": [
    {
     "data": {
      "text/plain": [
       "<matplotlib.collections.PathCollection at 0x21342d94070>"
      ]
     },
     "execution_count": 8,
     "metadata": {},
     "output_type": "execute_result"
    },
    {
     "data": {
      "image/png": "[encoded data removed]",
      "text/plain": [
       "<Figure size 432x288 with 1 Axes>"
      ]
     },
     "metadata": {
      "needs_background": "light"
     },
     "output_type": "display_data"
    }
   ],
   "source": [
    "skew_from_stats = np.array([s['skew'] for s in stat])\n",
    "fig, ax = plt.subplots()\n",
    "ax.scatter(skew_from_stats, sk)"
   ]
  },
  {
   "cell_type": "code",
   "execution_count": 11,
   "metadata": {},
   "outputs": [
    {
     "name": "stdout",
     "output_type": "stream",
     "text": [
      "False\n"
     ]
    },
    {
     "data": {
      "image/png": "[encoded data removed]",
      "text/plain": [
       "<Figure size 432x288 with 1 Axes>"
      ]
     },
     "metadata": {
      "needs_background": "light"
     },
     "output_type": "display_data"
    }
   ],
   "source": [
    "for i, s in enumerate(stat):\n",
    "    s['skew'] = sk[i]\n",
    "skew_from_stats_reduced = np.array([s['skew'] for s in stat])\n",
    "fig, ax = plt.subplots()\n",
    "ax.scatter(skew_from_stats_reduced, sk)\n",
    "print((skew_from_stats_reduced - sk).any())"
   ]
  },
  {
   "cell_type": "code",
   "execution_count": 14,
   "metadata": {},
   "outputs": [
    {
     "data": {
      "text/plain": [
       "'001'"
      ]
     },
     "execution_count": 14,
     "metadata": {},
     "output_type": "execute_result"
    }
   ],
   "source": [
    "row = use_mice_df.iloc[0]\n",
    "row.session"
   ]
  },
  {
   "cell_type": "code",
   "execution_count": 16,
   "metadata": {},
   "outputs": [
    {
     "data": {
      "application/vnd.jupyter.widget-view+json": {
       "model_id": "1e0f2094f07e4eea8e49e5003ba25b92",
       "version_major": 2,
       "version_minor": 0
      },
      "text/plain": [
       "0it [00:00, ?it/s]"
      ]
     },
     "metadata": {},
     "output_type": "display_data"
    }
   ],
   "source": [
    "from tqdm.notebook import tqdm\n",
    "for _, row in tqdm(use_mice_df.iterrows()):\n",
    "    mouse = row.mouse\n",
    "    plane = row.plane\n",
    "    session_name = row.session\n",
    "    plane_dir = base_dir / f'{mouse:03}' / f'plane_{plane}'\n",
    "    roi_dir = plane_dir / f'{session_name}/plane0/roi'\n",
    "    if not roi_dir.exists():\n",
    "        print(f'{roi_dir} does not exist')\n",
    "        continue\n",
    "    ops = np.load(roi_dir / 'ops.npy', allow_pickle=True).item()\n",
    "    stat = np.load(roi_dir / 'stat.npy', allow_pickle=True)\n",
    "    F_reduced = np.load(roi_dir / 'F_reduced.npy')\n",
    "    Fneu_reduced = np.load(roi_dir / 'Fneu_reduced.npy')\n",
    "    assert F_reduced.shape == Fneu_reduced.shape\n",
    "    assert F_reduced.shape[0] == len(stat)\n",
    "    dF = F_reduced - ops['neucoeff'] * Fneu_reduced\n",
    "    sk = stats.skew(dF, axis=1)\n",
    "    for i, s in enumerate(stat):\n",
    "        s['skew'] = sk[i]\n",
    "    np.save(roi_dir / 'stat_reduced.npy', stat)\n",
    "# 6m 18.7s for all the sessions"
   ]
  },
  {
   "cell_type": "markdown",
   "metadata": {},
   "source": [
    "# The high skew in JK052 S014 lower volume is still there\n",
    "- check the traces"
   ]
  },
  {
   "cell_type": "code",
   "execution_count": 17,
   "metadata": {},
   "outputs": [
    {
     "data": {
      "text/plain": [
       "<matplotlib.image.AxesImage at 0x2133ff2fd60>"
      ]
     },
     "execution_count": 17,
     "metadata": {},
     "output_type": "execute_result"
    },
    {
     "data": {
      "image/png": "[encoded data removed]",
      "text/plain": [
       "<Figure size 432x288 with 1 Axes>"
      ]
     },
     "metadata": {
      "needs_background": "light"
     },
     "output_type": "display_data"
    }
   ],
   "source": [
    "mouse = 52\n",
    "plane = 5\n",
    "session_name = '014'\n",
    "plane_dir = base_dir / f'{mouse:03}' / f'plane_{plane}'\n",
    "roi_dir = plane_dir / f'{session_name}/plane0/roi'\n",
    "F = np.load(roi_dir / 'F_reduced.npy')\n",
    "fig, ax = plt.subplots()\n",
    "ax.imshow(F)"
   ]
  },
  {
   "cell_type": "markdown",
   "metadata": {},
   "source": [
    "## F_reduced is not enough\n",
    "- Need to remove frames from error check (refined_frame_time.pkl)\n",
    "    - (from 231209_manual_trial_removal.ipynb)"
   ]
  },
  {
   "cell_type": "code",
   "execution_count": 18,
   "metadata": {},
   "outputs": [
    {
     "data": {
      "text/html": [
       "<div>\n",
       "<style scoped>\n",
       "    .dataframe tbody tr th:only-of-type {\n",
       "        vertical-align: middle;\n",
       "    }\n",
       "\n",
       "    .dataframe tbody tr th {\n",
       "        vertical-align: top;\n",
       "    }\n",
       "\n",
       "    .dataframe thead th {\n",
       "        text-align: right;\n",
       "    }\n",
       "</style>\n",
       "<table border=\"1\" class=\"dataframe\">\n",
       "  <thead>\n",
       "    <tr style=\"text-align: right;\">\n",
       "      <th></th>\n",
       "      <th>trialNum</th>\n",
       "      <th>frame_start_time</th>\n",
       "      <th>frame_end_time</th>\n",
       "      <th>trial_duration</th>\n",
       "      <th>frame_index</th>\n",
       "      <th>remove_frame</th>\n",
       "      <th>remove_trial</th>\n",
       "    </tr>\n",
       "  </thead>\n",
       "  <tbody>\n",
       "    <tr>\n",
       "      <th>0</th>\n",
       "      <td>7</td>\n",
       "      <td>0.317710</td>\n",
       "      <td>0.350140</td>\n",
       "      <td>8.395944</td>\n",
       "      <td>1</td>\n",
       "      <td>False</td>\n",
       "      <td>False</td>\n",
       "    </tr>\n",
       "    <tr>\n",
       "      <th>1</th>\n",
       "      <td>7</td>\n",
       "      <td>0.447429</td>\n",
       "      <td>0.479859</td>\n",
       "      <td>8.395944</td>\n",
       "      <td>2</td>\n",
       "      <td>False</td>\n",
       "      <td>False</td>\n",
       "    </tr>\n",
       "    <tr>\n",
       "      <th>2</th>\n",
       "      <td>7</td>\n",
       "      <td>0.577148</td>\n",
       "      <td>0.609578</td>\n",
       "      <td>8.395944</td>\n",
       "      <td>3</td>\n",
       "      <td>False</td>\n",
       "      <td>False</td>\n",
       "    </tr>\n",
       "    <tr>\n",
       "      <th>3</th>\n",
       "      <td>7</td>\n",
       "      <td>0.706867</td>\n",
       "      <td>0.739297</td>\n",
       "      <td>8.395944</td>\n",
       "      <td>4</td>\n",
       "      <td>False</td>\n",
       "      <td>False</td>\n",
       "    </tr>\n",
       "    <tr>\n",
       "      <th>4</th>\n",
       "      <td>7</td>\n",
       "      <td>0.836586</td>\n",
       "      <td>0.869015</td>\n",
       "      <td>8.395944</td>\n",
       "      <td>5</td>\n",
       "      <td>False</td>\n",
       "      <td>False</td>\n",
       "    </tr>\n",
       "  </tbody>\n",
       "</table>\n",
       "</div>"
      ],
      "text/plain": [
       "  trialNum  frame_start_time  frame_end_time  trial_duration frame_index  \\\n",
       "0        7          0.317710        0.350140        8.395944           1   \n",
       "1        7          0.447429        0.479859        8.395944           2   \n",
       "2        7          0.577148        0.609578        8.395944           3   \n",
       "3        7          0.706867        0.739297        8.395944           4   \n",
       "4        7          0.836586        0.869015        8.395944           5   \n",
       "\n",
       "   remove_frame  remove_trial  \n",
       "0         False         False  \n",
       "1         False         False  \n",
       "2         False         False  \n",
       "3         False         False  \n",
       "4         False         False  "
      ]
     },
     "execution_count": 18,
     "metadata": {},
     "output_type": "execute_result"
    }
   ],
   "source": [
    "frame_time_df = pd.read_pickle(roi_dir / 'refined_frame_time.pkl')\n",
    "frame_time_df.head()"
   ]
  },
  {
   "cell_type": "code",
   "execution_count": 21,
   "metadata": {},
   "outputs": [
    {
     "data": {
      "text/plain": [
       "array([6523, 6524, 6525, 6526, 6527, 6528, 6529, 6530, 6531, 6532, 6533,\n",
       "       6534, 6535, 6536, 6537, 6538, 6539, 6540, 6541, 6542, 6543, 6544,\n",
       "       6545, 6546, 6547, 6548, 6549, 6566], dtype=int64)"
      ]
     },
     "execution_count": 21,
     "metadata": {},
     "output_type": "execute_result"
    }
   ],
   "source": [
    "np.setdiff1d(np.where(frame_time_df['remove_trial'])[0],\n",
    "                np.where(frame_time_df['remove_frame'])[0])"
   ]
  },
  {
   "cell_type": "code",
   "execution_count": 22,
   "metadata": {},
   "outputs": [
    {
     "data": {
      "text/plain": [
       "array([], dtype=int64)"
      ]
     },
     "execution_count": 22,
     "metadata": {},
     "output_type": "execute_result"
    }
   ],
   "source": [
    "np.setdiff1d(np.where(frame_time_df['remove_frame'])[0],\n",
    "                np.where(frame_time_df['remove_trial'])[0])"
   ]
  },
  {
   "cell_type": "code",
   "execution_count": 24,
   "metadata": {},
   "outputs": [
    {
     "data": {
      "text/plain": [
       "array([1, 2, 3, ..., 8075, 8076, 8077], dtype=object)"
      ]
     },
     "execution_count": 24,
     "metadata": {},
     "output_type": "execute_result"
    }
   ],
   "source": [
    "frame_time_df.query('remove_trial == False').frame_index.values"
   ]
  },
  {
   "cell_type": "code",
   "execution_count": 25,
   "metadata": {},
   "outputs": [
    {
     "data": {
      "text/plain": [
       "(642, 7599)"
      ]
     },
     "execution_count": 25,
     "metadata": {},
     "output_type": "execute_result"
    }
   ],
   "source": [
    "F.shape"
   ]
  },
  {
   "cell_type": "code",
   "execution_count": 26,
   "metadata": {},
   "outputs": [
    {
     "data": {
      "text/plain": [
       "7599"
      ]
     },
     "execution_count": 26,
     "metadata": {},
     "output_type": "execute_result"
    }
   ],
   "source": [
    "len(frame_time_df)"
   ]
  },
  {
   "cell_type": "markdown",
   "metadata": {},
   "source": [
    "# Generate stat_refined.npy\n",
    "- using refined_frame_time.pkl\n",
    "- choose remove_trial column"
   ]
  },
  {
   "cell_type": "code",
   "execution_count": 28,
   "metadata": {},
   "outputs": [
    {
     "data": {
      "application/vnd.jupyter.widget-view+json": {
       "model_id": "f9b00ed728344f4c84ce7c507bd58b3b",
       "version_major": 2,
       "version_minor": 0
      },
      "text/plain": [
       "0it [00:00, ?it/s]"
      ]
     },
     "metadata": {},
     "output_type": "display_data"
    }
   ],
   "source": [
    "from tqdm.notebook import tqdm\n",
    "for _, row in tqdm(use_mice_df.iterrows()):\n",
    "    mouse = row.mouse\n",
    "    plane = row.plane\n",
    "    session_name = row.session\n",
    "    plane_dir = base_dir / f'{mouse:03}' / f'plane_{plane}'\n",
    "    roi_dir = plane_dir / f'{session_name}/plane0/roi'\n",
    "    if not roi_dir.exists():\n",
    "        print(f'{roi_dir} does not exist')\n",
    "        continue\n",
    "    ops = np.load(roi_dir / 'ops.npy', allow_pickle=True).item()\n",
    "    stat_reduced = np.load(roi_dir / 'stat_reduced.npy', allow_pickle=True)\n",
    "    F_reduced = np.load(roi_dir / 'F_reduced.npy')\n",
    "    Fneu_reduced = np.load(roi_dir / 'Fneu_reduced.npy')\n",
    "    assert F_reduced.shape == Fneu_reduced.shape\n",
    "    assert F_reduced.shape[0] == len(stat_reduced)\n",
    "    dF = F_reduced - ops['neucoeff'] * Fneu_reduced\n",
    "\n",
    "    frame_time_df = pd.read_pickle(roi_dir / 'refined_frame_time.pkl')\n",
    "    if frame_time_df['remove_frame'].any():\n",
    "        refined_frame_index = np.where(frame_time_df['remove_trial'] == False)[0]\n",
    "        dF = dF[:,refined_frame_index]\n",
    "\n",
    "        sk = stats.skew(dF, axis=1)\n",
    "        for i, s in enumerate(stat_reduced):\n",
    "            s['skew'] = sk[i]\n",
    "    np.save(roi_dir / 'stat_refined.npy', stat_reduced)\n",
    "\n",
    "# 3m for all the sessions"
   ]
  },
  {
   "cell_type": "code",
   "execution_count": 31,
   "metadata": {},
   "outputs": [
    {
     "name": "stdout",
     "output_type": "stream",
     "text": [
      "E:\\TPM\\JK\\h5\\052\\plane_1\\013\\plane0\\roi has removed frames\n",
      "E:\\TPM\\JK\\h5\\052\\plane_2\\013\\plane0\\roi has removed frames\n",
      "E:\\TPM\\JK\\h5\\052\\plane_3\\013\\plane0\\roi has removed frames\n",
      "E:\\TPM\\JK\\h5\\052\\plane_4\\013\\plane0\\roi has removed frames\n"
     ]
    }
   ],
   "source": [
    "# for mouse 52, plane 1-4, session 013\n",
    "mouse = 52\n",
    "session_name = '013'\n",
    "for plane in range(1,5):\n",
    "    plane_dir = base_dir / f'{mouse:03}' / f'plane_{plane}'\n",
    "    roi_dir = plane_dir / f'{session_name}/plane0/roi'\n",
    "    if not roi_dir.exists():\n",
    "        print(f'{roi_dir} does not exist')\n",
    "        continue\n",
    "    ops = np.load(roi_dir / 'ops.npy', allow_pickle=True).item()\n",
    "    stat_reduced = np.load(roi_dir / 'stat_reduced.npy', allow_pickle=True)\n",
    "    F_reduced = np.load(roi_dir / 'F_reduced.npy')\n",
    "    Fneu_reduced = np.load(roi_dir / 'Fneu_reduced.npy')\n",
    "    assert F_reduced.shape == Fneu_reduced.shape\n",
    "    assert F_reduced.shape[0] == len(stat_reduced)\n",
    "    dF = F_reduced - ops['neucoeff'] * Fneu_reduced\n",
    "\n",
    "    frame_time_df = pd.read_pickle(roi_dir / 'refined_frame_time.pkl')\n",
    "    if frame_time_df['remove_frame'].any():\n",
    "        print(f'{roi_dir} has removed frames')\n",
    "        refined_frame_index = np.where(frame_time_df['remove_trial'] == False)[0]\n",
    "        dF = dF[:,refined_frame_index]\n",
    "\n",
    "        sk = stats.skew(dF, axis=1)\n",
    "        for i, s in enumerate(stat_reduced):\n",
    "            s['skew'] = sk[i]\n",
    "    np.save(roi_dir / 'stat_refined.npy', stat_reduced)"
   ]
  }
 ],
 "metadata": {
  "kernelspec": {
   "display_name": "suite2p",
   "language": "python",
   "name": "python3"
  },
  "language_info": {
   "codemirror_mode": {
    "name": "ipython",
    "version": 3
   },
   "file_extension": ".py",
   "mimetype": "text/x-python",
   "name": "python",
   "nbconvert_exporter": "python",
   "pygments_lexer": "ipython3",
   "version": "3.8.11"
  }
 },
 "nbformat": 4,
 "nbformat_minor": 2
}
