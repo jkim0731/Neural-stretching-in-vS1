{
 "cells": [
  {
   "cell_type": "markdown",
   "metadata": {},
   "source": [
    "# Purpose:\n",
    "- To move all glm results in results directory\n",
    "- properly name them (ridge, lasso, combined, etc.)"
   ]
  },
  {
   "cell_type": "code",
   "execution_count": 3,
   "metadata": {},
   "outputs": [],
   "source": [
    "from glob import glob\n",
    "import os\n",
    "from pathlib import Path\n",
    "import pandas as pd\n",
    "import shutil\n",
    "\n",
    "base_dir = Path(r'E:\\TPM\\JK\\h5')\n",
    "results_dir = base_dir / 'results'\n",
    "expert_mice_df = pd.read_csv(base_dir / 'expert_mice.csv', index_col=0)\n",
    "use_mice_df = expert_mice_df.loc[expert_mice_df['depth_matched'].astype(bool) & \n",
    "                                 ~expert_mice_df['processing_error'].astype(bool) &\n",
    "                                 ((expert_mice_df.session_type == 'training') |\n",
    "                                  (expert_mice_df.session_type.str.contains('test')))]"
   ]
  },
  {
   "cell_type": "code",
   "execution_count": 9,
   "metadata": {},
   "outputs": [],
   "source": [
    "# renaming glm files\n",
    "for i, row in use_mice_df.iterrows():\n",
    "    mouse = row.mouse\n",
    "    session = int(row.session)\n",
    "    plane = int(row.plane)\n",
    "    plane_dir = base_dir / f'{mouse:03}/plane_{plane}/{session:03}'\n",
    "    old_glm_dir = plane_dir / 'plane0/roi/glm'\n",
    "    new_glm_dir_base = results_dir / 'neuron_glm/ridge'\n",
    "\n",
    "    model_names = ['touch_combined', 'whisker_combined']\n",
    "    for model_name in model_names:\n",
    "\n",
    "        if len(list(old_glm_dir.glob(model_name))) == 1:\n",
    "            temp_source_dir = old_glm_dir / model_name\n",
    "            # temp_dest_dir = new_glm_dir_base / model_name\n",
    "            # rename all files in the directory        \n",
    "            for file in temp_source_dir.glob('*.*'):\n",
    "                if file.name[:2] != 'JK':\n",
    "                    os.rename(file, temp_source_dir / f'JK{mouse:03}S{session:02}_plane{plane}_{file.name}')\n",
    "            "
   ]
  },
  {
   "cell_type": "code",
   "execution_count": 13,
   "metadata": {},
   "outputs": [],
   "source": [
    "# copy glm files\n",
    "for i, row in use_mice_df.iterrows():\n",
    "    mouse = row.mouse\n",
    "    session = int(row.session)\n",
    "    plane = int(row.plane)\n",
    "    plane_dir = base_dir / f'{mouse:03}/plane_{plane}/{session:03}'\n",
    "    old_glm_dir = plane_dir / 'plane0/roi/glm'\n",
    "    new_glm_dir_base = results_dir / 'neuron_glm/ridge'\n",
    "\n",
    "    model_names = ['touch_combined', 'whisker_combined']\n",
    "    for model_name in model_names:\n",
    "\n",
    "        if len(list(old_glm_dir.glob(model_name))) == 1:\n",
    "            temp_source_dir = old_glm_dir / model_name\n",
    "            temp_dest_dir = new_glm_dir_base / model_name\n",
    "            # copy        \n",
    "            for file in temp_source_dir.glob('*.*'):\n",
    "                if file.name[:2] == 'JK':\n",
    "                    shutil.copy(file, temp_dest_dir)\n",
    "            "
   ]
  }
 ],
 "metadata": {
  "kernelspec": {
   "display_name": "suite2p",
   "language": "python",
   "name": "python3"
  },
  "language_info": {
   "codemirror_mode": {
    "name": "ipython",
    "version": 3
   },
   "file_extension": ".py",
   "mimetype": "text/x-python",
   "name": "python",
   "nbconvert_exporter": "python",
   "pygments_lexer": "ipython3",
   "version": "3.8.11"
  }
 },
 "nbformat": 4,
 "nbformat_minor": 2
}
