{
 "cells": [
  {
   "cell_type": "markdown",
   "metadata": {},
   "source": [
    "# Purpose:\n",
    "- Build dataframe of whisker features per trial\n",
    "- To calculate angle discrimination using whisker features, changes of sensory input across training, etc.\n",
    "- Per trial, take mean of whisker features across all touches, except for touch count\n",
    "- Save for pre-answer touch, post-answer touch, all touch\n",
    "    - pre-answer touch: touches that ended before the answer time\n",
    "    - post-answer touch: touches that started after the answer time"
   ]
  },
  {
   "cell_type": "code",
   "execution_count": 9,
   "metadata": {},
   "outputs": [],
   "source": [
    "import numpy as np\n",
    "import pandas as pd\n",
    "from pathlib import Path\n",
    "import glob\n",
    "from tqdm.notebook import tqdm\n",
    "w_dir = Path('E:\\TPM\\JK\\WhiskerVideo')\n",
    "b_dir = Path('E:\\TPM\\JK\\SoloData')\n",
    "mice =          [25,    27,   30,   36,     37,     38,     39,     41,     52,     53,     54,     56]\n"
   ]
  },
  {
   "cell_type": "code",
   "execution_count": 4,
   "metadata": {},
   "outputs": [],
   "source": [
    "mouse = mice[0]\n",
    "session_folder_list = glob.glob(str(w_dir / f'JK{mouse:03d}S*'))\n",
    "session_folder = session_folder_list[0]\n",
    "session_name = session_folder.split('\\\\')[-1]\n",
    "wf_fn = w_dir / session_name / f'{session_name}_whisker_final_h5.mat'\n",
    "whisker_pkl_fn = w_dir / session_name / f'{session_name}_whisker.pkl'\n",
    "whisker_df = pd.read_pickle(whisker_pkl_fn)"
   ]
  },
  {
   "cell_type": "code",
   "execution_count": 6,
   "metadata": {},
   "outputs": [
    {
     "data": {
      "text/plain": [
       "Index(['amplitude', 'arcLength', 'kappaH', 'kappaV', 'midpoint', 'phase',\n",
       "       'phi', 'poleAngle', 'poleDistance', 'poleMovingFrames', 'polePosition',\n",
       "       'poleUpFrames', 'protractionSlide', 'protractionSlideByWhisking',\n",
       "       'protractionTFchunks', 'protractionTFchunksByWhisking',\n",
       "       'protractionTouchDuration', 'protractionTouchDurationByWhisking',\n",
       "       'retractionSlide', 'retractionSlideByWhisking', 'retractionTFchunks',\n",
       "       'retractionTFchunksByWhisking', 'retractionTouchDuration',\n",
       "       'retractionTouchDurationByWhisking', 'theta', 'whisker_time',\n",
       "       'whiskingStartFrames', 'mouse_name', 'session_name'],\n",
       "      dtype='object')"
      ]
     },
     "execution_count": 6,
     "metadata": {},
     "output_type": "execute_result"
    }
   ],
   "source": [
    "whisker_df.columns"
   ]
  },
  {
   "cell_type": "code",
   "execution_count": 8,
   "metadata": {},
   "outputs": [
    {
     "data": {
      "text/plain": [
       "[array([607., 608., 609., 610.]),\n",
       " array([641., 642., 643., 644.]),\n",
       " array([653., 654., 655., 656., 657., 658., 659.])]"
      ]
     },
     "execution_count": 8,
     "metadata": {},
     "output_type": "execute_result"
    }
   ],
   "source": [
    "trialNums = whisker_df.index.values\n",
    "ti = 10\n",
    "trialNum = trialNums[ti]\n",
    "touch_count = len(whisker_df.loc[trialNum, 'protractionTFchunksByWhisking'])\n",
    "\n"
   ]
  },
  {
   "cell_type": "code",
   "execution_count": null,
   "metadata": {},
   "outputs": [],
   "source": [
    "for mouse in tqdm(mice):\n",
    "    session_folder_list = glob.glob(str(w_dir / f'JK{mouse:03d}S*'))\n",
    "    for session_folder in tqdm(session_folder_list):\n",
    "        session_name = session_folder.split('\\\\')[-1]\n",
    "        wf_fn = w_dir / session_name / f'{session_name}_whisker_final_h5.mat'\n",
    "        whisker_pkl_fn = w_dir / session_name / f'{session_name}_whisker.pkl'"
   ]
  }
 ],
 "metadata": {
  "kernelspec": {
   "display_name": "suite2p",
   "language": "python",
   "name": "python3"
  },
  "language_info": {
   "codemirror_mode": {
    "name": "ipython",
    "version": 3
   },
   "file_extension": ".py",
   "mimetype": "text/x-python",
   "name": "python",
   "nbconvert_exporter": "python",
   "pygments_lexer": "ipython3",
   "version": "3.8.11"
  }
 },
 "nbformat": 4,
 "nbformat_minor": 2
}
