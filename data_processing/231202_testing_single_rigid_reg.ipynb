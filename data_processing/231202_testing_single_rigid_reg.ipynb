{
 "cells": [
  {
   "cell_type": "markdown",
   "metadata": {},
   "source": [
    "# Background:\n",
    "- When looking at the data.bin created using 2-step nonrigid registration, with smoothing, it was really not registered.\n",
    "- Nonrigid registration also made session-to-session registration bad.\n",
    "# Purpose:\n",
    "- Try single step, rigid registration.\n",
    "    - Run some examples up to the signal calculation. See how long it takes, and look at the data quality.\n",
    "    - If it is feasible, re-process every data\n",
    "        - Only the necessary data first.\n",
    "- This will be a good chance to organize how things are processed.\n",
    "    - Rigid registration\n",
    "    - Add 'max_proj'\n",
    "    - Detect ROIs using cellpose\n",
    "        - Merge across different types of projection images\n",
    "    - Extract signals\n",
    "- Save new results in 'plane1' folder"
   ]
  },
  {
   "cell_type": "code",
   "execution_count": 2,
   "metadata": {},
   "outputs": [],
   "source": [
    "from suite2p import run_s2p, default_ops\n",
    "from suite2p.io.binary import BinaryFile\n",
    "from suite2p.detection.denoise import pca_denoise\n",
    "from suite2p.detection import utils\n",
    "\n",
    "from scripts import cellpose_roi_detection, roi_collation, roi_remove_border, save_signal\n",
    "\n",
    "import time\n",
    "import numpy as np\n",
    "import os\n",
    "from pathlib import Path\n",
    "import glob\n",
    "base_dir = Path('E:/TPM/JK/h5')"
   ]
  },
  {
   "cell_type": "code",
   "execution_count": 4,
   "metadata": {},
   "outputs": [],
   "source": [
    "def add_max_proj(ops_fn):\n",
    "    ops = np.load(ops_fn, allow_pickle=True).item()\n",
    "    if 'max_proj' in ops.keys():\n",
    "        print(\"'max_proj' already in ops.\")\n",
    "    else:\n",
    "        print(\"Add 'max_proj' to the ops:\")\n",
    "\n",
    "        bin_size = int(max(1, ops['nframes'] // ops['nbinned'], np.round(ops['tau'] * ops['fs'])))\n",
    "        if not os.path.isfile(ops['reg_file']):\n",
    "            reg_file = str(Path(ops['save_path']) / 'data.bin')\n",
    "            if os.path.isfile(reg_file):\n",
    "                ops['reg_file'] = reg_file\n",
    "            else:\n",
    "                raise FileNotFoundError(f'{ops[\"reg_file\"]} or {reg_file} not found')\n",
    "        \n",
    "        with BinaryFile(read_filename=ops['reg_file'], Ly=ops['Ly'], Lx=ops['Lx']) as f:\n",
    "            t0 = time.time()\n",
    "            mov = f.bin_movie(\n",
    "                bin_size=bin_size,\n",
    "                bad_frames=ops.get('badframes'),\n",
    "                y_range=ops['yrange'],\n",
    "                x_range=ops['xrange'],\n",
    "            )\n",
    "            print('Binned movie [%d,%d,%d] in %0.2f sec.' % (mov.shape[0], mov.shape[1], mov.shape[2], time.time() - t0))\n",
    "            \n",
    "        if ops.get('denoise', 1):\n",
    "            print('PCA denosing...')\n",
    "            mov = pca_denoise(mov, block_size=[ops['block_size'][0]//2, ops['block_size'][1]//2],\n",
    "                                n_comps_frac = 0.5)\n",
    "        else:\n",
    "            print('No denoising')\n",
    "        t0 = time.time()\n",
    "        mov = utils.temporal_high_pass_filter(mov=mov, width=int(ops['high_pass']))\n",
    "        max_proj = mov.max(axis=0)\n",
    "        ops['max_proj'] = max_proj\n",
    "        processing_time = time.time() - t0\n",
    "        print(f'Added max_proj in {processing_time:.2f} sec.')\n",
    "\n",
    "        # save ops\n",
    "        np.save(ops_fn, ops)"
   ]
  },
  {
   "cell_type": "code",
   "execution_count": 3,
   "metadata": {},
   "outputs": [
    {
     "data": {
      "text/plain": [
       "300"
      ]
     },
     "execution_count": 3,
     "metadata": {},
     "output_type": "execute_result"
    }
   ],
   "source": [
    "ops = default_ops()\n",
    "ops['nimg_init']"
   ]
  },
  {
   "cell_type": "code",
   "execution_count": 5,
   "metadata": {},
   "outputs": [
    {
     "name": "stdout",
     "output_type": "stream",
     "text": [
      "{'h5py': 'E:\\\\TPM\\\\JK\\\\h5\\\\039\\\\plane_1\\\\039_011_000_plane_1.h5', 'h5py_key': ['data'], 'data_path': [], 'save_path0': 'E:\\\\TPM\\\\JK\\\\h5\\\\039\\\\plane_1\\\\test', 'save_folder': '011', 'fast_disk': 'C:/suite2p_fast_disk/', 'move_bin': True, 'do_registration': 2}\n",
      "h5\n",
      "time 41.84 sec. Wrote 5835 frames per binary for 1 planes\n",
      ">>>>>>>>>>>>>>>>>>>>> PLANE 0 <<<<<<<<<<<<<<<<<<<<<<\n",
      "NOTE: not registered / registration forced with ops['do_registration']>1\n",
      "      (no previous offsets to delete)\n",
      "----------- REGISTRATION\n",
      "registering 5835 frames\n",
      "NOTE: estimated bidiphase offset from data: 0 pixels\n",
      "Reference frame, 23.84 sec.\n",
      "added enhanced mean image\n",
      "----------- Total 786.15 sec\n",
      "Registration metrics, 46.90 sec.\n",
      "WARNING: skipping cell detection (ops['roidetect']=False)\n",
      "moving binary files to save_path\n",
      "Plane 0 processed in 839.69 sec (can open in GUI).\n",
      "total = 888.67 sec.\n",
      "TOTAL RUNTIME 888.68 sec\n",
      "Add 'max_proj' to the ops:\n",
      "Binned movie [605,427,583] in 12.82 sec.\n",
      "No denoising\n",
      "Added max_proj in 0.64 sec.\n",
      "Processing 039_plane_1_011...\n",
      "039_plane_1_011 done: 12.80 minutes.\n",
      "border_filter_mask took 34.28 seconds\n",
      "Masks made in 1.54 sec.\n"
     ]
    },
    {
     "name": "stderr",
     "output_type": "stream",
     "text": [
      "c:\\Users\\shires\\Anaconda3\\envs\\suite2p\\lib\\site-packages\\numba\\core\\ir_utils.py:2139: NumbaPendingDeprecationWarning: \u001b[1m\n",
      "Encountered the use of a type that is scheduled for deprecation: type 'reflected list' found for argument 'cell_ipix' of function 'matmul_traces'.\n",
      "\n",
      "For more information visit https://numba.pydata.org/numba-doc/latest/reference/deprecation.html#deprecation-of-reflection-for-list-and-set-types\n",
      "\u001b[1m\n",
      "File \"..\\..\\..\\..\\..\\..\\Anaconda3\\envs\\suite2p\\lib\\site-packages\\suite2p\\extraction\\extract.py\", line 105:\u001b[0m\n",
      "\u001b[1m@njit(parallel=True)\n",
      "\u001b[1mdef matmul_traces(Fi, data, cell_ipix, cell_lam):\n",
      "\u001b[0m\u001b[1m^\u001b[0m\u001b[0m\n",
      "\u001b[0m\n",
      "  warnings.warn(NumbaPendingDeprecationWarning(msg, loc=loc))\n",
      "c:\\Users\\shires\\Anaconda3\\envs\\suite2p\\lib\\site-packages\\numba\\core\\ir_utils.py:2139: NumbaPendingDeprecationWarning: \u001b[1m\n",
      "Encountered the use of a type that is scheduled for deprecation: type 'reflected list' found for argument 'cell_lam' of function 'matmul_traces'.\n",
      "\n",
      "For more information visit https://numba.pydata.org/numba-doc/latest/reference/deprecation.html#deprecation-of-reflection-for-list-and-set-types\n",
      "\u001b[1m\n",
      "File \"..\\..\\..\\..\\..\\..\\Anaconda3\\envs\\suite2p\\lib\\site-packages\\suite2p\\extraction\\extract.py\", line 105:\u001b[0m\n",
      "\u001b[1m@njit(parallel=True)\n",
      "\u001b[1mdef matmul_traces(Fi, data, cell_ipix, cell_lam):\n",
      "\u001b[0m\u001b[1m^\u001b[0m\u001b[0m\n",
      "\u001b[0m\n",
      "  warnings.warn(NumbaPendingDeprecationWarning(msg, loc=loc))\n",
      "c:\\Users\\shires\\Anaconda3\\envs\\suite2p\\lib\\site-packages\\numba\\core\\ir_utils.py:2139: NumbaPendingDeprecationWarning: \u001b[1m\n",
      "Encountered the use of a type that is scheduled for deprecation: type 'reflected list' found for argument 'cell__ipix' of function '__numba_parfor_gufunc_0x28619d8af70'.\n",
      "\n",
      "For more information visit https://numba.pydata.org/numba-doc/latest/reference/deprecation.html#deprecation-of-reflection-for-list-and-set-types\n",
      "\u001b[1m\n",
      "File \"<string>\", line 1:\u001b[0m\n",
      "\u001b[1m<source missing, REPL/exec in use?>\u001b[0m\n",
      "\u001b[0m\n",
      "  warnings.warn(NumbaPendingDeprecationWarning(msg, loc=loc))\n",
      "c:\\Users\\shires\\Anaconda3\\envs\\suite2p\\lib\\site-packages\\numba\\core\\ir_utils.py:2139: NumbaPendingDeprecationWarning: \u001b[1m\n",
      "Encountered the use of a type that is scheduled for deprecation: type 'reflected list' found for argument 'cell__lam' of function '__numba_parfor_gufunc_0x28619d8af70'.\n",
      "\n",
      "For more information visit https://numba.pydata.org/numba-doc/latest/reference/deprecation.html#deprecation-of-reflection-for-list-and-set-types\n",
      "\u001b[1m\n",
      "File \"<string>\", line 1:\u001b[0m\n",
      "\u001b[1m<source missing, REPL/exec in use?>\u001b[0m\n",
      "\u001b[0m\n",
      "  warnings.warn(NumbaPendingDeprecationWarning(msg, loc=loc))\n",
      "c:\\Users\\shires\\Anaconda3\\envs\\suite2p\\lib\\site-packages\\numba\\core\\ir_utils.py:2139: NumbaPendingDeprecationWarning: \u001b[1m\n",
      "Encountered the use of a type that is scheduled for deprecation: type 'reflected list' found for argument 'neuropil_ipix' of function 'matmul_neuropil'.\n",
      "\n",
      "For more information visit https://numba.pydata.org/numba-doc/latest/reference/deprecation.html#deprecation-of-reflection-for-list-and-set-types\n",
      "\u001b[1m\n",
      "File \"..\\..\\..\\..\\..\\..\\Anaconda3\\envs\\suite2p\\lib\\site-packages\\suite2p\\extraction\\extract.py\", line 112:\u001b[0m\n",
      "\u001b[1m@njit(parallel=True)\n",
      "\u001b[1mdef matmul_neuropil(Fi, data, neuropil_ipix, neuropil_npix):\n",
      "\u001b[0m\u001b[1m^\u001b[0m\u001b[0m\n",
      "\u001b[0m\n",
      "  warnings.warn(NumbaPendingDeprecationWarning(msg, loc=loc))\n",
      "c:\\Users\\shires\\Anaconda3\\envs\\suite2p\\lib\\site-packages\\numba\\core\\ir_utils.py:2139: NumbaPendingDeprecationWarning: \u001b[1m\n",
      "Encountered the use of a type that is scheduled for deprecation: type 'reflected list' found for argument 'neuropil__ipix' of function '__numba_parfor_gufunc_0x2862269b8e0'.\n",
      "\n",
      "For more information visit https://numba.pydata.org/numba-doc/latest/reference/deprecation.html#deprecation-of-reflection-for-list-and-set-types\n",
      "\u001b[1m\n",
      "File \"<string>\", line 1:\u001b[0m\n",
      "\u001b[1m<source missing, REPL/exec in use?>\u001b[0m\n",
      "\u001b[0m\n",
      "  warnings.warn(NumbaPendingDeprecationWarning(msg, loc=loc))\n"
     ]
    },
    {
     "name": "stdout",
     "output_type": "stream",
     "text": [
      "Extracted fluorescence from 106 ROIs in 5835 frames, 18.12 sec.\n"
     ]
    },
    {
     "name": "stderr",
     "output_type": "stream",
     "text": [
      "c:\\Users\\shires\\Anaconda3\\envs\\suite2p\\lib\\site-packages\\numpy\\core\\fromnumeric.py:3419: RuntimeWarning: Mean of empty slice.\n",
      "  return _methods._mean(a, axis=axis, dtype=dtype,\n",
      "c:\\Users\\shires\\Anaconda3\\envs\\suite2p\\lib\\site-packages\\numpy\\core\\_methods.py:188: RuntimeWarning: invalid value encountered in true_divide\n",
      "  ret = ret.dtype.type(ret / rcount)\n"
     ]
    },
    {
     "name": "stdout",
     "output_type": "stream",
     "text": [
      "save_signal took 27.41 seconds\n"
     ]
    }
   ],
   "source": [
    "from importlib import reload\n",
    "reload(save_signal)\n",
    "mice = [25,  27,  30,  36,  37,  38,  39,  41,  52,  53,  54,  56]\n",
    "zoom = [2,   2,   2,   1.7, 1.7, 1.7, 1.7, 1.7, 1.7, 1.7, 1.7, 1.7]\n",
    "freq = [7.7, 7.7, 7.7, 7.7, 6.1, 6.1, 6.1, 6.1, 7.7, 7.7, 7.7, 1.7 ]\n",
    "planes= range(1,9)\n",
    "ops = default_ops()\n",
    "ops['tau'] = 1.5\n",
    "ops['look_one_level_down'] = False\n",
    "ops['do_bidiphase'] = True\n",
    "# ops['nimg_init'] = 1000\n",
    "ops['batch_size'] = 3000\n",
    "ops['save_mat'] = True\n",
    "ops['save_NWB'] = False # for now. Need to set up parameters and confirm it works\n",
    "# Do not run ROI detection - will run it separately using cellpose\n",
    "ops['roidetect'] = False\n",
    "\n",
    "mi = 6\n",
    "sessions = [11]\n",
    "mouse = mice[mi]\n",
    "ops['fs'] = freq[mi]\n",
    "ops['zoom'] = zoom[mi]\n",
    "ops['umPerPix'] = 1.4/ops['zoom']\n",
    "for plane in range(1,2):\n",
    "    mouseDir = base_dir / f'{mouse:03}'\n",
    "    planeDir = mouseDir / f'plane_{plane}/'\n",
    "    for session_num in sessions:\n",
    "        tempFnList = glob.glob(str(planeDir / f'{mouse:03}_{session_num:03}_*_plane_{plane}.h5'))\n",
    "        repFn = tempFnList[0]\n",
    "        db = {'h5py': repFn,\n",
    "                'h5py_key': ['data'],\n",
    "                'data_path': [],\n",
    "                'save_path0': str(planeDir / 'test'),\n",
    "                'save_folder': f'{session_num:03}',\n",
    "                'fast_disk': 'C:/suite2p_fast_disk/',\n",
    "                'move_bin': True,\n",
    "                'do_registration': 1, \n",
    "                # Addendum for low SNR\n",
    "                # 'two_step_registration': True,\n",
    "                # 'keep_movie_raw': True,\n",
    "                # 'smooth_sigma_time': 2\n",
    "            }\n",
    "        # run_s2p(ops,db)  # CANNOT be parallelized\n",
    "        # ops_fn = db['save_path0'] + '/' + db['save_folder'] + '/plane0/ops.npy'\n",
    "        \n",
    "        # add_max_proj(ops_fn)\n",
    "        \n",
    "        # ROI detection from multiple projection files\n",
    "        # cellpose_roi_detection.generate_multi_cp_masks(base_dir, mouse, plane, session_num, test_dir=True)\n",
    "        # roi_collation.process_mask_merging(base_dir, mouse, plane, session_num, test_dir=True)\n",
    "        # roi_remove_border.border_filter_mask(base_dir, mouse, plane, session_num, test_dir=True)\n",
    "        save_signal.save_signal(base_dir, mouse, plane, session_num, test_dir=True)\n",
    "        \n",
    "        "
   ]
  },
  {
   "cell_type": "markdown",
   "metadata": {},
   "source": [
    "## It will take about 2 weeks to run all the sessions and planes\n",
    "- Registration for 24000 frames (more than double compared to most of the sessions) \n",
    "    - Took 10 min\n",
    "    - 5835 frames from a large FOV took 15 min.\n",
    "    - The rest will take about 10-15 min but can be parallelized.\n",
    "        - Adding max projection took 13 min for a large FOV (5835 frames)\n",
    "        - The rest takes about 1 min.\n",
    "- Previous paper was processed the same way and the results were clear.\n",
    "- Proceed for now.\n",
    "- At least check if it will remove weird signal pattern"
   ]
  },
  {
   "cell_type": "code",
   "execution_count": 8,
   "metadata": {},
   "outputs": [
    {
     "data": {
      "text/plain": [
       "11"
      ]
     },
     "execution_count": 8,
     "metadata": {},
     "output_type": "execute_result"
    }
   ],
   "source": [
    "session_num"
   ]
  },
  {
   "cell_type": "code",
   "execution_count": 9,
   "metadata": {},
   "outputs": [
    {
     "name": "stdout",
     "output_type": "stream",
     "text": [
      "Masks made in 1.87 sec.\n",
      "Extracted fluorescence from 148 ROIs in 3618 frames, 10.87 sec.\n"
     ]
    },
    {
     "name": "stderr",
     "output_type": "stream",
     "text": [
      "c:\\Users\\shires\\Anaconda3\\envs\\suite2p\\lib\\site-packages\\numpy\\core\\fromnumeric.py:3419: RuntimeWarning: Mean of empty slice.\n",
      "  return _methods._mean(a, axis=axis, dtype=dtype,\n",
      "c:\\Users\\shires\\Anaconda3\\envs\\suite2p\\lib\\site-packages\\numpy\\core\\_methods.py:188: RuntimeWarning: invalid value encountered in true_divide\n",
      "  ret = ret.dtype.type(ret / rcount)\n"
     ]
    },
    {
     "ename": "FileNotFoundError",
     "evalue": "[Errno 2] No such file or directory: 'E:\\\\TPM\\\\JK\\\\h5\\\\039\\\\plane_1\\\\039_018_plane_1_frame_time.pkl'",
     "output_type": "error",
     "traceback": [
      "\u001b[1;31m---------------------------------------------------------------------------\u001b[0m",
      "\u001b[1;31mFileNotFoundError\u001b[0m                         Traceback (most recent call last)",
      "\u001b[1;32m~\\AppData\\Local\\Temp/ipykernel_11432/4182074981.py\u001b[0m in \u001b[0;36m<module>\u001b[1;34m\u001b[0m\n\u001b[0;32m      2\u001b[0m \u001b[0msession_num\u001b[0m\u001b[1;33m=\u001b[0m\u001b[1;36m18\u001b[0m\u001b[1;33m\u001b[0m\u001b[1;33m\u001b[0m\u001b[0m\n\u001b[0;32m      3\u001b[0m \u001b[1;32mfor\u001b[0m \u001b[0mplane\u001b[0m \u001b[1;32min\u001b[0m \u001b[0mrange\u001b[0m\u001b[1;33m(\u001b[0m\u001b[1;36m1\u001b[0m\u001b[1;33m,\u001b[0m\u001b[1;36m9\u001b[0m\u001b[1;33m)\u001b[0m\u001b[1;33m:\u001b[0m\u001b[1;33m\u001b[0m\u001b[1;33m\u001b[0m\u001b[0m\n\u001b[1;32m----> 4\u001b[1;33m     \u001b[0msave_signal\u001b[0m\u001b[1;33m.\u001b[0m\u001b[0msave_signal\u001b[0m\u001b[1;33m(\u001b[0m\u001b[0mbase_dir\u001b[0m\u001b[1;33m,\u001b[0m \u001b[0mmouse\u001b[0m\u001b[1;33m,\u001b[0m \u001b[0mplane\u001b[0m\u001b[1;33m,\u001b[0m \u001b[0msession_num\u001b[0m\u001b[1;33m)\u001b[0m\u001b[1;33m\u001b[0m\u001b[1;33m\u001b[0m\u001b[0m\n\u001b[0m",
      "\u001b[1;32mc:\\Users\\shires\\Dropbox\\Works\\Projects\\2020 Neural stretching in S1\\Analysis\\codes\\scripts\\save_signal.py\u001b[0m in \u001b[0;36msave_signal\u001b[1;34m(base_dir, mouse, plane, session, test_dir)\u001b[0m\n\u001b[0;32m     55\u001b[0m     \u001b[1;31m# to remove negative ticks from laser blocking\u001b[0m\u001b[1;33m\u001b[0m\u001b[1;33m\u001b[0m\u001b[1;33m\u001b[0m\u001b[0m\n\u001b[0;32m     56\u001b[0m     \u001b[0mframe_time_fn\u001b[0m \u001b[1;33m=\u001b[0m \u001b[0mplane_dir\u001b[0m \u001b[1;33m/\u001b[0m \u001b[1;34mf'{mouse:03}_{session}_plane_{plane}_frame_time.pkl'\u001b[0m\u001b[1;33m\u001b[0m\u001b[1;33m\u001b[0m\u001b[0m\n\u001b[1;32m---> 57\u001b[1;33m     \u001b[0mframe_time\u001b[0m \u001b[1;33m=\u001b[0m \u001b[0mpd\u001b[0m\u001b[1;33m.\u001b[0m\u001b[0mread_pickle\u001b[0m\u001b[1;33m(\u001b[0m\u001b[0mframe_time_fn\u001b[0m\u001b[1;33m)\u001b[0m\u001b[1;33m\u001b[0m\u001b[1;33m\u001b[0m\u001b[0m\n\u001b[0m\u001b[0;32m     58\u001b[0m     \u001b[0mreduced_frame_time\u001b[0m \u001b[1;33m=\u001b[0m \u001b[0mframe_time\u001b[0m\u001b[1;33m.\u001b[0m\u001b[0mgroupby\u001b[0m\u001b[1;33m(\u001b[0m\u001b[1;34m'trialNum'\u001b[0m\u001b[1;33m)\u001b[0m\u001b[1;33m.\u001b[0m\u001b[0mapply\u001b[0m\u001b[1;33m(\u001b[0m\u001b[1;32mlambda\u001b[0m \u001b[0mx\u001b[0m\u001b[1;33m:\u001b[0m \u001b[0mx\u001b[0m\u001b[1;33m.\u001b[0m\u001b[0miloc\u001b[0m\u001b[1;33m[\u001b[0m\u001b[1;36m1\u001b[0m\u001b[1;33m:\u001b[0m\u001b[1;33m-\u001b[0m\u001b[1;36m1\u001b[0m\u001b[1;33m]\u001b[0m\u001b[1;33m)\u001b[0m\u001b[1;33m.\u001b[0m\u001b[0mreset_index\u001b[0m\u001b[1;33m(\u001b[0m\u001b[0mdrop\u001b[0m\u001b[1;33m=\u001b[0m\u001b[1;32mTrue\u001b[0m\u001b[1;33m)\u001b[0m\u001b[1;33m\u001b[0m\u001b[1;33m\u001b[0m\u001b[0m\n\u001b[0;32m     59\u001b[0m     \u001b[0mreduced_frame_indice\u001b[0m \u001b[1;33m=\u001b[0m \u001b[0mreduced_frame_time\u001b[0m\u001b[1;33m.\u001b[0m\u001b[0mframe_index\u001b[0m\u001b[1;33m.\u001b[0m\u001b[0mvalues\u001b[0m\u001b[1;33m.\u001b[0m\u001b[0mastype\u001b[0m\u001b[1;33m(\u001b[0m\u001b[0mint\u001b[0m\u001b[1;33m)\u001b[0m\u001b[1;33m\u001b[0m\u001b[1;33m\u001b[0m\u001b[0m\n",
      "\u001b[1;32mc:\\Users\\shires\\Anaconda3\\envs\\suite2p\\lib\\site-packages\\pandas\\io\\pickle.py\u001b[0m in \u001b[0;36mread_pickle\u001b[1;34m(filepath_or_buffer, compression, storage_options)\u001b[0m\n\u001b[0;32m    194\u001b[0m     \"\"\"\n\u001b[0;32m    195\u001b[0m     \u001b[0mexcs_to_catch\u001b[0m \u001b[1;33m=\u001b[0m \u001b[1;33m(\u001b[0m\u001b[0mAttributeError\u001b[0m\u001b[1;33m,\u001b[0m \u001b[0mImportError\u001b[0m\u001b[1;33m,\u001b[0m \u001b[0mModuleNotFoundError\u001b[0m\u001b[1;33m,\u001b[0m \u001b[0mTypeError\u001b[0m\u001b[1;33m)\u001b[0m\u001b[1;33m\u001b[0m\u001b[1;33m\u001b[0m\u001b[0m\n\u001b[1;32m--> 196\u001b[1;33m     with get_handle(\n\u001b[0m\u001b[0;32m    197\u001b[0m         \u001b[0mfilepath_or_buffer\u001b[0m\u001b[1;33m,\u001b[0m\u001b[1;33m\u001b[0m\u001b[1;33m\u001b[0m\u001b[0m\n\u001b[0;32m    198\u001b[0m         \u001b[1;34m\"rb\"\u001b[0m\u001b[1;33m,\u001b[0m\u001b[1;33m\u001b[0m\u001b[1;33m\u001b[0m\u001b[0m\n",
      "\u001b[1;32mc:\\Users\\shires\\Anaconda3\\envs\\suite2p\\lib\\site-packages\\pandas\\io\\common.py\u001b[0m in \u001b[0;36mget_handle\u001b[1;34m(path_or_buf, mode, encoding, compression, memory_map, is_text, errors, storage_options)\u001b[0m\n\u001b[0;32m    708\u001b[0m         \u001b[1;32melse\u001b[0m\u001b[1;33m:\u001b[0m\u001b[1;33m\u001b[0m\u001b[1;33m\u001b[0m\u001b[0m\n\u001b[0;32m    709\u001b[0m             \u001b[1;31m# Binary mode\u001b[0m\u001b[1;33m\u001b[0m\u001b[1;33m\u001b[0m\u001b[1;33m\u001b[0m\u001b[0m\n\u001b[1;32m--> 710\u001b[1;33m             \u001b[0mhandle\u001b[0m \u001b[1;33m=\u001b[0m \u001b[0mopen\u001b[0m\u001b[1;33m(\u001b[0m\u001b[0mhandle\u001b[0m\u001b[1;33m,\u001b[0m \u001b[0mioargs\u001b[0m\u001b[1;33m.\u001b[0m\u001b[0mmode\u001b[0m\u001b[1;33m)\u001b[0m\u001b[1;33m\u001b[0m\u001b[1;33m\u001b[0m\u001b[0m\n\u001b[0m\u001b[0;32m    711\u001b[0m         \u001b[0mhandles\u001b[0m\u001b[1;33m.\u001b[0m\u001b[0mappend\u001b[0m\u001b[1;33m(\u001b[0m\u001b[0mhandle\u001b[0m\u001b[1;33m)\u001b[0m\u001b[1;33m\u001b[0m\u001b[1;33m\u001b[0m\u001b[0m\n\u001b[0;32m    712\u001b[0m \u001b[1;33m\u001b[0m\u001b[0m\n",
      "\u001b[1;31mFileNotFoundError\u001b[0m: [Errno 2] No such file or directory: 'E:\\\\TPM\\\\JK\\\\h5\\\\039\\\\plane_1\\\\039_018_plane_1_frame_time.pkl'"
     ]
    }
   ],
   "source": [
    "mouse=39\n",
    "session_num=18\n",
    "for plane in range(1,9):\n",
    "    save_signal.save_signal(base_dir, mouse, plane, session_num)"
   ]
  },
  {
   "cell_type": "code",
   "execution_count": null,
   "metadata": {},
   "outputs": [],
   "source": []
  }
 ],
 "metadata": {
  "kernelspec": {
   "display_name": "suite2p",
   "language": "python",
   "name": "python3"
  },
  "language_info": {
   "codemirror_mode": {
    "name": "ipython",
    "version": 3
   },
   "file_extension": ".py",
   "mimetype": "text/x-python",
   "name": "python",
   "nbconvert_exporter": "python",
   "pygments_lexer": "ipython3",
   "version": "3.8.11"
  }
 },
 "nbformat": 4,
 "nbformat_minor": 2
}
