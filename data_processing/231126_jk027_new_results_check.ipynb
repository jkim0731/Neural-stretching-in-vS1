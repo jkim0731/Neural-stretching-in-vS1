{
 "cells": [
  {
   "cell_type": "markdown",
   "metadata": {},
   "source": [
    "# Purpose:\n",
    "- ROI results are all new in HDD\n",
    "- RAID: created on 10/22\n",
    "- HDD: created on 11/05\n",
    "## What is the difference?"
   ]
  },
  {
   "cell_type": "code",
   "execution_count": 7,
   "metadata": {},
   "outputs": [],
   "source": [
    "from pathlib import Path\n",
    "import numpy as np\n",
    "from glob import glob"
   ]
  },
  {
   "cell_type": "code",
   "execution_count": 2,
   "metadata": {},
   "outputs": [],
   "source": [
    "raid_dir = Path(r'E:\\TPM\\JK\\h5\\027')\n",
    "hdd_dir = Path(r'F:\\027')\n"
   ]
  },
  {
   "cell_type": "code",
   "execution_count": 37,
   "metadata": {},
   "outputs": [
    {
     "name": "stdout",
     "output_type": "stream",
     "text": [
      "Error in plane 3 session 005\n",
      "Error in plane 3 session 006\n",
      "Error in plane 3 session 007\n",
      "Error in plane 3 session 025\n",
      "Error in plane 4 session 001\n",
      "Error in plane 4 session 002\n",
      "Error in plane 4 session 003\n",
      "Error in plane 4 session 005\n",
      "Error in plane 4 session 006\n",
      "Error in plane 4 session 007\n",
      "Error in plane 5 session 001\n",
      "Error in plane 5 session 002\n",
      "Error in plane 5 session 003\n",
      "Error in plane 5 session 005\n",
      "Error in plane 5 session 006\n",
      "Error in plane 5 session 008\n",
      "Error in plane 5 session 009\n",
      "Error in plane 5 session 010\n",
      "Error in plane 5 session 012\n",
      "Error in plane 5 session 015\n",
      "Error in plane 5 session 016\n",
      "Error in plane 5 session 017\n",
      "Error in plane 5 session 023\n"
     ]
    }
   ],
   "source": [
    "import os\n",
    "for plane in range(1,9):\n",
    "    # get session names\n",
    "    plane_dir_hdd = hdd_dir / f'plane_{plane}'\n",
    "    all_files_and_dirs = glob(str(plane_dir_hdd) + '/*')\n",
    "    all_dirs = [d for d in all_files_and_dirs if os.path.isdir(d)]\n",
    "    sessions = [Path(p).name for p in all_dirs if (len(Path(p).name) == 3)]\n",
    "\n",
    "    for session in sessions:\n",
    "        if session != '004':\n",
    "            f_raid_fn = raid_dir / f'plane_{plane}' / f'{session}' / 'plane0' \\\n",
    "                            / 'roi' / 'F_reduced.npy'\n",
    "            f_hdd_fn = hdd_dir / f'plane_{plane}' / f'{session}' / 'plane0' \\\n",
    "                            / 'roi' / 'F_reduced.npy'\n",
    "            if os.path.isfile(f_raid_fn) != os.path.isfile(f_hdd_fn):\n",
    "                print(f'Error in plane {plane} session {session}')\n",
    "            if os.path.isfile(f_raid_fn):\n",
    "                f_raid = np.load(f_raid_fn)\n",
    "                f_hdd = np.load(f_hdd_fn)\n",
    "                if f_raid.shape == f_hdd.shape:\n",
    "                    if (f_raid - f_hdd).any():\n",
    "                        print(f'Error in plane {plane} session {session}')\n",
    "                else:\n",
    "                    print(f'Error in plane {plane} session {session}')"
   ]
  },
  {
   "cell_type": "markdown",
   "metadata": {},
   "source": [
    "# Planes 3,4,5 are re-created.\n",
    "- Just copy everything from HDD to RAID."
   ]
  }
 ],
 "metadata": {
  "kernelspec": {
   "display_name": "suite2p",
   "language": "python",
   "name": "python3"
  },
  "language_info": {
   "codemirror_mode": {
    "name": "ipython",
    "version": 3
   },
   "file_extension": ".py",
   "mimetype": "text/x-python",
   "name": "python",
   "nbconvert_exporter": "python",
   "pygments_lexer": "ipython3",
   "version": "3.8.11"
  }
 },
 "nbformat": 4,
 "nbformat_minor": 2
}
