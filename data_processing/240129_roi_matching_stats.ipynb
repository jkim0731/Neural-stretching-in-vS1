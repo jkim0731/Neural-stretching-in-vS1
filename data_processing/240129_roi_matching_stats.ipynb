{
 "cells": [
  {
   "cell_type": "markdown",
   "metadata": {},
   "source": [
    "# Purpose:\n",
    "- General stats of ROI matching between sessions and across training to check what kind of analysis can be done.\n",
    "    - Both per plane and per volume\n"
   ]
  },
  {
   "cell_type": "code",
   "execution_count": 1,
   "metadata": {},
   "outputs": [],
   "source": [
    "import numpy as np\n",
    "import pandas as pd\n",
    "from pathlib import Path\n",
    "import matplotlib.pyplot as plt\n",
    "from scripts import roi_collection_across_sessions as rcas\n",
    "from importlib import reload\n",
    "from pystackreg import StackReg\n",
    "import napari\n",
    "\n",
    "base_dir = Path(r'E:\\TPM\\JK\\h5')\n",
    "\n",
    "expert_mice_df = pd.read_csv(base_dir / 'expert_mice.csv', index_col=0)\n",
    "use_mice_df = expert_mice_df.loc[expert_mice_df['depth_matched'].astype(bool) & \n",
    "                                 ~expert_mice_df['processing_error'].astype(bool) &\n",
    "                                 ((expert_mice_df.session_type == 'training') |\n",
    "                                  (expert_mice_df.session_type.str.contains('test')))]\n",
    "\n"
   ]
  },
  {
   "cell_type": "code",
   "execution_count": 52,
   "metadata": {},
   "outputs": [],
   "source": [
    "mouse = 25\n",
    "plane = 5\n",
    "\n",
    "plane_dir = base_dir / f'{mouse:03}' / f'plane_{plane}'\n",
    "master_roi_fn = plane_dir / f'JK{mouse:03}_plane{plane}_cellpose_master_roi.npy'\n",
    "master_roi = np.load(master_roi_fn, allow_pickle=True).item()\n",
    "cp_roi_collection_results_fn = plane_dir / f'JK{mouse:03}_plane{plane}_cellpose_roi_session_to_master.npy'\n",
    "roi_collection_results = np.load(cp_roi_collection_results_fn, allow_pickle=True).item()\n",
    "\n",
    "registration_fn = plane_dir / f'JK{mouse:03}_plane{plane}_session_to_session_registration.npy'\n",
    "reg_result = np.load(registration_fn, allow_pickle=True).item()\n",
    "\n",
    "session_nums = master_roi['session_nums']\n",
    "assert len(session_nums) == len(roi_collection_results['matching_master_roi_index_list'])\n",
    "\n",
    "matching_master_roi_ind = roi_collection_results['matching_master_roi_index_list']\n",
    "master_map = master_roi['master_map_list'][-1]\n",
    "viable_cell_index_list = master_roi['viable_cell_index_list'] # contains indices of cells in master_map\n",
    "# (some got cut off due to boundary issue, etc.)\n",
    "\n",
    "selected_session_num = np.asarray(reg_result['selected_session_num']) # some has list, some has array\n",
    "# selected_session_num includes master_roi['session_nums'], but not all of them\n",
    "\n",
    "roi_collection = np.zeros((master_map.shape[0], len(session_nums)), 'bool')\n",
    "for si in range(len(session_nums)):\n",
    "    session_num = session_nums[si]\n",
    "    roi_dir = plane_dir / f'{session_num:03}' / 'plane0' / 'roi'\n",
    "    iscell = np.load(roi_dir / 'iscell.npy')\n",
    "    roi_inds = np.where(np.isin(viable_cell_index_list[si], np.where(iscell[:,0])[0]))[0]\n",
    "    roi_collection[matching_master_roi_ind[si][roi_inds],si] = 1\n"
   ]
  },
  {
   "cell_type": "code",
   "execution_count": 37,
   "metadata": {},
   "outputs": [
    {
     "data": {
      "text/plain": [
       "array([ 15,  24,  25,  26,  28,  31,  32,  33,  39,  40,  41,  44,  46,\n",
       "        56,  63,  69,  76,  92,  94,  96,  98, 100, 103, 105, 106, 108,\n",
       "       110, 111, 112, 113, 114], dtype=int64)"
      ]
     },
     "execution_count": 37,
     "metadata": {},
     "output_type": "execute_result"
    }
   ],
   "source": [
    "np.where(iscell[:,0]==0)[0]"
   ]
  },
  {
   "cell_type": "code",
   "execution_count": 45,
   "metadata": {},
   "outputs": [
    {
     "name": "stderr",
     "output_type": "stream",
     "text": [
      "c:\\Users\\shires\\Anaconda3\\envs\\suite2p\\lib\\site-packages\\napari\\_vispy\\vispy_camera.py:109: RuntimeWarning: divide by zero encountered in true_divide\n",
      "  zoom = np.min(canvas_size / scale)\n"
     ]
    },
    {
     "data": {
      "text/plain": [
       "<Image layer 'Image [2]' at 0x26420f4d760>"
      ]
     },
     "execution_count": 45,
     "metadata": {},
     "output_type": "execute_result"
    }
   ],
   "source": [
    "viewer = napari.Viewer()\n",
    "si = 8\n",
    "viewer.add_image(np.sum(master_map[np.where(roi_collection[:,si])[0]], axis=0))\n",
    "viewer.add_image(np.sum(master_map[np.where(roi_collection[:,si+1])[0]], axis=0))\n",
    "viewer.add_image(np.sum(master_map[np.where(roi_collection[:,si]*roi_collection[:,si+1])[0]], axis=0))"
   ]
  },
  {
   "cell_type": "code",
   "execution_count": 53,
   "metadata": {},
   "outputs": [],
   "source": [
    "def plot_roi_collection(mouse, plane, base_dir):\n",
    "    # Filter out dendrites\n",
    "    plane_dir = base_dir / f'{mouse:03}' / f'plane_{plane}'\n",
    "    master_roi_fn = plane_dir / f'JK{mouse:03}_plane{plane}_cellpose_master_roi.npy'\n",
    "    master_roi = np.load(master_roi_fn, allow_pickle=True).item()\n",
    "    cp_roi_collection_results_fn = plane_dir / f'JK{mouse:03}_plane{plane}_cellpose_roi_session_to_master.npy'\n",
    "    roi_collection_results = np.load(cp_roi_collection_results_fn, allow_pickle=True).item()\n",
    "\n",
    "    registration_fn = plane_dir / f'JK{mouse:03}_plane{plane}_session_to_session_registration.npy'\n",
    "    reg_result = np.load(registration_fn, allow_pickle=True).item()\n",
    "\n",
    "    session_nums = master_roi['session_nums']\n",
    "    assert len(session_nums) == len(roi_collection_results['matching_master_roi_index_list'])\n",
    "\n",
    "    matching_master_roi_ind = roi_collection_results['matching_master_roi_index_list']\n",
    "    master_map = master_roi['master_map_list'][-1]\n",
    "    viable_cell_index_list = master_roi['viable_cell_index_list'] # contains indices of cells in master_map\n",
    "    # (some got cut off due to boundary issue, etc.)\n",
    "\n",
    "    selected_session_num = np.asarray(reg_result['selected_session_num']) # some has list, some has array\n",
    "    # selected_session_num includes master_roi['session_nums'], but not all of them\n",
    "    \n",
    "    roi_collection = np.zeros((master_map.shape[0], len(session_nums)), 'bool')\n",
    "    for si in range(len(session_nums)):\n",
    "        session_num = session_nums[si]\n",
    "        roi_dir = plane_dir / f'{session_num:03}' / 'plane0' / 'roi'\n",
    "        iscell = np.load(roi_dir / 'iscell.npy')\n",
    "        cell_inds = np.where(iscell[:,0])[0]\n",
    "        roi_inds = np.where(np.isin(viable_cell_index_list[si], cell_inds))[0]\n",
    "        roi_collection[matching_master_roi_ind[si][roi_inds],si] = 1\n",
    "        \n",
    "    roi_matching_mat = np.zeros((len(session_nums), len(session_nums)))\n",
    "    for si in range(len(session_nums)):\n",
    "        for sj in range(len(session_nums)):\n",
    "            roi_matching_mat[si,sj] = np.sum(roi_collection[:,si] * roi_collection[:,sj], axis=0)\n",
    "\n",
    "    reg_inds = [np.where(selected_session_num == sn)[0][0] for sn in session_nums]\n",
    "    zdrift = [(np.min(reg_result['zdrift_list'][i]), np.max(reg_result['zdrift_list'][i])) for i in reg_inds]\n",
    "\n",
    "    fig, ax = plt.subplots(1,3, figsize=(17,5))\n",
    "    ax[0].plot(session_nums, np.sum(roi_collection, axis=0))\n",
    "    ax[0].set_xlabel('Session number')\n",
    "    ax[0].set_ylabel('# of ROIs')\n",
    "\n",
    "    im = ax[1].imshow(roi_matching_mat, vmin=0, aspect='auto')\n",
    "    plt.colorbar(im, label='# of matched ROIs', ax=ax[1])\n",
    "    ax[1].set_xticks(np.arange(len(session_nums)))\n",
    "    ax[1].set_yticks(np.arange(len(session_nums)))\n",
    "    ax[1].set_xticklabels(session_nums)\n",
    "    ax[1].set_yticklabels(session_nums)\n",
    "    ax[1].set_xlabel('Session number')\n",
    "    ax[1].set_ylabel('Session number')\n",
    "\n",
    "    ax[2].plot(session_nums, np.array(zdrift)[:,0], 'k-')\n",
    "    ax[2].plot(session_nums, np.array(zdrift)[:,1], 'k-')\n",
    "    ax[2].fill_between(session_nums, np.array(zdrift)[:,0], np.array(zdrift)[:,1])\n",
    "    ax[2].set_xlabel('Session number')\n",
    "    ax[2].set_ylabel('Z drift')\n",
    "\n",
    "    fig.suptitle(f'JK{mouse:03} plane {plane}')\n",
    "    fig.tight_layout()\n",
    "    return fig, ax"
   ]
  },
  {
   "cell_type": "code",
   "execution_count": 54,
   "metadata": {},
   "outputs": [],
   "source": [
    "save_dir = Path(r'E:\\TPM\\JK\\h5\\qc\\roi_matching')\n",
    "mice = use_mice_df.mouse.unique()\n",
    "planes = range(1,9)\n",
    "for mouse in mice:\n",
    "    for plane in planes:\n",
    "        save_fn = save_dir / f'JK{mouse:03}_plane{plane}_roi_collection.png'\n",
    "        # if not save_fn.exists():\n",
    "        fig, ax = plot_roi_collection(mouse, plane, base_dir)\n",
    "        fig.savefig(save_fn)\n",
    "        plt.close(fig)"
   ]
  },
  {
   "cell_type": "markdown",
   "metadata": {},
   "source": [
    "## distribution of matched ROIs across sessions\n",
    "- Per plane"
   ]
  },
  {
   "cell_type": "code",
   "execution_count": 2,
   "metadata": {},
   "outputs": [],
   "source": [
    "def roi_matching_to_master_map(mouse, plane, base_dir):\n",
    "    # Filter out dendrites\n",
    "    plane_dir = base_dir / f'{mouse:03}' / f'plane_{plane}'\n",
    "    master_roi_fn = plane_dir / f'JK{mouse:03}_plane{plane}_cellpose_master_roi.npy'\n",
    "    master_roi = np.load(master_roi_fn, allow_pickle=True).item()\n",
    "    cp_roi_collection_results_fn = plane_dir / f'JK{mouse:03}_plane{plane}_cellpose_roi_session_to_master.npy'\n",
    "    roi_collection_results = np.load(cp_roi_collection_results_fn, allow_pickle=True).item()\n",
    "\n",
    "    session_nums = master_roi['session_nums']\n",
    "    assert len(session_nums) == len(roi_collection_results['matching_master_roi_index_list'])\n",
    "\n",
    "    matching_master_roi_ind = roi_collection_results['matching_master_roi_index_list']\n",
    "    master_map = master_roi['master_map_list'][-1]\n",
    "    viable_cell_index_list = master_roi['viable_cell_index_list'] # contains indices of cells in master_map\n",
    "    # (some got cut off due to boundary issue, etc.)\n",
    "   \n",
    "    roi_collection = np.zeros((master_map.shape[0], len(session_nums)), 'bool')\n",
    "    for si in range(len(session_nums)):\n",
    "        session_num = session_nums[si]\n",
    "        roi_dir = plane_dir / f'{session_num:03}' / 'plane0' / 'roi'\n",
    "        iscell = np.load(roi_dir / 'iscell.npy')\n",
    "        cell_inds = np.where(iscell[:,0])[0]\n",
    "        roi_inds = np.where(np.isin(viable_cell_index_list[si], cell_inds))[0]\n",
    "        roi_collection[matching_master_roi_ind[si][roi_inds],si] = 1\n",
    "    return roi_collection"
   ]
  },
  {
   "cell_type": "code",
   "execution_count": 78,
   "metadata": {},
   "outputs": [
    {
     "data": {
      "image/png": "[encoded data removed]",
      "text/plain": [
       "<Figure size 432x288 with 1 Axes>"
      ]
     },
     "metadata": {
      "needs_background": "light"
     },
     "output_type": "display_data"
    }
   ],
   "source": [
    "mouse = 39\n",
    "plane = 1\n",
    "roi_collection = roi_matching_to_master_map(mouse, plane, base_dir)\n",
    "num_matched_sessions = np.sum(roi_collection, axis=1)\n",
    "bins = range(-1,roi_collection.shape[1]+1)\n",
    "plt.hist(num_matched_sessions, bins=bins);\n"
   ]
  },
  {
   "cell_type": "markdown",
   "metadata": {},
   "source": [
    "# Volume-wise roi matching stats\n",
    "- both session-to-session and across sessions"
   ]
  },
  {
   "cell_type": "code",
   "execution_count": 3,
   "metadata": {},
   "outputs": [],
   "source": [
    "def roi_matching_volume_to_master_map(mouse, volume, base_dir):\n",
    "    if volume == 1:\n",
    "        planes = range(1,5)\n",
    "    elif volume == 2:\n",
    "        planes = range(5,9)\n",
    "    else:\n",
    "        raise ValueError('Volume should be 1 or 2')\n",
    "    for i in range(len(planes)):\n",
    "        plane = planes[i]\n",
    "        if i == 0:\n",
    "            roi_collection = roi_matching_to_master_map(mouse, plane, base_dir)\n",
    "        else:\n",
    "            roi_collection = np.vstack((roi_collection, roi_matching_to_master_map(mouse, plane, base_dir)))\n",
    "    return roi_collection"
   ]
  },
  {
   "cell_type": "code",
   "execution_count": 47,
   "metadata": {},
   "outputs": [
    {
     "data": {
      "text/plain": [
       "Text(0.5, 0.98, 'JK036 volume 1')"
      ]
     },
     "execution_count": 47,
     "metadata": {},
     "output_type": "execute_result"
    },
    {
     "data": {
      "image/png": "[encoded data removed]",
      "text/plain": [
       "<Figure size 864x360 with 3 Axes>"
      ]
     },
     "metadata": {
      "needs_background": "light"
     },
     "output_type": "display_data"
    }
   ],
   "source": [
    "mouse = 36\n",
    "volume = 1\n",
    "roi_collection = roi_matching_volume_to_master_map(mouse, volume, base_dir)\n",
    "plane = (volume-1)*4 + 1\n",
    "plane_dir = base_dir / f'{mouse:03}' / f'plane_{plane}'\n",
    "master_roi_fn = plane_dir / f'JK{mouse:03}_plane{plane}_cellpose_master_roi.npy'\n",
    "master_roi = np.load(master_roi_fn, allow_pickle=True).item()\n",
    "session_nums = master_roi['session_nums']\n",
    "\n",
    "registration_fn = plane_dir / f'JK{mouse:03}_plane{plane}_session_to_session_registration.npy'\n",
    "reg_result = np.load(registration_fn, allow_pickle=True).item()\n",
    "selected_session_num = np.asarray(reg_result['selected_session_num'])\n",
    "\n",
    "roi_matching_mat = np.zeros((len(session_nums), len(session_nums)))\n",
    "for si in range(len(session_nums)):\n",
    "    for sj in range(len(session_nums)):\n",
    "        roi_matching_mat[si,sj] = np.sum(roi_collection[:,si] * roi_collection[:,sj], axis=0)\n",
    "reg_inds = [np.where(selected_session_num == sn)[0][0] for sn in session_nums]\n",
    "fig, ax = plt.subplots(1,2,figsize=(12,5))\n",
    "im = ax[0].imshow(roi_matching_mat, vmin=np.min(roi_matching_mat), aspect='auto')\n",
    "plt.colorbar(im, label='# of matched ROIs', ax=ax[0])\n",
    "ax[0].axis('equal')\n",
    "ax[0].axis('tight')\n",
    "ax[0].set_xticks(np.arange(len(session_nums)))\n",
    "ax[0].set_yticks(np.arange(len(session_nums)))\n",
    "ax[0].set_xticklabels(session_nums)\n",
    "ax[0].set_yticklabels(session_nums)\n",
    "ax[0].set_xlabel('Session number')\n",
    "ax[0].set_ylabel('Session number')\n",
    "ax[0].set_title('# of matched ROIs')\n",
    "\n",
    "num_matched_sessions = np.sum(roi_collection, axis=1)\n",
    "bins = range(-1,roi_collection.shape[1]+2)\n",
    "ax[1].hist(num_matched_sessions, bins=bins);\n",
    "ax[1].set_xlabel('# of matched sessions')\n",
    "ax[1].set_ylabel('# of ROIs')\n",
    "\n",
    "fig.suptitle(f'JK{mouse:03} volume {volume}')"
   ]
  },
  {
   "cell_type": "code",
   "execution_count": 44,
   "metadata": {},
   "outputs": [],
   "source": [
    "def plot_roi_matching_volume(mouse, volume, base_dir, session_nums=None):\n",
    "    roi_collection = roi_matching_volume_to_master_map(mouse, volume, base_dir)\n",
    "    plane = (volume-1)*4 + 1\n",
    "    plane_dir = base_dir / f'{mouse:03}' / f'plane_{plane}'\n",
    "    master_roi_fn = plane_dir / f'JK{mouse:03}_plane{plane}_cellpose_master_roi.npy'\n",
    "    master_roi = np.load(master_roi_fn, allow_pickle=True).item()\n",
    "    if session_nums is None:\n",
    "        session_nums = master_roi['session_nums']\n",
    "    else:\n",
    "        session_nums = np.asarray(session_nums)\n",
    "        assert np.all(np.isin(session_nums, master_roi['session_nums']))\n",
    "        session_inds = [np.where(master_roi['session_nums'] == sn)[0][0] for sn in session_nums]\n",
    "        roi_collection = roi_collection[:,session_inds]\n",
    "\n",
    "    roi_matching_mat = np.zeros((len(session_nums), len(session_nums)))\n",
    "    for si in range(len(session_nums)):\n",
    "        for sj in range(len(session_nums)):\n",
    "            roi_matching_mat[si,sj] = np.sum(roi_collection[:,si] * roi_collection[:,sj], axis=0)\n",
    "    fig, ax = plt.subplots(1,2,figsize=(12,5))\n",
    "    im = ax[0].imshow(roi_matching_mat, vmin=np.min(roi_matching_mat), aspect='auto')\n",
    "    plt.colorbar(im, label='# of matched ROIs', ax=ax[0])\n",
    "    ax[0].axis('equal')\n",
    "    ax[0].axis('tight')\n",
    "    ax[0].set_xticks(np.arange(len(session_nums)))\n",
    "    ax[0].set_yticks(np.arange(len(session_nums)))\n",
    "    ax[0].set_xticklabels(session_nums)\n",
    "    ax[0].set_yticklabels(session_nums)\n",
    "    ax[0].set_xlabel('Session number')\n",
    "    ax[0].set_ylabel('Session number')\n",
    "    ax[0].set_title('# of matched ROIs')\n",
    "\n",
    "    num_matched_sessions = np.sum(roi_collection, axis=1)\n",
    "    bins = range(-1,roi_collection.shape[1]+2)\n",
    "    ax[1].hist(num_matched_sessions, bins=bins);\n",
    "    ax[1].set_xlabel('# of matched sessions')\n",
    "    ax[1].set_ylabel('# of ROIs')\n",
    "\n",
    "    fig.suptitle(f'JK{mouse:03} volume {volume}')\n",
    "\n",
    "    return fig, ax"
   ]
  },
  {
   "cell_type": "code",
   "execution_count": 45,
   "metadata": {},
   "outputs": [],
   "source": [
    "save_dir = Path(r'E:\\TPM\\JK\\h5\\stats\\roi_matching')\n",
    "save_dir.mkdir(parents=True, exist_ok=True)\n",
    "mice = use_mice_df.mouse.unique()\n",
    "for mouse in mice:\n",
    "    for volume in range(1,3):\n",
    "        save_fn = save_dir / f'JK{mouse:03}_volume{volume}_roi_matching.png'\n",
    "        # if not save_fn.exists():\n",
    "        fig, ax = plot_roi_matching_volume(mouse, volume, base_dir)\n",
    "        fig.savefig(save_fn)\n",
    "        plt.close(fig)"
   ]
  },
  {
   "cell_type": "markdown",
   "metadata": {},
   "source": [
    "## Limiting to training sessions only"
   ]
  },
  {
   "cell_type": "code",
   "execution_count": 8,
   "metadata": {},
   "outputs": [
    {
     "data": {
      "text/html": [
       "<div>\n",
       "<style scoped>\n",
       "    .dataframe tbody tr th:only-of-type {\n",
       "        vertical-align: middle;\n",
       "    }\n",
       "\n",
       "    .dataframe tbody tr th {\n",
       "        vertical-align: top;\n",
       "    }\n",
       "\n",
       "    .dataframe thead th {\n",
       "        text-align: right;\n",
       "    }\n",
       "</style>\n",
       "<table border=\"1\" class=\"dataframe\">\n",
       "  <thead>\n",
       "    <tr style=\"text-align: right;\">\n",
       "      <th></th>\n",
       "      <th>Unnamed: 0.1</th>\n",
       "      <th>mouse</th>\n",
       "      <th>plane</th>\n",
       "      <th>session</th>\n",
       "      <th>session_type</th>\n",
       "      <th>depth_matched</th>\n",
       "      <th>processing_error</th>\n",
       "      <th>remove_frame_ind</th>\n",
       "    </tr>\n",
       "  </thead>\n",
       "  <tbody>\n",
       "    <tr>\n",
       "      <th>0</th>\n",
       "      <td>0</td>\n",
       "      <td>25</td>\n",
       "      <td>1</td>\n",
       "      <td>1</td>\n",
       "      <td>training</td>\n",
       "      <td>True</td>\n",
       "      <td>False</td>\n",
       "      <td>0</td>\n",
       "    </tr>\n",
       "    <tr>\n",
       "      <th>1</th>\n",
       "      <td>1</td>\n",
       "      <td>25</td>\n",
       "      <td>1</td>\n",
       "      <td>2</td>\n",
       "      <td>training</td>\n",
       "      <td>True</td>\n",
       "      <td>False</td>\n",
       "      <td>0</td>\n",
       "    </tr>\n",
       "    <tr>\n",
       "      <th>2</th>\n",
       "      <td>2</td>\n",
       "      <td>25</td>\n",
       "      <td>1</td>\n",
       "      <td>3</td>\n",
       "      <td>training</td>\n",
       "      <td>True</td>\n",
       "      <td>False</td>\n",
       "      <td>0</td>\n",
       "    </tr>\n",
       "    <tr>\n",
       "      <th>3</th>\n",
       "      <td>3</td>\n",
       "      <td>25</td>\n",
       "      <td>1</td>\n",
       "      <td>4</td>\n",
       "      <td>test_naive</td>\n",
       "      <td>True</td>\n",
       "      <td>False</td>\n",
       "      <td>0</td>\n",
       "    </tr>\n",
       "    <tr>\n",
       "      <th>4</th>\n",
       "      <td>4</td>\n",
       "      <td>25</td>\n",
       "      <td>1</td>\n",
       "      <td>5</td>\n",
       "      <td>training</td>\n",
       "      <td>True</td>\n",
       "      <td>False</td>\n",
       "      <td>0</td>\n",
       "    </tr>\n",
       "    <tr>\n",
       "      <th>...</th>\n",
       "      <td>...</td>\n",
       "      <td>...</td>\n",
       "      <td>...</td>\n",
       "      <td>...</td>\n",
       "      <td>...</td>\n",
       "      <td>...</td>\n",
       "      <td>...</td>\n",
       "      <td>...</td>\n",
       "    </tr>\n",
       "    <tr>\n",
       "      <th>1452</th>\n",
       "      <td>1452</td>\n",
       "      <td>52</td>\n",
       "      <td>8</td>\n",
       "      <td>16</td>\n",
       "      <td>training</td>\n",
       "      <td>True</td>\n",
       "      <td>False</td>\n",
       "      <td>0</td>\n",
       "    </tr>\n",
       "    <tr>\n",
       "      <th>1453</th>\n",
       "      <td>1453</td>\n",
       "      <td>52</td>\n",
       "      <td>8</td>\n",
       "      <td>17</td>\n",
       "      <td>training</td>\n",
       "      <td>True</td>\n",
       "      <td>False</td>\n",
       "      <td>[  0 109]</td>\n",
       "    </tr>\n",
       "    <tr>\n",
       "      <th>1454</th>\n",
       "      <td>1454</td>\n",
       "      <td>52</td>\n",
       "      <td>8</td>\n",
       "      <td>18</td>\n",
       "      <td>training</td>\n",
       "      <td>True</td>\n",
       "      <td>False</td>\n",
       "      <td>0</td>\n",
       "    </tr>\n",
       "    <tr>\n",
       "      <th>1456</th>\n",
       "      <td>1456</td>\n",
       "      <td>52</td>\n",
       "      <td>8</td>\n",
       "      <td>20</td>\n",
       "      <td>training</td>\n",
       "      <td>True</td>\n",
       "      <td>False</td>\n",
       "      <td>0</td>\n",
       "    </tr>\n",
       "    <tr>\n",
       "      <th>1457</th>\n",
       "      <td>1457</td>\n",
       "      <td>52</td>\n",
       "      <td>8</td>\n",
       "      <td>21</td>\n",
       "      <td>test_expert</td>\n",
       "      <td>True</td>\n",
       "      <td>False</td>\n",
       "      <td>0</td>\n",
       "    </tr>\n",
       "  </tbody>\n",
       "</table>\n",
       "<p>704 rows × 8 columns</p>\n",
       "</div>"
      ],
      "text/plain": [
       "      Unnamed: 0.1  mouse  plane session session_type  depth_matched  \\\n",
       "0                0     25      1       1     training           True   \n",
       "1                1     25      1       2     training           True   \n",
       "2                2     25      1       3     training           True   \n",
       "3                3     25      1       4   test_naive           True   \n",
       "4                4     25      1       5     training           True   \n",
       "...            ...    ...    ...     ...          ...            ...   \n",
       "1452          1452     52      8      16     training           True   \n",
       "1453          1453     52      8      17     training           True   \n",
       "1454          1454     52      8      18     training           True   \n",
       "1456          1456     52      8      20     training           True   \n",
       "1457          1457     52      8      21  test_expert           True   \n",
       "\n",
       "      processing_error remove_frame_ind  \n",
       "0                False                0  \n",
       "1                False                0  \n",
       "2                False                0  \n",
       "3                False                0  \n",
       "4                False                0  \n",
       "...                ...              ...  \n",
       "1452             False                0  \n",
       "1453             False        [  0 109]  \n",
       "1454             False                0  \n",
       "1456             False                0  \n",
       "1457             False                0  \n",
       "\n",
       "[704 rows x 8 columns]"
      ]
     },
     "execution_count": 8,
     "metadata": {},
     "output_type": "execute_result"
    }
   ],
   "source": [
    "use_mice_df"
   ]
  },
  {
   "cell_type": "code",
   "execution_count": 48,
   "metadata": {},
   "outputs": [
    {
     "data": {
      "image/png": "[encoded data removed]",
      "text/plain": [
       "<Figure size 864x360 with 3 Axes>"
      ]
     },
     "metadata": {
      "needs_background": "light"
     },
     "output_type": "display_data"
    }
   ],
   "source": [
    "mouse = 25\n",
    "volume = 1\n",
    "top_plane = (volume-1)*4 + 1\n",
    "training_sessions = use_mice_df.query('mouse == @mouse and plane==@top_plane and \\\n",
    "                                      session_type == \"training\" and depth_matched == True \\\n",
    "                                      and processing_error == False').session.unique()\n",
    "training_sessions = np.array([int(s) for s in training_sessions])\n",
    "fig, ax = plot_roi_matching_volume(mouse, volume, base_dir, training_sessions)"
   ]
  },
  {
   "cell_type": "code",
   "execution_count": 49,
   "metadata": {},
   "outputs": [],
   "source": [
    "save_dir = Path(r'E:\\TPM\\JK\\h5\\stats\\roi_matching')\n",
    "save_dir.mkdir(parents=True, exist_ok=True)\n",
    "mice = use_mice_df.mouse.unique()\n",
    "for mouse in mice:\n",
    "    for volume in range(1,3):\n",
    "        save_fn = save_dir / f'JK{mouse:03}_volume{volume}_roi_matching_training.png'\n",
    "        # if not save_fn.exists():\n",
    "        top_plane = (volume-1)*4 + 1\n",
    "        training_sessions = use_mice_df.query('mouse == @mouse and plane==@top_plane and \\\n",
    "                                            session_type == \"training\" and depth_matched == True \\\n",
    "                                            and processing_error == False').session.unique()\n",
    "        training_sessions = np.array([int(s) for s in training_sessions])\n",
    "        fig, ax = plot_roi_matching_volume(mouse, volume, base_dir, training_sessions)\n",
    "        fig.savefig(save_fn)\n",
    "        plt.close(fig)"
   ]
  },
  {
   "cell_type": "markdown",
   "metadata": {},
   "source": [
    "## Check the calculation\n",
    "- somehow the matrix and histogram does not seem to match"
   ]
  },
  {
   "cell_type": "code",
   "execution_count": 16,
   "metadata": {},
   "outputs": [],
   "source": [
    "mouse = 25\n",
    "volume = 1\n",
    "roi_collection = roi_matching_volume_to_master_map(mouse, volume, base_dir)\n",
    "\n",
    "top_plane = (volume-1)*4 + 1\n",
    "training_sessions = use_mice_df.query('mouse == @mouse and plane==@top_plane and \\\n",
    "                                    session_type == \"training\" and depth_matched == True \\\n",
    "                                    and processing_error == False').session.unique()\n",
    "training_sessions = np.array([int(s) for s in training_sessions])\n",
    "\n",
    "plane_dir = base_dir / f'{mouse:03}' / f'plane_{top_plane}'\n",
    "master_roi_fn = plane_dir / f'JK{mouse:03}_plane{top_plane}_cellpose_master_roi.npy'\n",
    "master_roi = np.load(master_roi_fn, allow_pickle=True).item()\n",
    "\n",
    "session_inds = [np.where(master_roi['session_nums'] == sn)[0][0] for sn in training_sessions]\n",
    "roi_collection = roi_collection[:,session_inds]\n"
   ]
  },
  {
   "cell_type": "code",
   "execution_count": 22,
   "metadata": {},
   "outputs": [
    {
     "data": {
      "text/plain": [
       "94"
      ]
     },
     "execution_count": 22,
     "metadata": {},
     "output_type": "execute_result"
    }
   ],
   "source": [
    "num_appear = np.sum(roi_collection, axis=1)\n",
    "len(np.where(num_appear == len(training_sessions))[0])"
   ]
  },
  {
   "cell_type": "code",
   "execution_count": 43,
   "metadata": {},
   "outputs": [
    {
     "data": {
      "text/plain": [
       "array([  0, 311, 377, 169,  98,  83,  57,  61,  81,  94], dtype=int64)"
      ]
     },
     "execution_count": 43,
     "metadata": {},
     "output_type": "execute_result"
    }
   ],
   "source": [
    "bins = range(-1,roi_collection.shape[1]+2)\n",
    "np.histogram(num_appear, bins=bins)[0]"
   ]
  },
  {
   "cell_type": "markdown",
   "metadata": {},
   "source": [
    "## Some numbers\n",
    "- Num ROI matched for all sessions, all-1, all-2. Average and per mouse.\n",
    "- Between pairs. Look at if that changes across sessions (JK052 expected to increase).\n"
   ]
  },
  {
   "cell_type": "markdown",
   "metadata": {},
   "source": [
    "## Do this after filtering pairs to compare"
   ]
  }
 ],
 "metadata": {
  "kernelspec": {
   "display_name": "suite2p",
   "language": "python",
   "name": "python3"
  },
  "language_info": {
   "codemirror_mode": {
    "name": "ipython",
    "version": 3
   },
   "file_extension": ".py",
   "mimetype": "text/x-python",
   "name": "python",
   "nbconvert_exporter": "python",
   "pygments_lexer": "ipython3",
   "version": "3.8.11"
  }
 },
 "nbformat": 4,
 "nbformat_minor": 2
}
