{
 "cells": [
  {
   "cell_type": "markdown",
   "metadata": {},
   "source": [
    "# Purpose:\n",
    "- Calculate threshold for merging or leaving.\n",
    "- First, look at the distribution of IoA when IoU <= 0.3\n",
    "- Also, look at what diameter it stops to gather a new ROI."
   ]
  },
  {
   "cell_type": "code",
   "execution_count": 1,
   "metadata": {},
   "outputs": [],
   "source": [
    "import numpy as np\n",
    "import pandas as pd\n",
    "import matplotlib.pyplot as plt\n",
    "from pathlib import Path\n",
    "mice = [25,27,30,36,39,52]\n",
    "test_sessions = [1,15]\n",
    "planes = range(1,9)\n",
    "save_dir = Path(r'C:\\Users\\shires\\Dropbox\\Works\\Projects\\2020 Neural stretching in S1\\Analysis\\cellpose_mask_test')\n",
    "base_dir_1 = Path('F:/')\n",
    "base_dir_2 = Path('D:/')"
   ]
  },
  {
   "cell_type": "code",
   "execution_count": 75,
   "metadata": {},
   "outputs": [
    {
     "data": {
      "text/plain": [
       "[0, 1]"
      ]
     },
     "execution_count": 75,
     "metadata": {},
     "output_type": "execute_result"
    }
   ],
   "source": [
    "a = []\n",
    "b = np.array([0,1])\n",
    "a.extend(b)\n",
    "a"
   ]
  },
  {
   "cell_type": "code",
   "execution_count": 78,
   "metadata": {},
   "outputs": [],
   "source": [
    "def get_overlap_mat(mask1, mask2):\n",
    "    roi_inds1 = np.setdiff1d(np.unique(mask1), [0])\n",
    "    roi_inds2 = np.setdiff1d(np.unique(mask2), [0])\n",
    "    overlap_mat = np.zeros((len(roi_inds1), len(roi_inds2)))\n",
    "    visited_roi_inds2 = []\n",
    "    for j in range(len(roi_inds1)):\n",
    "        temp_roi_ind1_map = mask1 == roi_inds1[j]\n",
    "        temp_roi_ind2_visit = np.setdiff1d(np.unique(mask2[temp_roi_ind1_map]), [0])\n",
    "        visited_roi_inds2.extend(temp_roi_ind2_visit)\n",
    "        for temp_roi_2 in temp_roi_ind2_visit:\n",
    "            k = np.where(roi_inds2 == temp_roi_2)[0][0]\n",
    "            intersection_map = temp_roi_ind1_map * (mask2 == temp_roi_2) > 0\n",
    "            union_map = temp_roi_ind1_map + (mask2 == temp_roi_2) > 0\n",
    "            overlap_mat[j, k] = np.sum(intersection_map) / np.sum(union_map)\n",
    "    left_roi_inds2 = np.setdiff1d(roi_inds2, np.unique(visited_roi_inds2))\n",
    "    for temp_roi_ind2 in left_roi_inds2:\n",
    "        k = np.where(roi_inds2 == temp_roi_2)[0][0]\n",
    "        temp_roi_ind2_map = mask2 == temp_roi_ind2\n",
    "        temp_roi_ind1_visit = np.setdiff1d(np.unique(mask1[temp_roi_ind2_map]), [0])\n",
    "        for temp_roi_ind1 in temp_roi_ind1_visit:\n",
    "            j = np.where(roi_inds1 == temp_roi_ind1)[0][0]\n",
    "            intersection_map = temp_roi_ind2_map * (mask1 == temp_roi_ind1) > 0\n",
    "            union_map = temp_roi_ind2_map + (mask1 == temp_roi_ind1) > 0\n",
    "            overlap_mat[j, k] = np.sum(intersection_map) / np.sum(union_map)\n",
    "    return overlap_mat\n",
    "\n",
    "def get_overlap_mat_list(masks):\n",
    "    overlap_mat_list = []\n",
    "    for i in range(masks.shape[0]-1):\n",
    "        temp_overlap_mat = get_overlap_mat(masks[i, :, :], masks[i+1, :, :])\n",
    "        overlap_mat_list.append(temp_overlap_mat)\n",
    "    return overlap_mat_list\n",
    "\n",
    "def draw_mask_overlaps(ax, mask_curr, mask_next, roi_ind_curr, roi_ind_next, buffer=10):\n",
    "    img_dims = mask_curr.shape\n",
    "    assert img_dims == mask_next.shape\n",
    "    yrange = [img_dims[0], 0]\n",
    "    xrange = [img_dims[1], 0]\n",
    "\n",
    "    if isinstance(roi_ind_curr, (int, np.integer)):\n",
    "        roi_ind_curr = [roi_ind_curr]\n",
    "    if isinstance(roi_ind_next, (int, np.integer)):\n",
    "        roi_ind_next = [roi_ind_next]\n",
    "    \n",
    "    curr_roi_nums = np.setdiff1d(np.unique(mask_curr), [0])\n",
    "    next_roi_nums = np.setdiff1d(np.unique(mask_next), [0])\n",
    "\n",
    "    temp_curr_mask = np.zeros(img_dims, dtype=bool)\n",
    "    for i in roi_ind_curr:\n",
    "        roi_num = curr_roi_nums[i]\n",
    "        draw_curr_mask = np.zeros(img_dims, dtype=bool)\n",
    "        temp_curr_mask[mask_curr == roi_num] = True\n",
    "        draw_curr_mask[mask_curr == roi_num] = True\n",
    "        draw_contours(ax, draw_curr_mask, colors='m', linewidths=1)\n",
    "        temp_inds = np.where(mask_curr == roi_num)\n",
    "        yrange[0] = min(np.min(temp_inds[0]), yrange[0])\n",
    "        yrange[1] = max(np.max(temp_inds[0]), yrange[1])\n",
    "        xrange[0] = min(np.min(temp_inds[1]), xrange[0])\n",
    "        xrange[1] = max(np.max(temp_inds[1]), xrange[1])\n",
    "    temp_next_mask = np.zeros(img_dims, dtype=bool)\n",
    "    for i in roi_ind_next:\n",
    "        roi_num = next_roi_nums[i]\n",
    "        draw_next_mask = np.zeros(img_dims, dtype=bool)\n",
    "        temp_next_mask[mask_next == roi_num] = True\n",
    "        draw_next_mask[mask_next == roi_num] = True\n",
    "        draw_contours(ax, draw_next_mask, colors='c', linewidths=1)\n",
    "        temp_inds = np.where(mask_next == roi_num)\n",
    "        yrange[0] = min(np.min(temp_inds[0]), yrange[0])\n",
    "        yrange[1] = max(np.max(temp_inds[0]), yrange[1])\n",
    "        xrange[0] = min(np.min(temp_inds[1]), xrange[0])\n",
    "        xrange[1] = max(np.max(temp_inds[1]), xrange[1])\n",
    "    \n",
    "    yrange[0] = max(yrange[0] - buffer, 0)\n",
    "    yrange[1] = min(yrange[1] + buffer, img_dims[0])\n",
    "    xrange[0] = max(xrange[0] - buffer, 0)\n",
    "    xrange[1] = min(xrange[1] + buffer, img_dims[1])\n",
    "    ax.set_xlim(xrange)\n",
    "    ax.set_ylim(yrange)\n",
    "\n",
    "    intersection = np.logical_and(temp_curr_mask, temp_next_mask)\n",
    "    ioa_curr = intersection.sum() / temp_curr_mask.sum()\n",
    "    ioa_next = intersection.sum() / temp_next_mask.sum()\n",
    "\n",
    "    curr_size_dist = [np.sum(mask_curr==i) for i in np.setdiff1d(np.unique(mask_curr), [0])]\n",
    "    next_size_dist = [np.sum(mask_next==i) for i in np.setdiff1d(np.unique(mask_next), [0])]\n",
    "    curr_size_percentile = []\n",
    "    for i in roi_ind_curr:\n",
    "        roi_num = curr_roi_nums[i]\n",
    "        select_roi_size = np.sum(mask_curr==roi_num)\n",
    "        percentile = f'{np.sum(np.array(curr_size_dist)<select_roi_size)/len(curr_size_dist):.2f}'\n",
    "        curr_size_percentile.append(float(percentile))\n",
    "    next_size_percentile = []\n",
    "    for i in roi_ind_next:\n",
    "        roi_num = next_roi_nums[i]\n",
    "        select_roi_size = np.sum(mask_next==roi_num)\n",
    "        percentile = f'{np.sum(np.array(next_size_dist)<select_roi_size)/len(next_size_dist):.2f}'\n",
    "        next_size_percentile.append(float(percentile))\n",
    "\n",
    "    ax.set_title(f'IOA curr: {ioa_curr:.2f}, IOA next: {ioa_next:.2f}\\ncurr size percentile: {curr_size_percentile}\\nnext size percentile: {next_size_percentile}')\n",
    "    return ioa_curr, ioa_next, curr_size_percentile, next_size_percentile\n",
    "\n",
    "\n",
    "def draw_contours(ax, mask, img=None, colors='r', linewidths=1, alpha=1):\n",
    "    if img is None:\n",
    "        img = np.zeros(mask.shape)\n",
    "    \n",
    "    ax.imshow(img, cmap='gray')\n",
    "    mask_inds = np.setdiff1d(np.unique(mask), 0)\n",
    "    for i in mask_inds:\n",
    "        temp_mask = mask == i\n",
    "        ax.contour(temp_mask, colors=colors, linewidths=linewidths, alpha=alpha)"
   ]
  },
  {
   "cell_type": "code",
   "execution_count": 7,
   "metadata": {},
   "outputs": [
    {
     "name": "stdout",
     "output_type": "stream",
     "text": [
      "mouse 25, session 1, plane 1\n"
     ]
    },
    {
     "name": "stderr",
     "output_type": "stream",
     "text": [
      "c:\\Users\\shires\\Anaconda3\\envs\\suite2p\\lib\\site-packages\\numpy\\core\\_asarray.py:171: VisibleDeprecationWarning: Creating an ndarray from ragged nested sequences (which is a list-or-tuple of lists-or-tuples-or ndarrays with different lengths or shapes) is deprecated. If you meant to do this, you must specify 'dtype=object' when creating the ndarray.\n",
      "  return array(a, dtype, copy=False, order=order, subok=True)\n"
     ]
    },
    {
     "name": "stdout",
     "output_type": "stream",
     "text": [
      "mouse 25, session 1, plane 2\n",
      "mouse 25, session 1, plane 3\n",
      "mouse 25, session 1, plane 4\n",
      "mouse 25, session 1, plane 5\n",
      "mouse 25, session 1, plane 6\n",
      "mouse 25, session 1, plane 7\n",
      "mouse 25, session 1, plane 8\n",
      "mouse 25, session 15, plane 1\n",
      "mouse 25, session 15, plane 2\n",
      "mouse 25, session 15, plane 3\n",
      "mouse 25, session 15, plane 4\n",
      "mouse 25, session 15, plane 5\n",
      "mouse 25, session 15, plane 6\n",
      "mouse 25, session 15, plane 7\n",
      "mouse 25, session 15, plane 8\n",
      "mouse 27, session 1, plane 1\n",
      "mouse 27, session 1, plane 2\n",
      "mouse 27, session 1, plane 3\n",
      "mouse 27, session 1, plane 4\n",
      "mouse 27, session 1, plane 5\n",
      "mouse 27, session 1, plane 6\n",
      "mouse 27, session 1, plane 7\n",
      "mouse 27, session 1, plane 8\n",
      "mouse 27, session 15, plane 1\n",
      "mouse 27, session 15, plane 2\n",
      "mouse 27, session 15, plane 3\n",
      "mouse 27, session 15, plane 4\n",
      "mouse 27, session 15, plane 5\n",
      "mouse 27, session 15, plane 6\n",
      "mouse 27, session 15, plane 7\n",
      "mouse 27, session 15, plane 8\n",
      "mouse 30, session 1, plane 1\n",
      "mouse 30, session 1, plane 2\n",
      "mouse 30, session 1, plane 3\n",
      "mouse 30, session 1, plane 4\n",
      "mouse 30, session 1, plane 5\n",
      "mouse 30, session 1, plane 6\n",
      "mouse 30, session 1, plane 7\n",
      "mouse 30, session 1, plane 8\n",
      "mouse 30, session 15, plane 1\n",
      "mouse 30, session 15, plane 2\n",
      "mouse 30, session 15, plane 3\n",
      "mouse 30, session 15, plane 4\n",
      "mouse 30, session 15, plane 5\n",
      "mouse 30, session 15, plane 6\n",
      "mouse 30, session 15, plane 7\n",
      "mouse 30, session 15, plane 8\n",
      "mouse 36, session 1, plane 1\n",
      "mouse 36, session 1, plane 2\n",
      "mouse 36, session 1, plane 3\n",
      "mouse 36, session 1, plane 4\n",
      "mouse 36, session 1, plane 5\n",
      "mouse 36, session 1, plane 6\n",
      "mouse 36, session 1, plane 7\n",
      "mouse 36, session 1, plane 8\n",
      "mouse 36, session 15, plane 1\n",
      "mouse 36, session 15, plane 2\n",
      "mouse 36, session 15, plane 3\n",
      "mouse 36, session 15, plane 4\n",
      "mouse 36, session 15, plane 5\n",
      "mouse 36, session 15, plane 6\n",
      "mouse 36, session 15, plane 7\n",
      "mouse 36, session 15, plane 8\n",
      "mouse 39, session 1, plane 1\n",
      "mouse 39, session 1, plane 2\n",
      "mouse 39, session 1, plane 3\n",
      "mouse 39, session 1, plane 4\n",
      "mouse 39, session 1, plane 5\n",
      "mouse 39, session 1, plane 6\n",
      "mouse 39, session 1, plane 7\n",
      "mouse 39, session 1, plane 8\n",
      "mouse 39, session 15, plane 1\n",
      "mouse 39, session 15, plane 2\n",
      "mouse 39, session 15, plane 3\n",
      "mouse 39, session 15, plane 4\n",
      "mouse 39, session 15, plane 5\n",
      "mouse 39, session 15, plane 6\n",
      "mouse 39, session 15, plane 7\n",
      "mouse 39, session 15, plane 8\n",
      "mouse 52, session 1, plane 1\n",
      "mouse 52, session 1, plane 2\n",
      "mouse 52, session 1, plane 3\n",
      "mouse 52, session 1, plane 4\n",
      "mouse 52, session 1, plane 5\n",
      "mouse 52, session 1, plane 6\n",
      "mouse 52, session 1, plane 7\n",
      "mouse 52, session 1, plane 8\n",
      "mouse 52, session 15, plane 1\n",
      "mouse 52, session 15, plane 2\n",
      "mouse 52, session 15, plane 3\n",
      "mouse 52, session 15, plane 4\n",
      "mouse 52, session 15, plane 5\n",
      "mouse 52, session 15, plane 6\n",
      "mouse 52, session 15, plane 7\n"
     ]
    }
   ],
   "source": [
    "iou_threshold = 0.3\n",
    "image_type_list = ['mean', 'meanE', 'max']\n",
    "\n",
    "for mouse in mice:\n",
    "    if mouse < 31:\n",
    "        base_dir = base_dir_1\n",
    "    else:\n",
    "        base_dir = base_dir_2\n",
    "    for session in test_sessions:\n",
    "        for plane in planes:\n",
    "            print(f'mouse {mouse}, session {session}, plane {plane}')\n",
    "            ops_fn = base_dir / f'{mouse:03}' / f'plane_{plane}' / f'{session:03}' / 'plane0' / 'ops.npy'\n",
    "            ops = np.load(ops_fn, allow_pickle=True).item()\n",
    "\n",
    "            results = np.load(save_dir / f'masks_{mouse:03d}_{session:03d}_{plane:03d}.npy', allow_pickle=True)\n",
    "            save_image_i = 0\n",
    "            iou_dist = []\n",
    "            num_unique_ind = []\n",
    "            for mask_ind, mask in enumerate(results):\n",
    "                iou_dist_imtype = []\n",
    "                num_unique_ind_imtype = []\n",
    "                overlap_mat_list = get_overlap_mat_list(mask)                \n",
    "                for overlap_ind, overlap_mat in enumerate(overlap_mat_list):\n",
    "                    binary_overlap_mat = overlap_mat > iou_threshold\n",
    "                    num_unique_ind_imtype.append(len(np.where(np.sum(binary_overlap_mat, axis=0)==0)[0]))\n",
    "                    iou_dist_imtype.append(overlap_mat[overlap_mat>0].flatten())\n",
    "                iou_dist.append(iou_dist_imtype)\n",
    "                num_unique_ind.append(num_unique_ind_imtype)\n",
    "            np.save(save_dir / 'iou_dist' / f'{mouse:03d}_{session:03d}_{plane:03d}.npy', iou_dist)\n",
    "            fig, ax = plt.subplots(3,1,figsize=(8,15))\n",
    "            bins = np.linspace(0,1,100)\n",
    "            for imtype_ind, imtype in enumerate(image_type_list):\n",
    "                ax[imtype_ind].hist(np.concatenate(iou_dist[imtype_ind]), bins=100);\n",
    "                ax[imtype_ind].set_title(imtype)\n",
    "                ax[imtype_ind].set_xlim([0,1])\n",
    "            fig.suptitle(f'mouse {mouse}, session {session}, plane {plane}')\n",
    "            fig.tight_layout()\n",
    "            fig.savefig(save_dir / 'iou_dist' / f'{mouse:03d}_{session:03d}_{plane:03d}.png')\n",
    "            plt.close(fig)\n",
    "            np.save(save_dir / 'num_roi_addition' / f'{mouse:03d}_{session:03d}_{plane:03d}.npy', num_unique_ind)\n",
    "            fig, ax = plt.subplots(1,3,figsize=(15,10))\n",
    "            for imtype_ind, imtype in enumerate(image_type_list):\n",
    "                ax[imtype_ind].plot(num_unique_ind[imtype_ind])\n",
    "                ax[imtype_ind].set_title(imtype)\n",
    "            fig.suptitle(f'mouse {mouse}, session {session}, plane {plane}')\n",
    "            fig.tight_layout()\n",
    "            fig.savefig(save_dir / 'num_roi_addition' / f'{mouse:03d}_{session:03d}_{plane:03d}.png')\n",
    "            plt.close(fig)\n"
   ]
  },
  {
   "cell_type": "markdown",
   "metadata": {},
   "source": [
    "# Take a look at some examples\n",
    "- IoU 0.6-0.7, 0.7-0.8, 0.8-1"
   ]
  },
  {
   "cell_type": "code",
   "execution_count": 207,
   "metadata": {},
   "outputs": [],
   "source": [
    "mouse = 27\n",
    "session = 15\n",
    "plane = 7\n",
    "\n",
    "if mouse < 31:\n",
    "    base_dir = base_dir_1\n",
    "else:\n",
    "    base_dir = base_dir_2\n",
    "ops_fn = base_dir / f'{mouse:03}' / f'plane_{plane}' / f'{session:03}' / 'plane0' / 'ops.npy'\n",
    "ops = np.load(ops_fn, allow_pickle=True).item()\n",
    "\n",
    "results = np.load(save_dir / f'masks_{mouse:03d}_{session:03d}_{plane:03d}.npy', allow_pickle=True)\n"
   ]
  },
  {
   "cell_type": "code",
   "execution_count": 208,
   "metadata": {},
   "outputs": [],
   "source": [
    "mask_i = 1\n",
    "masks = results[mask_i]\n",
    "\n",
    "overlap_mat_list = get_overlap_mat_list(masks)\n",
    "\n",
    "if mask_i == 0:\n",
    "    img = ops['meanImg']\n",
    "elif mask_i == 1:\n",
    "    img = ops['meanImgE']\n",
    "else:\n",
    "    img = ops['max_proj']\n"
   ]
  },
  {
   "cell_type": "code",
   "execution_count": 212,
   "metadata": {},
   "outputs": [
    {
     "name": "stdout",
     "output_type": "stream",
     "text": [
      "1\n",
      "[0.29239766]\n"
     ]
    }
   ],
   "source": [
    "iou_range = [0.05, 0.4]\n",
    "\n",
    "mat_i = 2\n",
    "overlap_mat = overlap_mat_list[mat_i]\n",
    "temp_curr_ind, temp_new_ind = np.where((overlap_mat>iou_range[0]) & (overlap_mat<iou_range[1]))\n",
    "print(len(temp_curr_ind))\n",
    "print(overlap_mat[temp_curr_ind, temp_new_ind])"
   ]
  },
  {
   "cell_type": "code",
   "execution_count": 213,
   "metadata": {},
   "outputs": [
    {
     "data": {
      "text/plain": [
       "(302.0, 340.0)"
      ]
     },
     "execution_count": 213,
     "metadata": {},
     "output_type": "execute_result"
    },
    {
     "data": {
      "image/png": "[encoded data removed]",
      "text/plain": [
       "<Figure size 432x288 with 2 Axes>"
      ]
     },
     "metadata": {
      "needs_background": "light"
     },
     "output_type": "display_data"
    }
   ],
   "source": [
    "ind_i = 0\n",
    "fig, ax = plt.subplots(1, 2)\n",
    "ax[0].imshow(img)\n",
    "draw_mask_overlaps(ax[1], masks[mat_i], masks[mat_i+1], temp_curr_ind[ind_i], temp_new_ind[ind_i])\n",
    "ax[0].set_xlim(ax[1].get_xlim())\n",
    "ax[0].set_ylim(ax[1].get_ylim())"
   ]
  },
  {
   "cell_type": "code",
   "execution_count": 76,
   "metadata": {},
   "outputs": [],
   "source": [
    "mask1 = masks[0]\n",
    "mask2 = masks[1]\n",
    "roi_inds1 = np.setdiff1d(np.unique(mask1), [0])\n",
    "roi_inds2 = np.setdiff1d(np.unique(mask2), [0])\n",
    "overlap_mat = np.zeros((len(roi_inds1), len(roi_inds2)))\n",
    "visited_roi_inds2 = []\n",
    "for j in range(len(roi_inds1)):\n",
    "    temp_roi_ind1_map = mask1 == roi_inds1[j]\n",
    "    temp_roi_ind2_visit = np.setdiff1d(np.unique(mask2[temp_roi_ind1_map]), [0])\n",
    "    visited_roi_inds2.extend(temp_roi_ind2_visit)\n",
    "    for temp_roi_2 in temp_roi_ind2_visit:\n",
    "        k = np.where(roi_inds2 == temp_roi_2)[0][0]\n",
    "        intersection_map = temp_roi_ind1_map * (mask2 == temp_roi_2) > 0\n",
    "        union_map = temp_roi_ind1_map + (mask2 == temp_roi_2) > 0\n",
    "        overlap_mat[j, k] = np.sum(intersection_map) / np.sum(union_map)\n",
    "left_roi_inds2 = np.setdiff1d(roi_inds2, np.unique(visited_roi_inds2))\n",
    "for temp_roi_ind2 in left_roi_inds2:\n",
    "    k = np.where(roi_inds2 == temp_roi_2)[0][0]\n",
    "    temp_roi_ind2_map = mask2 == temp_roi_ind2\n",
    "    temp_roi_ind1_visit = np.setdiff1d(np.unique(mask1[temp_roi_ind2_map]), [0])\n",
    "    for temp_roi_ind1 in temp_roi_ind1_visit:\n",
    "        j = np.where(roi_inds1 == temp_roi_ind1)[0][0]\n",
    "        intersection_map = temp_roi_ind2_map * (mask1 == temp_roi_ind1) > 0\n",
    "        union_map = temp_roi_ind2_map + (mask1 == temp_roi_ind1) > 0\n",
    "        overlap_mat[j, k] = np.sum(intersection_map) / np.sum(union_map)"
   ]
  }
 ],
 "metadata": {
  "kernelspec": {
   "display_name": "suite2p",
   "language": "python",
   "name": "python3"
  },
  "language_info": {
   "codemirror_mode": {
    "name": "ipython",
    "version": 3
   },
   "file_extension": ".py",
   "mimetype": "text/x-python",
   "name": "python",
   "nbconvert_exporter": "python",
   "pygments_lexer": "ipython3",
   "version": "3.8.11"
  },
  "orig_nbformat": 4
 },
 "nbformat": 4,
 "nbformat_minor": 2
}
