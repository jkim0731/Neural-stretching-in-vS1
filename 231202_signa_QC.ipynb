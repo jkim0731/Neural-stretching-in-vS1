{
 "cells": [
  {
   "cell_type": "markdown",
   "metadata": {},
   "source": [
    "# Purpose:\n",
    "- Continued from 231021_signal_qc.ipynb\n",
    "- Check each fluorescene traces (231105_signal_QC.pptx)\n",
    "    - Determine to\n",
    "        - correct\n",
    "        - remove\n",
    "        - or select frames (trials)"
   ]
  },
  {
   "cell_type": "markdown",
   "metadata": {},
   "source": [
    "# How can I check if a weird pattern of signal is good or not?\n",
    "- Look at the binned movie\n",
    "- Also have a function to check specific chunk of frames\n"
   ]
  },
  {
   "cell_type": "code",
   "execution_count": null,
   "metadata": {},
   "outputs": [],
   "source": [
    "from pathlib import Path"
   ]
  },
  {
   "cell_type": "code",
   "execution_count": null,
   "metadata": {},
   "outputs": [],
   "source": [
    "mouse = 30\n",
    "session_num = 7\n",
    "plane = 5"
   ]
  }
 ],
 "metadata": {
  "language_info": {
   "name": "python"
  }
 },
 "nbformat": 4,
 "nbformat_minor": 2
}
