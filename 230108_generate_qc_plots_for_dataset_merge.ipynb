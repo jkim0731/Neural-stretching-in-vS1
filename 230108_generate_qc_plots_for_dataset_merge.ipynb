{
 "cells": [
  {
   "cell_type": "markdown",
   "metadata": {},
   "source": [
    "# Purpose\n",
    "- To fasciliate visual inspection for dataset QC\n",
    "- Per trial comparison of\n",
    "    - 12 whisker features\n",
    "    - Licking\n",
    "- Depending on the storage resource, might need to sample randomly\n",
    "    - Maybe volume-wise (since within volume # of frames were QC'd automatically)\n",
    "- This notebook is for testing.\n",
    "    - Generate plots using parallel computing from 230108_generate_qc_plots_for_dataset_merge.py"
   ]
  },
  {
   "cell_type": "code",
   "execution_count": null,
   "metadata": {},
   "outputs": [],
   "source": []
  }
 ],
 "metadata": {
  "kernelspec": {
   "display_name": "Python 3.8.11 ('suite2p')",
   "language": "python",
   "name": "python3"
  },
  "language_info": {
   "name": "python",
   "version": "3.8.11"
  },
  "orig_nbformat": 4,
  "vscode": {
   "interpreter": {
    "hash": "53092f88beb6d9efd0118112bc0e9c1c54eac338b7f8334bd9c460f5dc451b11"
   }
  }
 },
 "nbformat": 4,
 "nbformat_minor": 2
}
