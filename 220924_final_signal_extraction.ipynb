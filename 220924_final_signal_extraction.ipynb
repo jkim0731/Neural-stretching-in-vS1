{
 "cells": [
  {
   "cell_type": "markdown",
   "metadata": {},
   "source": [
    "# Final signal extraction\n",
    "- Using manually curated master ROI. (saved in 001/plane0/from_master_roi/)\n",
    "    - Save the result to 00x/plane0/filtered_master_roi/\n",
    "- Include non-cell ROIs to calculate neuropil signal.\n",
    "- Match indices with session ROI (using JK0xx_planex_roi_collection_final.npy)\n",
    "    - Save this to JK0xx_planex_roi_collection_filtered.npy"
   ]
  },
  {
   "cell_type": "code",
   "execution_count": 24,
   "metadata": {},
   "outputs": [],
   "source": [
    "import numpy as np\n",
    "import matplotlib.pyplot as plt\n",
    "import napari\n",
    "import os, shutil\n",
    "import tqdm\n",
    "from pathlib import Path\n",
    "from importlib import reload\n",
    "\n",
    "from suite2p.registration import rigid, nonrigid\n",
    "from suite2p import extraction\n",
    "from suite2p.extraction import create_masks_and_extract\n",
    "from suite2p.detection import roi_stats\n",
    "\n",
    "h5Dir = 'H:/'\n",
    "# mice =          [25,    27,   30,   36,     37,     38,     39,     41,     52,     53,     54,     56]\n",
    "# refSessions =   [4,     3,    3,    1,      7,      2,      1,      3,      3,      3,      3,      3]\n",
    "# expSessions =   [19,    10,   21,   17,     0,      0,      23,     0,      21,     0,      0,      0]\n",
    "# zoom =          [2,     2,    2,    1.7,    1.7,    1.7,    1.7,    1.7,    1.7,    1.7,    1.7,    1.7]\n",
    "# freq =          [7.7,   7.7,  7.7,  7.7,    6.1,    6.1,    6.1,    6.1,    7.7,    7.7,    7.7,    7.7]\n",
    "\n",
    "mice =          [25,    27,   30,   36,     39,     52]\n",
    "refSessions =   [4,     3,    3,    1,      1,      3]\n",
    "expSessions =   [19,    10,   21,   17,     23,     21]\n",
    "zoom =          [2,     2,    2,    1.7,    1.7,    1.7]\n",
    "freq =          [7.7,   7.7,  7.7,  7.7,    6.1,    7.7]\n",
    "\n",
    "def median_pix(ypix, xpix):\n",
    "    \"\"\" Copied from suite2p.detection\n",
    "    For some reason I can't import it, while I can import roi_stats\n",
    "    \"\"\"\n",
    "    ymed, xmed = np.median(ypix), np.median(xpix)\n",
    "    imin = np.argmin((xpix-xmed)**2 + (ypix-ymed)**2)\n",
    "    xmed = xpix[imin]\n",
    "    ymed = ypix[imin]\n",
    "    return [ymed, xmed]"
   ]
  },
  {
   "cell_type": "markdown",
   "metadata": {},
   "source": [
    "# Test codes"
   ]
  },
  {
   "cell_type": "code",
   "execution_count": 40,
   "metadata": {},
   "outputs": [
    {
     "data": {
      "text/plain": [
       "False"
      ]
     },
     "execution_count": 40,
     "metadata": {},
     "output_type": "execute_result"
    }
   ],
   "source": [
    "# Test from a plane where there was no merge\n",
    "# See if the previous indexing was correct\n",
    "mi = 0\n",
    "mouse = mice[mi]\n",
    "pn = 1\n",
    "plane_dir = Path(f'{h5Dir}{mouse:03}/plane_{pn}/')\n",
    "roi_collection = np.load(plane_dir / f'JK{mouse:03}_plane{pn}_roi_collection_final.npy', allow_pickle=True).item()\n",
    "session_to_session_registration = np.load(plane_dir / f'JK{mouse:03}_plane{pn}_session_to_session_registration.npy', allow_pickle=True).item()\n",
    "selected_session_num = session_to_session_registration['selected_session_num']\n",
    "first_sn = selected_session_num[0]\n",
    "first_from_master_dn = plane_dir / f'{first_sn:03d}/plane0/from_master_map/'\n",
    "first_filtered_master_dn = plane_dir / f'{first_sn:03d}/plane0/filtered_master_map/'\n",
    "if os.path.isdir(first_filtered_master_dn) != True:\n",
    "    os.mkdir(first_filtered_master_dn)\n",
    "first_stat = np.load(first_from_master_dn / 'stat.npy',allow_pickle=True)\n",
    "first_iscell = np.load(first_from_master_dn / 'iscell.npy',allow_pickle=True)\n",
    "'imerge' in first_stat[0].keys()\n"
   ]
  },
  {
   "cell_type": "code",
   "execution_count": 41,
   "metadata": {},
   "outputs": [
    {
     "name": "stdout",
     "output_type": "stream",
     "text": [
      "1\n"
     ]
    }
   ],
   "source": [
    "# Check if the master ROI map matches to the session FOV from suite2p GUI.\n",
    "# Then,\n",
    "# Check if the indices really match\n",
    "si = 0\n",
    "sn = selected_session_num[si]\n",
    "print(sn)\n",
    "session_dff = np.load(plane_dir / f'{sn:03}/plane0/equal_lam/dff.npy', allow_pickle=True)\n",
    "\n",
    "matched_master_ind = roi_collection['final_matching_master_roi_index_list'][si]\n",
    "\n",
    "master_dff = np.load(plane_dir / f'{sn:03}/plane0/from_master_map/dff.npy', allow_pickle=True)"
   ]
  },
  {
   "cell_type": "code",
   "execution_count": 42,
   "metadata": {},
   "outputs": [
    {
     "data": {
      "text/plain": [
       "[<matplotlib.lines.Line2D at 0x201cd190b50>]"
      ]
     },
     "execution_count": 42,
     "metadata": {},
     "output_type": "execute_result"
    },
    {
     "data": {
      "image/png": "[encoded data removed]",
      "text/plain": [
       "<Figure size 432x288 with 1 Axes>"
      ]
     },
     "metadata": {
      "needs_background": "light"
     },
     "output_type": "display_data"
    }
   ],
   "source": [
    "i = 44\n",
    "fig, ax = plt.subplots()\n",
    "ax.plot(session_dff[i,:])\n",
    "ax.plot(master_dff[matched_master_ind[i],:])"
   ]
  },
  {
   "cell_type": "code",
   "execution_count": 43,
   "metadata": {},
   "outputs": [
    {
     "data": {
      "text/plain": [
       "(array([ 1.,  0.,  0.,  0.,  0.,  0.,  0., 10.,  9., 38.]),\n",
       " array([0.08214458, 0.17350039, 0.26485619, 0.356212  , 0.44756781,\n",
       "        0.53892361, 0.63027942, 0.72163522, 0.81299103, 0.90434683,\n",
       "        0.99570264]),\n",
       " <BarContainer object of 10 artists>)"
      ]
     },
     "execution_count": 43,
     "metadata": {},
     "output_type": "execute_result"
    },
    {
     "data": {
      "image/png": "[encoded data removed]",
      "text/plain": [
       "<Figure size 432x288 with 1 Axes>"
      ]
     },
     "metadata": {
      "needs_background": "light"
     },
     "output_type": "display_data"
    }
   ],
   "source": [
    "dff_cc = np.zeros(session_dff.shape[0])\n",
    "for i in range(session_dff.shape[0]):\n",
    "    dff_cc[i] = np.corrcoef(session_dff[i,:], master_dff[matched_master_ind[i],:])[0,1]\n",
    "plt.hist(dff_cc)"
   ]
  },
  {
   "cell_type": "code",
   "execution_count": 44,
   "metadata": {},
   "outputs": [
    {
     "data": {
      "text/plain": [
       "(array([38], dtype=int64),)"
      ]
     },
     "execution_count": 44,
     "metadata": {},
     "output_type": "execute_result"
    }
   ],
   "source": [
    "np.where(dff_cc<0.5)"
   ]
  },
  {
   "cell_type": "code",
   "execution_count": 47,
   "metadata": {},
   "outputs": [
    {
     "data": {
      "text/plain": [
       "<matplotlib.legend.Legend at 0x201cd12e370>"
      ]
     },
     "execution_count": 47,
     "metadata": {},
     "output_type": "execute_result"
    },
    {
     "data": {
      "image/png": "[encoded data removed]",
      "text/plain": [
       "<Figure size 432x288 with 1 Axes>"
      ]
     },
     "metadata": {
      "needs_background": "light"
     },
     "output_type": "display_data"
    }
   ],
   "source": [
    "i = 38\n",
    "fig, ax = plt.subplots()\n",
    "ax.plot(session_dff[i,:], label=f'Session {i}')\n",
    "ax.plot(master_dff[matched_master_ind[i],:], label=f'Master {matched_master_ind[i]}')\n",
    "ax.legend()"
   ]
  },
  {
   "cell_type": "code",
   "execution_count": 48,
   "metadata": {},
   "outputs": [
    {
     "data": {
      "text/plain": [
       "True"
      ]
     },
     "execution_count": 48,
     "metadata": {},
     "output_type": "execute_result"
    }
   ],
   "source": [
    "# Test from a plane where there was merge\n",
    "# See if the previous indexing was correct\n",
    "mi = 0\n",
    "mouse = mice[mi]\n",
    "pn = 3\n",
    "plane_dir = Path(f'{h5Dir}{mouse:03}/plane_{pn}/')\n",
    "roi_collection = np.load(plane_dir / f'JK{mouse:03}_plane{pn}_roi_collection_final.npy', allow_pickle=True).item()\n",
    "session_to_session_registration = np.load(plane_dir / f'JK{mouse:03}_plane{pn}_session_to_session_registration.npy', allow_pickle=True).item()\n",
    "selected_session_num = session_to_session_registration['selected_session_num']\n",
    "first_sn = selected_session_num[0]\n",
    "first_from_master_dn = plane_dir / f'{first_sn:03d}/plane0/from_master_map/'\n",
    "first_filtered_master_dn = plane_dir / f'{first_sn:03d}/plane0/filtered_master_map/'\n",
    "if os.path.isdir(first_filtered_master_dn) != True:\n",
    "    os.mkdir(first_filtered_master_dn)\n",
    "first_from_master_stat = np.load(first_from_master_dn / 'stat.npy',allow_pickle=True)\n",
    "first_from_master_iscell = np.load(first_from_master_dn / 'iscell.npy',allow_pickle=True)\n",
    "'imerge' in first_from_master_stat[0].keys()"
   ]
  },
  {
   "cell_type": "code",
   "execution_count": 49,
   "metadata": {},
   "outputs": [
    {
     "name": "stdout",
     "output_type": "stream",
     "text": [
      "4\n"
     ]
    },
    {
     "data": {
      "text/plain": [
       "(array([ 1.,  0.,  0.,  1.,  1.,  0.,  8., 13., 30., 73.]),\n",
       " array([0.08937079, 0.18002716, 0.27068353, 0.3613399 , 0.45199626,\n",
       "        0.54265263, 0.633309  , 0.72396537, 0.81462173, 0.9052781 ,\n",
       "        0.99593447]),\n",
       " <BarContainer object of 10 artists>)"
      ]
     },
     "execution_count": 49,
     "metadata": {},
     "output_type": "execute_result"
    },
    {
     "data": {
      "image/png": "[encoded data removed]",
      "text/plain": [
       "<Figure size 432x288 with 1 Axes>"
      ]
     },
     "metadata": {
      "needs_background": "light"
     },
     "output_type": "display_data"
    }
   ],
   "source": [
    "# Check if the master ROI map matches to the session FOV from suite2p GUI.\n",
    "# Then,\n",
    "# Check if the indices really match\n",
    "si = 3\n",
    "sn = selected_session_num[si]\n",
    "print(sn)\n",
    "session_dff = np.load(plane_dir / f'{sn:03}/plane0/equal_lam/dff.npy', allow_pickle=True)\n",
    "\n",
    "matched_master_ind = roi_collection['final_matching_master_roi_index_list'][si]\n",
    "\n",
    "master_dff = np.load(plane_dir / f'{sn:03}/plane0/from_master_map/dff.npy', allow_pickle=True)\n",
    "\n",
    "dff_cc = np.zeros(session_dff.shape[0])\n",
    "for i in range(session_dff.shape[0]):\n",
    "    dff_cc[i] = np.corrcoef(session_dff[i,:], master_dff[matched_master_ind[i],:])[0,1]\n",
    "plt.hist(dff_cc)"
   ]
  },
  {
   "cell_type": "code",
   "execution_count": 50,
   "metadata": {},
   "outputs": [
    {
     "data": {
      "text/plain": [
       "(array([104, 123, 124], dtype=int64),)"
      ]
     },
     "execution_count": 50,
     "metadata": {},
     "output_type": "execute_result"
    }
   ],
   "source": [
    "np.where(dff_cc<0.5)"
   ]
  },
  {
   "cell_type": "code",
   "execution_count": 53,
   "metadata": {},
   "outputs": [
    {
     "data": {
      "text/plain": [
       "<matplotlib.legend.Legend at 0x201cd0db250>"
      ]
     },
     "execution_count": 53,
     "metadata": {},
     "output_type": "execute_result"
    },
    {
     "data": {
      "image/png": "[encoded data removed]",
      "text/plain": [
       "<Figure size 432x288 with 1 Axes>"
      ]
     },
     "metadata": {
      "needs_background": "light"
     },
     "output_type": "display_data"
    }
   ],
   "source": [
    "i = 124\n",
    "fig, ax = plt.subplots()\n",
    "ax.plot(session_dff[i,:], label=f'Session {i}')\n",
    "ax.plot(master_dff[matched_master_ind[i],:], label=f'Master {matched_master_ind[i]}')\n",
    "ax.legend()"
   ]
  },
  {
   "cell_type": "code",
   "execution_count": 54,
   "metadata": {},
   "outputs": [
    {
     "data": {
      "text/plain": [
       "4"
      ]
     },
     "execution_count": 54,
     "metadata": {},
     "output_type": "execute_result"
    }
   ],
   "source": [
    "np.sum([len(s['imerge']) for s in first_from_master_stat])"
   ]
  },
  {
   "cell_type": "code",
   "execution_count": 55,
   "metadata": {},
   "outputs": [
    {
     "name": "stdout",
     "output_type": "stream",
     "text": [
      "[ 69  88 149 150]\n"
     ]
    }
   ],
   "source": [
    "imerge = np.where([len(s['imerge']) for s in first_from_master_stat])[0] # merge outcome roi\n",
    "all_merged_ind = []\n",
    "for im in imerge:\n",
    "    first_from_master_stat[im]['lam'] = np.ones_like(first_from_master_stat[im]['ypix']) / len(first_from_master_stat[im]['ypix'])\n",
    "    merged_ind = first_from_master_stat[im]['imerge']\n",
    "    all_merged_ind.extend(merged_ind)\n",
    "all_merged_ind = np.array(all_merged_ind)\n",
    "print(all_merged_ind)"
   ]
  },
  {
   "cell_type": "code",
   "execution_count": 57,
   "metadata": {},
   "outputs": [],
   "source": [
    "# correct roi_collection['final_matching_master_roi_index_list']\n",
    "# and save to JK0xx_planex_roi_collection_filtered.npy\n",
    "\n",
    "from_master_dn = plane_dir / f'{sn:03d}/plane0/from_master_map/'\n",
    "filtered_master_dn = plane_dir / f'{sn:03d}/plane0/filtered_master_map/'\n",
    "if os.path.isdir(filtered_master_dn) != True:\n",
    "    os.mkdir(filtered_master_dn)\n",
    "session_master_stat = np.load(from_master_dn / 'stat.npy', allow_pickle=True)\n",
    "for im in imerge:\n",
    "    merged_ind = first_from_master_stat[im]['imerge']\n",
    "    merge_ypix = []\n",
    "    merge_xpix = []\n",
    "    for mii in merged_ind:\n",
    "        merge_ypix.extend(session_master_stat[mii]['ypix'])\n",
    "        merge_xpix.extend(session_master_stat[mii]['xpix'])\n",
    "    merge_ypix = np.array(merge_ypix)\n",
    "    merge_xpix = np.array(merge_xpix)\n",
    "    merge_lam = np.ones_like(merge_ypix) / len(merge_ypix)\n",
    "    merge_med = median_pix(merge_ypix, merge_xpix)\n",
    "    new_roi = {'ypix': merge_ypix,\n",
    "                'xpix': merge_xpix,\n",
    "                'lam': merge_lam,\n",
    "                'med': merge_med}\n",
    "    session_master_stat = np.append(session_master_stat, new_roi)\n",
    "# remove merged indices from session_stat and save it\n",
    "session_filtered_master_stat = np.delete(session_master_stat, all_merged_ind)\n",
    "\n"
   ]
  },
  {
   "cell_type": "code",
   "execution_count": 75,
   "metadata": {},
   "outputs": [
    {
     "data": {
      "text/plain": [
       "127"
      ]
     },
     "execution_count": 75,
     "metadata": {},
     "output_type": "execute_result"
    }
   ],
   "source": [
    "session_ops = np.load(plane_dir / f'{sn:03}/plane0/equal_lam/ops.npy', allow_pickle=True).item()\n",
    "Ly = session_ops['Ly']\n",
    "Lx = session_ops['Lx']\n",
    "session_stat = np.load(plane_dir / f'{sn:03}/plane0/equal_lam/stat.npy', allow_pickle=True)\n",
    "\n",
    "session_num_roi = len(session_stat)\n",
    "session_roi_map = np.zeros((session_num_roi,Ly,Lx), dtype='bool')\n",
    "for ri in range(session_num_roi):\n",
    "    session_roi_map[ri, session_stat[ri]['ypix'], session_stat[ri]['xpix']] = 1\n",
    "\n",
    "session_filtered_num_roi = len(session_filtered_master_stat)\n",
    "session_filtered_master_roi_map = np.zeros((session_filtered_num_roi,Ly,Lx), dtype='bool')\n",
    "for ri in range(session_filtered_num_roi):\n",
    "    session_filtered_master_roi_map[ri, session_filtered_master_stat[ri]['ypix'], session_filtered_master_stat[ri]['xpix']] = 1\n",
    "\n",
    "filtered_overlap_matrix = np.zeros((session_num_roi, session_filtered_num_roi))\n",
    "for sri in range(session_num_roi):\n",
    "    for fri in range(session_filtered_num_roi):\n",
    "        filtered_overlap_matrix[sri,fri] = np.sum(session_roi_map[sri,:,:] * session_filtered_master_roi_map[fri,:,:])\n",
    "\n",
    "filtered_matching_roi_ind = np.argmax(filtered_overlap_matrix,axis=1)\n",
    "len(filtered_matching_roi_ind)"
   ]
  },
  {
   "cell_type": "code",
   "execution_count": 78,
   "metadata": {},
   "outputs": [
    {
     "data": {
      "text/plain": [
       "126"
      ]
     },
     "execution_count": 78,
     "metadata": {},
     "output_type": "execute_result"
    }
   ],
   "source": [
    "len(np.unique(filtered_matching_roi_ind))"
   ]
  },
  {
   "cell_type": "code",
   "execution_count": 81,
   "metadata": {},
   "outputs": [
    {
     "data": {
      "text/plain": [
       "array([124], dtype=int64)"
      ]
     },
     "execution_count": 81,
     "metadata": {},
     "output_type": "execute_result"
    }
   ],
   "source": [
    "np.where([len(np.where(filtered_matching_roi_ind==mri)[0])>1 for mri in np.unique(filtered_matching_roi_ind)])[0]"
   ]
  },
  {
   "cell_type": "code",
   "execution_count": 82,
   "metadata": {},
   "outputs": [
    {
     "data": {
      "text/plain": [
       "255"
      ]
     },
     "execution_count": 82,
     "metadata": {},
     "output_type": "execute_result"
    }
   ],
   "source": [
    "np.unique(filtered_matching_roi_ind)[124]"
   ]
  },
  {
   "cell_type": "code",
   "execution_count": 83,
   "metadata": {},
   "outputs": [
    {
     "data": {
      "text/plain": [
       "array([ 71, 121], dtype=int64)"
      ]
     },
     "execution_count": 83,
     "metadata": {},
     "output_type": "execute_result"
    }
   ],
   "source": [
    "np.where(filtered_matching_roi_ind==255)[0]"
   ]
  },
  {
   "cell_type": "code",
   "execution_count": 73,
   "metadata": {},
   "outputs": [
    {
     "name": "stderr",
     "output_type": "stream",
     "text": [
      "c:\\Users\\shires\\Anaconda3\\envs\\suite2p\\lib\\site-packages\\napari\\_vispy\\vispy_camera.py:109: RuntimeWarning: divide by zero encountered in true_divide\n",
      "  zoom = np.min(canvas_size / scale)\n"
     ]
    }
   ],
   "source": [
    "napari.view_image(session_filtered_master_roi_map);"
   ]
  },
  {
   "cell_type": "code",
   "execution_count": 28,
   "metadata": {},
   "outputs": [
    {
     "data": {
      "text/plain": [
       "dict_keys(['ypix', 'xpix', 'lam', 'med', 'mrs', 'mrs0', 'compact', 'solidity', 'npix', 'npix_soma', 'soma_crop', 'overlap', 'radius', 'aspect_ratio', 'npix_norm_no_crop', 'npix_norm', 'footprint', 'skew', 'std', 'neuropil_mask', 'inmerge', 'yext', 'xext', 'ycirc', 'xcirc', 'imerge'])"
      ]
     },
     "execution_count": 28,
     "metadata": {},
     "output_type": "execute_result"
    }
   ],
   "source": [
    "# check the similarity of ROI location\n",
    "session_filtered_master_stat[0].keys()"
   ]
  },
  {
   "cell_type": "code",
   "execution_count": null,
   "metadata": {},
   "outputs": [],
   "source": []
  },
  {
   "cell_type": "code",
   "execution_count": 189,
   "metadata": {},
   "outputs": [],
   "source": [
    "# Test from single plane\n",
    "# Copy iscell and stat from the first session of 'from_master_map',\n",
    "# which is supposed to have manually curated master map\n",
    "def median_pix(ypix, xpix):\n",
    "    \"\"\" Copied from suite2p.detection\n",
    "    For some reason I can't import it, while I can import roi_stats\n",
    "    \"\"\"\n",
    "    ymed, xmed = np.median(ypix), np.median(xpix)\n",
    "    imin = np.argmin((xpix-xmed)**2 + (ypix-ymed)**2)\n",
    "    xmed = xpix[imin]\n",
    "    ymed = ypix[imin]\n",
    "    return [ymed, xmed]\n",
    "\n",
    "def match_roi_with_filtered_master(session_stat, session_filtered_master_stat, Ly, Lx):\n",
    "    session_num_roi = len(session_stat)\n",
    "    session_roi_map = np.zeros((session_num_roi,Ly,Lx), dtype='bool')\n",
    "    for ri in range(session_num_roi):\n",
    "        session_roi_map[ri, session_stat[ri]['ypix'], session_stat[ri]['xpix']] = 1\n",
    "\n",
    "    session_filtered_num_roi = len(session_filtered_master_stat)\n",
    "    session_filtered_master_roi_map = np.zeros((session_filtered_num_roi,Ly,Lx), dtype='bool')\n",
    "    for ri in range(session_filtered_num_roi):\n",
    "        session_filtered_master_roi_map[ri, session_filtered_master_stat[ri]['ypix'], session_filtered_master_stat[ri]['xpix']] = 1\n",
    "\n",
    "    filtered_overlap_matrix = np.zeros((session_num_roi, session_filtered_num_roi))\n",
    "    for sri in range(session_num_roi):\n",
    "        for fri in range(session_filtered_num_roi):\n",
    "            filtered_overlap_matrix[sri,fri] = np.sum(session_roi_map[sri,:,:] * session_filtered_master_roi_map[fri,:,:])\n",
    "    filtered_matching_roi_ind = np.argmax(filtered_overlap_matrix, axis=1)\n",
    "    assert len(filtered_matching_roi_ind) == len(session_stat)\n",
    "    return filtered_matching_roi_ind\n",
    "\n",
    "def build_roi_stats(stats, ops):\n",
    "    if 'aspect' in ops:\n",
    "        dy, dx = int(ops['aspect'] * 10), 10\n",
    "    else:\n",
    "        d0 = ops['diameter']\n",
    "        dy, dx = (d0, d0) if isinstance(d0, int) else d0\n",
    "    stats = roi_stats(stats, dy = dy, dx = dx, Ly = ops['Ly'], Lx = ops['Lx'])\n",
    "    return stats\n",
    "\n",
    "mi = 0\n",
    "mouse = mice[mi]\n",
    "pn = 3\n",
    "plane_dir = Path(f'{h5Dir}{mouse:03}/plane_{pn}/')\n",
    "roi_collection = np.load(plane_dir / f'JK{mouse:03}_plane{pn}_roi_collection_final.npy', allow_pickle=True).item()\n",
    "session_to_session_registration = np.load(plane_dir / f'JK{mouse:03}_plane{pn}_session_to_session_registration.npy', allow_pickle=True).item()\n",
    "selected_session_num = session_to_session_registration['selected_session_num']\n",
    "first_sn = selected_session_num[0]\n",
    "first_from_master_dn = plane_dir / f'{first_sn:03d}/plane0/from_master_map/'\n",
    "first_filtered_master_dn = plane_dir / f'{first_sn:03d}/plane0/filtered_master_map/'\n",
    "if os.path.isdir(first_filtered_master_dn) != True:\n",
    "    os.mkdir(first_filtered_master_dn)\n",
    "\n",
    "first_session_ops = np.load(plane_dir / f'{first_sn:03}/plane0/equal_lam/ops.npy', allow_pickle=True).item()\n",
    "Ly = session_ops['Ly']\n",
    "Lx = session_ops['Lx']\n",
    "\n",
    "first_stat = np.load(first_from_master_dn / 'stat.npy',allow_pickle=True)\n",
    "first_iscell = np.load(first_from_master_dn / 'iscell.npy',allow_pickle=True)\n",
    "\n",
    "# If there are merged ROIs, \n",
    "# correct iscell.npy and stat.npy (lam = 1/n)\n",
    "# roi_collection['filtered_matching_master_roi_index_list']\n",
    "# I have to remove ROIs merged into, to re-calculate signals from the merged ROIs (due to the overlap constraint)\n",
    "# After re-assigning matching index, remove ROIs merged into. \n",
    "if np.sum([len(s['imerge']) for s in first_stat]) > 0: # There were merged cells during master ROI filtering\n",
    "    # Modify stat in each session to have merged ROIs\n",
    "    # Save stat.npy in each session.\n",
    "    # Modify iscell.npy to remove ROIs merged into\n",
    "    # Modify roi_collection to match indices between session ROI and master ROI\n",
    "\n",
    "    # First, correct the lambda in stat.npy\n",
    "    # and collect all merged indices (to remove from iscell and stat later)\n",
    "    merge_out_ind = np.where([len(s['imerge']) for s in first_stat])[0]\n",
    "    all_merged_ind = []\n",
    "    for moi in merge_out_ind:\n",
    "        first_stat[moi]['lam'] = np.ones_like(first_stat[moi]['ypix']) / len(first_stat[moi]['ypix'])\n",
    "        merged_ind = first_stat[moi]['imerge']\n",
    "        all_merged_ind.extend(merged_ind)\n",
    "    all_merged_ind = np.array(all_merged_ind)\n",
    "    \n",
    "    # Apply merge in the rest of the sessions\n",
    "    # Save the stat file after removing merged indices\n",
    "    for sn in selected_session_num[1:]: # except for the first session stat\n",
    "        from_master_dn = plane_dir / f'{sn:03d}/plane0/from_master_map/'\n",
    "        filtered_master_dn = plane_dir / f'{sn:03d}/plane0/filtered_master_map/'\n",
    "        if os.path.isdir(filtered_master_dn) != True:\n",
    "            os.mkdir(filtered_master_dn)\n",
    "        session_stat = np.load(from_master_dn / 'stat.npy', allow_pickle=True)\n",
    "        for moi in merge_out_ind:\n",
    "            merged_ind = first_stat[moi]['imerge']\n",
    "            merge_ypix = []\n",
    "            merge_xpix = []\n",
    "            for mi in merged_ind:\n",
    "                merge_ypix.extend(session_stat[mi]['ypix'])\n",
    "                merge_xpix.extend(session_stat[mi]['xpix'])\n",
    "            merge_ypix = np.array(merge_ypix)\n",
    "            merge_xpix = np.array(merge_xpix)\n",
    "            # remove redundant pixel pairs\n",
    "            merge_pix_pair = np.vstack((merge_ypix, merge_xpix))\n",
    "            unique_pix_pair = np.unique(merge_pix_pair, axis=1)\n",
    "            merge_ypix = unique_pix_pair[0,:]\n",
    "            merge_xpix = unique_pix_pair[1,:]\n",
    "            merge_lam = np.ones_like(merge_ypix) / len(merge_ypix)\n",
    "            merge_med = median_pix(merge_ypix, merge_xpix)\n",
    "            new_roi = {'ypix': merge_ypix,\n",
    "                        'xpix': merge_xpix,\n",
    "                        'lam': merge_lam,\n",
    "                        'med': merge_med}\n",
    "            session_stat = np.append(session_stat, new_roi)\n",
    "        # remove merged indices from session_stat and save it\n",
    "        session_stat = np.delete(session_stat, all_merged_ind)\n",
    "        session_stat = build_roi_stats(session_stat, first_session_ops) # It requires 'diameter', 'aspect', 'Ly', and 'Lx', \n",
    "                                                    #which should be all the same, so it is OK to use first_session_ops\n",
    "        np.save(filtered_master_dn / 'stat.npy', session_stat)\n",
    "    # remove merged indices from iscell and stat\n",
    "    first_iscell = np.delete(first_iscell, all_merged_ind, axis=0)\n",
    "    first_stat = np.delete(first_stat, all_merged_ind)\n",
    "    first_stat = build_roi_stats(first_stat, first_session_ops)\n",
    "    np.save(first_filtered_master_dn / 'stat.npy', first_stat)\n",
    "\n",
    "    # correct roi_collection['final_matching_master_roi_index_list']\n",
    "    # and save to JK0xx_planex_roi_collection_filtered.npy\n",
    "    filtered_matching_master_roi_index_list = []\n",
    "    for i in range(len(selected_session_num)):\n",
    "        sn = selected_session_num[i]\n",
    "        session_stat = np.load(plane_dir / f'{sn:03}/plane0/equal_lam/stat.npy', allow_pickle=True)\n",
    "        session_filtered_master_stat = np.load(plane_dir / f'{sn:03}/plane0/filtered_master_map/stat.npy', allow_pickle=True)\n",
    "        filtered_matching_roi_ind = match_roi_with_filtered_master(session_stat, session_filtered_master_stat, Ly, Lx)\n",
    "        filtered_matching_master_roi_index_list.append(filtered_matching_roi_ind)\n",
    "    roi_collection['filtered_matching_master_roi_index_list'] = filtered_matching_master_roi_index_list\n",
    "\n",
    "else: # When there is no merge, stat does not need to change, so just copy them from\n",
    "    # 'from_master_map' to 'filtered_master_map'\n",
    "    roi_collection['filtered_matching_master_roi_index_list'] = roi_collection['final_matching_master_roi_index_list']\n",
    "    for sn in selected_session_num:\n",
    "        from_master_dn = plane_dir / f'{sn:03d}/plane0/from_master_map/'\n",
    "        filtered_master_dn = plane_dir / f'{sn:03d}/plane0/filtered_master_map/'\n",
    "        if os.path.isdir(filtered_master_dn) != True:\n",
    "            os.mkdir(filtered_master_dn)\n",
    "        shutil.copy(from_master_dn / 'stat.npy', filtered_master_dn / 'stat.npy')\n",
    "        \n",
    "# Then, save the iscell.npy and ops.npy to each session\n",
    "# For iscell.npy, all sessions should have the same\n",
    "for sn in selected_session_num:\n",
    "    dn = plane_dir / f'{sn:03d}/plane0/filtered_master_map/'\n",
    "    np.save(dn / 'iscell.npy', first_iscell)\n",
    "    from_dn = plane_dir / f'{sn:03d}/plane0/from_master_map/'\n",
    "    shutil.copy(from_dn / 'ops.npy', dn / 'ops.npy')\n",
    "   \n",
    "# If there is no merged ROIs, just copy JK0xx_planex_roi_collection_final.npy and save to JK0xx_planex_roi_collection_filtered.npy\n",
    "# If there was merge, then the corrected roi_collection is saved to '..._roi_collection_filtered.npy'\n",
    "np.save(plane_dir / f'JK{mouse:03}_plane{pn}_roi_collection_filtered.npy', roi_collection)\n"
   ]
  },
  {
   "cell_type": "code",
   "execution_count": 185,
   "metadata": {},
   "outputs": [
    {
     "data": {
      "text/plain": [
       "array([ 1,  2,  3,  4,  5,  6, 13, 15, 17, 19, 22, 23, 24])"
      ]
     },
     "execution_count": 185,
     "metadata": {},
     "output_type": "execute_result"
    }
   ],
   "source": [
    "selected_session_num"
   ]
  },
  {
   "cell_type": "code",
   "execution_count": 190,
   "metadata": {},
   "outputs": [
    {
     "data": {
      "text/plain": [
       "array([ 89, 165, 227,  49, 203, 104,  90, 107, 166,  36,  34,  91, 206,\n",
       "       185, 149, 208,  92, 236,  93, 152, 178,  16,  37, 140, 205,   1,\n",
       "       231,  35, 256,  50, 202,  48, 229, 113,  40,  17,  21, 189, 109,\n",
       "        38, 154,   3, 184,  53,  18,  94, 169,  47,   4, 211, 225, 183,\n",
       "        56, 110, 144, 191, 151,  23, 159,  41, 188, 111, 106, 153,  95,\n",
       "       255, 238, 237,  96, 214, 204, 218, 117,  39,  55, 172, 195,  43,\n",
       "       127, 121,  97,   8, 212, 221,  22, 115,  98,  25, 209,  77,  99,\n",
       "       100, 119,  59, 168, 101,  32, 240, 223, 136, 175, 128, 118, 102],\n",
       "      dtype=int64)"
      ]
     },
     "execution_count": 190,
     "metadata": {},
     "output_type": "execute_result"
    }
   ],
   "source": [
    "roi_collection['filtered_matching_master_roi_index_list'][4]"
   ]
  },
  {
   "cell_type": "code",
   "execution_count": null,
   "metadata": {},
   "outputs": [],
   "source": [
    "# Run signal extraction again from each session.\n",
    "# Calculate dff as well.\n",
    "# Try re-calculating them all, since I observed few cells with flat signal\n",
    "for sn in selected_session_num:\n",
    "    ops = np.load(plane_dir / f'{sn:03}/plane0/filtered_master_map/ops.npy', allow_pickle=True).item()\n",
    "    ops['reg_file'] = plane_dir / f'{sn:03}/plane0/data.bin'\n",
    "    stat = np.load(plane_dir / f'{sn:03}/plane0/filtered_master_map/stat.npy', allow_pickle=True)\n",
    "    \n",
    "    ops, stat, F, Fneu, _, _ = create_masks_and_extract(ops, stat)\n",
    "\n",
    "    dF = F.copy() - ops['neucoeff']*Fneu\n",
    "    dF, Flow = extraction.preprocess(\n",
    "        F=dF,\n",
    "        baseline=ops['baseline'],\n",
    "        win_baseline=ops['win_baseline'],\n",
    "        sig_baseline=ops['sig_baseline'],\n",
    "        fs=ops['fs'],\n",
    "        prctile_baseline=ops['prctile_baseline']\n",
    "    )\n",
    "    spks = extraction.oasis(F=dF, batch_size=ops['batch_size'], tau=ops['tau'], fs=ops['fs'])\n",
    "    dff = dF / Flow\n",
    "\n",
    "    ops['save_path'] = plane_dir / f'{sn:03}/plane0/filtered_master_map/'\n",
    "    fpath = ops['save_path']\n",
    "    if os.path.isdir(fpath) != True:\n",
    "        os.mkdir(fpath)\n",
    "    np.save(os.path.join(fpath, 'ops.npy'), ops)\n",
    "    np.save(os.path.join(fpath, 'stat.npy'), stat)\n",
    "    np.save(os.path.join(fpath,'F.npy'), F)\n",
    "    np.save(os.path.join(fpath,'Fneu.npy'), Fneu)\n",
    "    np.save(os.path.join(fpath, 'spks.npy'), spks)\n",
    "    np.save(os.path.join(fpath, 'dff.npy'), dff)"
   ]
  },
  {
   "cell_type": "code",
   "execution_count": 201,
   "metadata": {},
   "outputs": [
    {
     "name": "stdout",
     "output_type": "stream",
     "text": [
      "17\n"
     ]
    }
   ],
   "source": [
    "# Check if the master ROI map matches to the session FOV from suite2p GUI.\n",
    "# Then,\n",
    "# Check if the indices really match\n",
    "roi_collection = np.load(plane_dir / f'JK{mouse:03}_plane{pn}_roi_collection_filtered.npy', allow_pickle=True).item()\n",
    "session_to_session_registration = np.load(plane_dir / f'JK{mouse:03}_plane{pn}_session_to_session_registration.npy', allow_pickle=True).item()\n",
    "selected_session_num = session_to_session_registration['selected_session_num']\n",
    "\n",
    "si = 8\n",
    "sn = selected_session_num[si]\n",
    "\n",
    "session_dff = np.load(plane_dir / f'{sn:03}/plane0/equal_lam/dff.npy', allow_pickle=True)\n",
    "session_stat = np.load(plane_dir / f'{sn:03}/plane0/equal_lam/stat.npy', allow_pickle=True)\n",
    "\n",
    "matched_master_ind = roi_collection['filtered_matching_master_roi_index_list'][si]\n",
    "\n",
    "master_dff = np.load(plane_dir / f'{sn:03}/plane0/filtered_master_map/dff.npy', allow_pickle=True)\n",
    "master_stat = np.load(plane_dir / f'{sn:03}/plane0/filtered_master_map/stat.npy', allow_pickle=True)\n",
    "print(sn)"
   ]
  },
  {
   "cell_type": "code",
   "execution_count": 206,
   "metadata": {},
   "outputs": [
    {
     "data": {
      "text/plain": [
       "[<matplotlib.lines.Line2D at 0x201cb30fd00>]"
      ]
     },
     "execution_count": 206,
     "metadata": {},
     "output_type": "execute_result"
    },
    {
     "data": {
      "image/png": "[encoded data removed]",
      "text/plain": [
       "<Figure size 432x288 with 1 Axes>"
      ]
     },
     "metadata": {
      "needs_background": "light"
     },
     "output_type": "display_data"
    }
   ],
   "source": [
    "i = 23\n",
    "fig, ax = plt.subplots()\n",
    "ax.plot(session_dff[i,:])\n",
    "ax.plot(master_dff[matched_master_ind[i],:])"
   ]
  },
  {
   "cell_type": "markdown",
   "metadata": {},
   "source": [
    "# Run the whole mice and sessions"
   ]
  },
  {
   "cell_type": "code",
   "execution_count": 212,
   "metadata": {},
   "outputs": [
    {
     "name": "stderr",
     "output_type": "stream",
     "text": [
      "C:\\Users\\shires\\AppData\\Local\\Temp/ipykernel_48416/2308498233.py:1: TqdmDeprecationWarning: This function will be removed in tqdm==5.0.0\n",
      "Please use `tqdm.notebook.tqdm` instead of `tqdm.tqdm_notebook`\n",
      "  for mi in tqdm.tqdm_notebook(range(1,3)):\n"
     ]
    },
    {
     "data": {
      "application/vnd.jupyter.widget-view+json": {
       "model_id": "b964a832ef064e15b6d9bb60e6466909",
       "version_major": 2,
       "version_minor": 0
      },
      "text/plain": [
       "  0%|          | 0/2 [00:00<?, ?it/s]"
      ]
     },
     "metadata": {},
     "output_type": "display_data"
    },
    {
     "name": "stderr",
     "output_type": "stream",
     "text": [
      "C:\\Users\\shires\\AppData\\Local\\Temp/ipykernel_48416/2308498233.py:3: TqdmDeprecationWarning: This function will be removed in tqdm==5.0.0\n",
      "Please use `tqdm.notebook.tqdm` instead of `tqdm.tqdm_notebook`\n",
      "  for pn in tqdm.tqdm_notebook(range(1,9)):\n"
     ]
    },
    {
     "data": {
      "application/vnd.jupyter.widget-view+json": {
       "model_id": "eec72038aa8742e1ad52b88e29dd3e9e",
       "version_major": 2,
       "version_minor": 0
      },
      "text/plain": [
       "  0%|          | 0/8 [00:00<?, ?it/s]"
      ]
     },
     "metadata": {},
     "output_type": "display_data"
    },
    {
     "name": "stdout",
     "output_type": "stream",
     "text": [
      "Masks created, 2.21 sec.\n",
      "Extracted fluorescence from 210 ROIs in 13320 frames, 28.89 sec.\n",
      "Masks created, 1.87 sec.\n",
      "Extracted fluorescence from 210 ROIs in 11545 frames, 19.09 sec.\n",
      "Masks created, 1.69 sec.\n",
      "Extracted fluorescence from 210 ROIs in 9132 frames, 14.55 sec.\n",
      "Masks created, 1.74 sec.\n",
      "Extracted fluorescence from 210 ROIs in 12320 frames, 20.08 sec.\n",
      "Masks created, 1.85 sec.\n",
      "Extracted fluorescence from 210 ROIs in 10009 frames, 16.83 sec.\n",
      "Masks created, 1.83 sec.\n",
      "Extracted fluorescence from 210 ROIs in 7032 frames, 11.72 sec.\n",
      "Masks created, 1.83 sec.\n",
      "Extracted fluorescence from 210 ROIs in 5903 frames, 10.13 sec.\n",
      "Masks created, 1.63 sec.\n",
      "Extracted fluorescence from 210 ROIs in 14250 frames, 22.03 sec.\n",
      "Masks created, 2.10 sec.\n",
      "Extracted fluorescence from 283 ROIs in 13320 frames, 66.00 sec.\n",
      "Masks created, 1.98 sec.\n",
      "Extracted fluorescence from 283 ROIs in 11545 frames, 73.80 sec.\n",
      "Masks created, 2.08 sec.\n",
      "Extracted fluorescence from 283 ROIs in 9132 frames, 39.71 sec.\n",
      "Masks created, 1.95 sec.\n",
      "Extracted fluorescence from 283 ROIs in 12320 frames, 69.30 sec.\n",
      "Masks created, 2.01 sec.\n",
      "Extracted fluorescence from 283 ROIs in 10009 frames, 57.21 sec.\n",
      "Masks created, 2.00 sec.\n",
      "Extracted fluorescence from 283 ROIs in 7032 frames, 38.68 sec.\n",
      "Masks created, 2.05 sec.\n",
      "Extracted fluorescence from 283 ROIs in 5903 frames, 33.68 sec.\n",
      "Masks created, 1.88 sec.\n",
      "Extracted fluorescence from 283 ROIs in 14250 frames, 82.52 sec.\n",
      "Masks created, 2.38 sec.\n",
      "Extracted fluorescence from 357 ROIs in 13320 frames, 77.61 sec.\n",
      "Masks created, 2.28 sec.\n",
      "Extracted fluorescence from 357 ROIs in 11545 frames, 67.34 sec.\n",
      "Masks created, 2.35 sec.\n",
      "Extracted fluorescence from 357 ROIs in 9132 frames, 40.55 sec.\n",
      "Masks created, 2.41 sec.\n",
      "Extracted fluorescence from 357 ROIs in 12320 frames, 53.85 sec.\n",
      "Masks created, 2.33 sec.\n",
      "Extracted fluorescence from 357 ROIs in 10009 frames, 58.83 sec.\n",
      "Masks created, 2.38 sec.\n",
      "Extracted fluorescence from 357 ROIs in 7032 frames, 39.46 sec.\n",
      "Masks created, 2.35 sec.\n",
      "Extracted fluorescence from 357 ROIs in 5903 frames, 34.67 sec.\n",
      "Masks created, 2.29 sec.\n",
      "Extracted fluorescence from 357 ROIs in 14250 frames, 84.58 sec.\n",
      "Masks created, 2.54 sec.\n",
      "Extracted fluorescence from 457 ROIs in 13320 frames, 79.42 sec.\n",
      "Masks created, 2.49 sec.\n",
      "Extracted fluorescence from 457 ROIs in 11545 frames, 68.83 sec.\n",
      "Masks created, 2.50 sec.\n",
      "Extracted fluorescence from 457 ROIs in 9132 frames, 40.47 sec.\n",
      "Masks created, 2.50 sec.\n",
      "Extracted fluorescence from 457 ROIs in 12320 frames, 73.01 sec.\n",
      "Masks created, 2.56 sec.\n",
      "Extracted fluorescence from 457 ROIs in 10009 frames, 52.16 sec.\n",
      "Masks created, 2.59 sec.\n",
      "Extracted fluorescence from 457 ROIs in 7032 frames, 34.65 sec.\n",
      "Masks created, 2.57 sec.\n",
      "Extracted fluorescence from 457 ROIs in 5903 frames, 30.59 sec.\n",
      "Masks created, 2.48 sec.\n",
      "Extracted fluorescence from 457 ROIs in 14250 frames, 73.94 sec.\n",
      "Masks created, 2.35 sec.\n",
      "Extracted fluorescence from 440 ROIs in 12337 frames, 66.24 sec.\n",
      "Masks created, 2.29 sec.\n",
      "Extracted fluorescence from 440 ROIs in 11453 frames, 59.31 sec.\n",
      "Masks created, 2.29 sec.\n",
      "Extracted fluorescence from 440 ROIs in 8854 frames, 44.90 sec.\n",
      "Masks created, 2.39 sec.\n",
      "Extracted fluorescence from 440 ROIs in 11347 frames, 59.04 sec.\n",
      "Masks created, 2.26 sec.\n",
      "Extracted fluorescence from 440 ROIs in 8631 frames, 43.66 sec.\n",
      "Masks created, 2.36 sec.\n",
      "Extracted fluorescence from 440 ROIs in 5879 frames, 29.62 sec.\n",
      "Masks created, 2.42 sec.\n",
      "Extracted fluorescence from 440 ROIs in 20029 frames, 104.72 sec.\n",
      "Masks created, 2.26 sec.\n",
      "Extracted fluorescence from 440 ROIs in 17285 frames, 87.57 sec.\n",
      "Masks created, 2.38 sec.\n",
      "Extracted fluorescence from 440 ROIs in 16699 frames, 86.14 sec.\n",
      "Masks created, 2.37 sec.\n",
      "Extracted fluorescence from 440 ROIs in 8074 frames, 40.44 sec.\n",
      "Masks created, 2.34 sec.\n",
      "Extracted fluorescence from 440 ROIs in 13598 frames, 70.31 sec.\n",
      "Masks created, 2.35 sec.\n",
      "Extracted fluorescence from 440 ROIs in 17429 frames, 89.00 sec.\n",
      "Masks created, 2.48 sec.\n",
      "Extracted fluorescence from 440 ROIs in 8204 frames, 41.48 sec.\n",
      "Masks created, 2.52 sec.\n",
      "Extracted fluorescence from 440 ROIs in 7673 frames, 39.43 sec.\n",
      "Masks created, 2.45 sec.\n",
      "Extracted fluorescence from 440 ROIs in 9397 frames, 49.43 sec.\n",
      "Masks created, 2.31 sec.\n",
      "Extracted fluorescence from 440 ROIs in 13086 frames, 66.91 sec.\n",
      "Masks created, 2.35 sec.\n",
      "Extracted fluorescence from 440 ROIs in 11239 frames, 58.47 sec.\n",
      "Masks created, 1.99 sec.\n",
      "Extracted fluorescence from 317 ROIs in 12337 frames, 66.81 sec.\n",
      "Masks created, 1.94 sec.\n",
      "Extracted fluorescence from 317 ROIs in 11453 frames, 59.95 sec.\n",
      "Masks created, 1.81 sec.\n",
      "Extracted fluorescence from 317 ROIs in 8854 frames, 39.21 sec.\n",
      "Masks created, 1.79 sec.\n",
      "Extracted fluorescence from 317 ROIs in 11347 frames, 58.47 sec.\n",
      "Masks created, 1.76 sec.\n",
      "Extracted fluorescence from 317 ROIs in 8631 frames, 43.00 sec.\n",
      "Masks created, 1.81 sec.\n",
      "Extracted fluorescence from 317 ROIs in 5879 frames, 29.31 sec.\n",
      "Masks created, 1.65 sec.\n",
      "Extracted fluorescence from 317 ROIs in 20029 frames, 103.42 sec.\n",
      "Masks created, 1.66 sec.\n",
      "Extracted fluorescence from 317 ROIs in 17285 frames, 86.87 sec.\n",
      "Masks created, 1.66 sec.\n",
      "Extracted fluorescence from 317 ROIs in 16699 frames, 85.31 sec.\n",
      "Masks created, 1.65 sec.\n",
      "Extracted fluorescence from 317 ROIs in 8074 frames, 39.73 sec.\n",
      "Masks created, 1.69 sec.\n",
      "Extracted fluorescence from 317 ROIs in 13598 frames, 67.75 sec.\n",
      "Masks created, 1.56 sec.\n",
      "Extracted fluorescence from 317 ROIs in 17429 frames, 87.77 sec.\n",
      "Masks created, 1.57 sec.\n",
      "Extracted fluorescence from 317 ROIs in 8204 frames, 40.66 sec.\n",
      "Masks created, 1.49 sec.\n",
      "Extracted fluorescence from 317 ROIs in 7673 frames, 38.43 sec.\n",
      "Masks created, 1.65 sec.\n",
      "Extracted fluorescence from 317 ROIs in 9397 frames, 47.84 sec.\n",
      "Masks created, 1.61 sec.\n",
      "Extracted fluorescence from 317 ROIs in 13086 frames, 65.74 sec.\n",
      "Masks created, 1.68 sec.\n",
      "Extracted fluorescence from 317 ROIs in 11239 frames, 57.23 sec.\n",
      "Masks created, 1.48 sec.\n",
      "Extracted fluorescence from 218 ROIs in 12337 frames, 63.16 sec.\n",
      "Masks created, 1.48 sec.\n",
      "Extracted fluorescence from 218 ROIs in 11453 frames, 57.53 sec.\n",
      "Masks created, 1.49 sec.\n",
      "Extracted fluorescence from 218 ROIs in 8854 frames, 38.53 sec.\n",
      "Masks created, 1.43 sec.\n",
      "Extracted fluorescence from 218 ROIs in 11347 frames, 51.58 sec.\n",
      "Masks created, 1.48 sec.\n",
      "Extracted fluorescence from 218 ROIs in 8631 frames, 42.24 sec.\n",
      "Masks created, 1.49 sec.\n",
      "Extracted fluorescence from 218 ROIs in 5879 frames, 28.64 sec.\n",
      "Masks created, 1.44 sec.\n",
      "Extracted fluorescence from 218 ROIs in 20029 frames, 105.42 sec.\n",
      "Masks created, 1.61 sec.\n",
      "Extracted fluorescence from 218 ROIs in 17285 frames, 85.91 sec.\n",
      "Masks created, 1.54 sec.\n",
      "Extracted fluorescence from 218 ROIs in 16699 frames, 83.22 sec.\n",
      "Masks created, 1.55 sec.\n",
      "Extracted fluorescence from 218 ROIs in 8074 frames, 39.53 sec.\n",
      "Masks created, 1.45 sec.\n",
      "Extracted fluorescence from 218 ROIs in 13598 frames, 68.15 sec.\n",
      "Masks created, 1.45 sec.\n",
      "Extracted fluorescence from 218 ROIs in 17429 frames, 86.97 sec.\n",
      "Masks created, 1.40 sec.\n",
      "Extracted fluorescence from 218 ROIs in 8204 frames, 40.18 sec.\n",
      "Masks created, 1.35 sec.\n",
      "Extracted fluorescence from 218 ROIs in 7673 frames, 38.27 sec.\n",
      "Masks created, 1.54 sec.\n",
      "Extracted fluorescence from 218 ROIs in 9397 frames, 47.90 sec.\n",
      "Masks created, 1.57 sec.\n",
      "Extracted fluorescence from 218 ROIs in 13086 frames, 64.79 sec.\n",
      "Masks created, 1.59 sec.\n",
      "Extracted fluorescence from 218 ROIs in 11239 frames, 57.11 sec.\n",
      "Masks created, 1.97 sec.\n",
      "Extracted fluorescence from 253 ROIs in 12337 frames, 63.95 sec.\n",
      "Masks created, 2.07 sec.\n",
      "Extracted fluorescence from 253 ROIs in 11453 frames, 58.57 sec.\n",
      "Masks created, 2.09 sec.\n",
      "Extracted fluorescence from 253 ROIs in 8854 frames, 38.98 sec.\n",
      "Masks created, 2.25 sec.\n",
      "Extracted fluorescence from 253 ROIs in 11347 frames, 58.26 sec.\n",
      "Masks created, 2.03 sec.\n",
      "Extracted fluorescence from 253 ROIs in 8631 frames, 42.74 sec.\n",
      "Masks created, 2.03 sec.\n",
      "Extracted fluorescence from 253 ROIs in 5879 frames, 29.22 sec.\n",
      "Masks created, 1.96 sec.\n",
      "Extracted fluorescence from 253 ROIs in 20029 frames, 104.45 sec.\n",
      "Masks created, 2.06 sec.\n",
      "Extracted fluorescence from 253 ROIs in 17285 frames, 87.08 sec.\n",
      "Masks created, 2.03 sec.\n",
      "Extracted fluorescence from 253 ROIs in 16699 frames, 85.39 sec.\n",
      "Masks created, 2.08 sec.\n",
      "Extracted fluorescence from 253 ROIs in 8074 frames, 40.46 sec.\n",
      "Masks created, 2.04 sec.\n",
      "Extracted fluorescence from 253 ROIs in 13598 frames, 69.77 sec.\n",
      "Masks created, 2.17 sec.\n",
      "Extracted fluorescence from 253 ROIs in 17429 frames, 88.59 sec.\n",
      "Masks created, 2.05 sec.\n",
      "Extracted fluorescence from 253 ROIs in 8204 frames, 41.50 sec.\n",
      "Masks created, 2.15 sec.\n",
      "Extracted fluorescence from 253 ROIs in 7673 frames, 39.06 sec.\n",
      "Masks created, 2.03 sec.\n",
      "Extracted fluorescence from 253 ROIs in 9397 frames, 49.04 sec.\n",
      "Masks created, 2.02 sec.\n",
      "Extracted fluorescence from 253 ROIs in 13086 frames, 66.19 sec.\n",
      "Masks created, 2.04 sec.\n",
      "Extracted fluorescence from 253 ROIs in 11239 frames, 57.96 sec.\n"
     ]
    },
    {
     "data": {
      "application/vnd.jupyter.widget-view+json": {
       "model_id": "30e14f62c52e451f85bcbeb482310567",
       "version_major": 2,
       "version_minor": 0
      },
      "text/plain": [
       "  0%|          | 0/8 [00:00<?, ?it/s]"
      ]
     },
     "metadata": {},
     "output_type": "display_data"
    },
    {
     "name": "stdout",
     "output_type": "stream",
     "text": [
      "Masks created, 1.40 sec.\n",
      "Extracted fluorescence from 172 ROIs in 9747 frames, 48.05 sec.\n",
      "Masks created, 1.51 sec.\n",
      "Extracted fluorescence from 172 ROIs in 9164 frames, 39.21 sec.\n",
      "Masks created, 1.43 sec.\n",
      "Extracted fluorescence from 172 ROIs in 9148 frames, 41.20 sec.\n",
      "Masks created, 1.40 sec.\n",
      "Extracted fluorescence from 172 ROIs in 8981 frames, 38.02 sec.\n",
      "Masks created, 1.47 sec.\n",
      "Extracted fluorescence from 172 ROIs in 10015 frames, 45.88 sec.\n",
      "Masks created, 1.37 sec.\n",
      "Extracted fluorescence from 172 ROIs in 5466 frames, 27.79 sec.\n",
      "Masks created, 1.39 sec.\n",
      "Extracted fluorescence from 172 ROIs in 5209 frames, 24.20 sec.\n",
      "Masks created, 1.45 sec.\n",
      "Extracted fluorescence from 172 ROIs in 6135 frames, 26.62 sec.\n",
      "Masks created, 1.49 sec.\n",
      "Extracted fluorescence from 172 ROIs in 6542 frames, 27.82 sec.\n",
      "Masks created, 1.46 sec.\n",
      "Extracted fluorescence from 172 ROIs in 6479 frames, 27.26 sec.\n",
      "Masks created, 1.51 sec.\n",
      "Extracted fluorescence from 172 ROIs in 13403 frames, 57.25 sec.\n",
      "Masks created, 1.49 sec.\n",
      "Extracted fluorescence from 172 ROIs in 6348 frames, 26.48 sec.\n",
      "Masks created, 1.55 sec.\n",
      "Extracted fluorescence from 172 ROIs in 9672 frames, 41.78 sec.\n",
      "Masks created, 1.43 sec.\n",
      "Extracted fluorescence from 172 ROIs in 7902 frames, 31.86 sec.\n",
      "Masks created, 1.49 sec.\n",
      "Extracted fluorescence from 172 ROIs in 7179 frames, 30.09 sec.\n",
      "Masks created, 1.54 sec.\n",
      "Extracted fluorescence from 205 ROIs in 9747 frames, 45.70 sec.\n",
      "Masks created, 1.58 sec.\n",
      "Extracted fluorescence from 205 ROIs in 9164 frames, 48.20 sec.\n",
      "Masks created, 1.58 sec.\n",
      "Extracted fluorescence from 205 ROIs in 9148 frames, 48.15 sec.\n",
      "Masks created, 1.61 sec.\n",
      "Extracted fluorescence from 205 ROIs in 8981 frames, 38.91 sec.\n",
      "Masks created, 1.65 sec.\n",
      "Extracted fluorescence from 205 ROIs in 10015 frames, 45.23 sec.\n",
      "Masks created, 1.50 sec.\n",
      "Extracted fluorescence from 205 ROIs in 5466 frames, 28.86 sec.\n",
      "Masks created, 1.41 sec.\n",
      "Extracted fluorescence from 205 ROIs in 5209 frames, 22.69 sec.\n",
      "Masks created, 1.51 sec.\n",
      "Extracted fluorescence from 205 ROIs in 6135 frames, 27.76 sec.\n",
      "Masks created, 1.51 sec.\n",
      "Extracted fluorescence from 205 ROIs in 6542 frames, 34.26 sec.\n",
      "Masks created, 1.42 sec.\n",
      "Extracted fluorescence from 205 ROIs in 6479 frames, 29.77 sec.\n",
      "Masks created, 1.49 sec.\n",
      "Extracted fluorescence from 205 ROIs in 13403 frames, 60.64 sec.\n",
      "Masks created, 1.46 sec.\n",
      "Extracted fluorescence from 205 ROIs in 6348 frames, 27.77 sec.\n",
      "Masks created, 1.62 sec.\n",
      "Extracted fluorescence from 205 ROIs in 9672 frames, 44.79 sec.\n",
      "Masks created, 1.58 sec.\n",
      "Extracted fluorescence from 205 ROIs in 7902 frames, 34.92 sec.\n",
      "Masks created, 1.57 sec.\n",
      "Extracted fluorescence from 205 ROIs in 7179 frames, 33.55 sec.\n",
      "Masks created, 1.63 sec.\n",
      "Extracted fluorescence from 232 ROIs in 9747 frames, 53.51 sec.\n",
      "Masks created, 1.64 sec.\n",
      "Extracted fluorescence from 232 ROIs in 9164 frames, 53.29 sec.\n",
      "Masks created, 1.74 sec.\n",
      "Extracted fluorescence from 232 ROIs in 9148 frames, 55.20 sec.\n",
      "Masks created, 1.74 sec.\n",
      "Extracted fluorescence from 232 ROIs in 8981 frames, 47.15 sec.\n",
      "Masks created, 1.62 sec.\n",
      "Extracted fluorescence from 232 ROIs in 10015 frames, 64.22 sec.\n",
      "Masks created, 1.66 sec.\n",
      "Extracted fluorescence from 232 ROIs in 5466 frames, 24.44 sec.\n",
      "Masks created, 1.57 sec.\n",
      "Extracted fluorescence from 232 ROIs in 5209 frames, 25.70 sec.\n",
      "Masks created, 1.76 sec.\n",
      "Extracted fluorescence from 232 ROIs in 6135 frames, 26.90 sec.\n",
      "Masks created, 1.63 sec.\n",
      "Extracted fluorescence from 232 ROIs in 6542 frames, 28.76 sec.\n",
      "Masks created, 1.69 sec.\n",
      "Extracted fluorescence from 232 ROIs in 6479 frames, 31.70 sec.\n",
      "Masks created, 1.61 sec.\n",
      "Extracted fluorescence from 232 ROIs in 13403 frames, 62.98 sec.\n",
      "Masks created, 1.67 sec.\n",
      "Extracted fluorescence from 232 ROIs in 6348 frames, 28.61 sec.\n",
      "Masks created, 1.63 sec.\n",
      "Extracted fluorescence from 232 ROIs in 9672 frames, 46.25 sec.\n",
      "Masks created, 1.80 sec.\n",
      "Extracted fluorescence from 232 ROIs in 7902 frames, 41.66 sec.\n",
      "Masks created, 1.66 sec.\n",
      "Extracted fluorescence from 232 ROIs in 7179 frames, 33.36 sec.\n",
      "Masks created, 1.73 sec.\n",
      "Extracted fluorescence from 281 ROIs in 9747 frames, 48.27 sec.\n",
      "Masks created, 1.70 sec.\n",
      "Extracted fluorescence from 281 ROIs in 9164 frames, 48.36 sec.\n",
      "Masks created, 1.89 sec.\n",
      "Extracted fluorescence from 281 ROIs in 9148 frames, 44.57 sec.\n",
      "Masks created, 1.93 sec.\n",
      "Extracted fluorescence from 281 ROIs in 8981 frames, 53.63 sec.\n",
      "Masks created, 1.72 sec.\n",
      "Extracted fluorescence from 281 ROIs in 10015 frames, 48.09 sec.\n",
      "Masks created, 1.87 sec.\n",
      "Extracted fluorescence from 281 ROIs in 5466 frames, 24.39 sec.\n",
      "Masks created, 1.58 sec.\n",
      "Extracted fluorescence from 281 ROIs in 5209 frames, 27.65 sec.\n",
      "Masks created, 1.71 sec.\n",
      "Extracted fluorescence from 281 ROIs in 6135 frames, 32.87 sec.\n",
      "Masks created, 1.62 sec.\n",
      "Extracted fluorescence from 281 ROIs in 6542 frames, 30.88 sec.\n",
      "Masks created, 1.85 sec.\n",
      "Extracted fluorescence from 281 ROIs in 6479 frames, 34.50 sec.\n",
      "Masks created, 1.64 sec.\n",
      "Extracted fluorescence from 281 ROIs in 13403 frames, 57.64 sec.\n",
      "Masks created, 1.68 sec.\n",
      "Extracted fluorescence from 281 ROIs in 6348 frames, 25.51 sec.\n",
      "Masks created, 1.67 sec.\n",
      "Extracted fluorescence from 281 ROIs in 9672 frames, 41.97 sec.\n",
      "Masks created, 1.82 sec.\n",
      "Extracted fluorescence from 281 ROIs in 7902 frames, 33.02 sec.\n",
      "Masks created, 1.80 sec.\n",
      "Extracted fluorescence from 281 ROIs in 7179 frames, 33.79 sec.\n",
      "Masks created, 1.89 sec.\n",
      "Extracted fluorescence from 340 ROIs in 9688 frames, 55.00 sec.\n",
      "Masks created, 1.97 sec.\n",
      "Extracted fluorescence from 340 ROIs in 7014 frames, 36.38 sec.\n",
      "Masks created, 1.75 sec.\n",
      "Extracted fluorescence from 340 ROIs in 9058 frames, 39.39 sec.\n",
      "Masks created, 2.04 sec.\n",
      "Extracted fluorescence from 340 ROIs in 7642 frames, 31.83 sec.\n",
      "Masks created, 1.78 sec.\n",
      "Extracted fluorescence from 340 ROIs in 8782 frames, 39.61 sec.\n",
      "Masks created, 1.91 sec.\n",
      "Extracted fluorescence from 340 ROIs in 24375 frames, 104.53 sec.\n",
      "Masks created, 1.96 sec.\n",
      "Extracted fluorescence from 340 ROIs in 23918 frames, 105.28 sec.\n",
      "Masks created, 1.79 sec.\n",
      "Extracted fluorescence from 340 ROIs in 15145 frames, 67.87 sec.\n",
      "Masks created, 1.97 sec.\n",
      "Extracted fluorescence from 340 ROIs in 21005 frames, 89.71 sec.\n",
      "Masks created, 1.80 sec.\n",
      "Extracted fluorescence from 340 ROIs in 13159 frames, 60.18 sec.\n",
      "Masks created, 2.04 sec.\n",
      "Extracted fluorescence from 340 ROIs in 6700 frames, 30.36 sec.\n",
      "Masks created, 1.90 sec.\n",
      "Extracted fluorescence from 340 ROIs in 8435 frames, 41.06 sec.\n",
      "Masks created, 1.94 sec.\n",
      "Extracted fluorescence from 340 ROIs in 8235 frames, 39.17 sec.\n",
      "Masks created, 1.83 sec.\n",
      "Extracted fluorescence from 340 ROIs in 5592 frames, 24.21 sec.\n",
      "Masks created, 2.03 sec.\n",
      "Extracted fluorescence from 340 ROIs in 5002 frames, 23.47 sec.\n",
      "Masks created, 2.24 sec.\n",
      "Extracted fluorescence from 340 ROIs in 5922 frames, 26.91 sec.\n",
      "Masks created, 1.83 sec.\n",
      "Extracted fluorescence from 340 ROIs in 6176 frames, 28.76 sec.\n",
      "Masks created, 1.84 sec.\n",
      "Extracted fluorescence from 340 ROIs in 6243 frames, 27.81 sec.\n",
      "Masks created, 1.89 sec.\n",
      "Extracted fluorescence from 340 ROIs in 13356 frames, 59.84 sec.\n",
      "Masks created, 1.92 sec.\n",
      "Extracted fluorescence from 340 ROIs in 9496 frames, 41.06 sec.\n",
      "Masks created, 2.01 sec.\n",
      "Extracted fluorescence from 340 ROIs in 7116 frames, 32.48 sec.\n",
      "Masks created, 1.92 sec.\n",
      "Extracted fluorescence from 340 ROIs in 6002 frames, 29.97 sec.\n",
      "Masks created, 1.70 sec.\n",
      "Extracted fluorescence from 317 ROIs in 9688 frames, 51.35 sec.\n",
      "Masks created, 1.93 sec.\n",
      "Extracted fluorescence from 317 ROIs in 7014 frames, 29.37 sec.\n",
      "Masks created, 1.95 sec.\n",
      "Extracted fluorescence from 317 ROIs in 9058 frames, 40.76 sec.\n",
      "Masks created, 1.72 sec.\n",
      "Extracted fluorescence from 317 ROIs in 7642 frames, 33.34 sec.\n",
      "Masks created, 1.85 sec.\n",
      "Extracted fluorescence from 317 ROIs in 8782 frames, 41.62 sec.\n",
      "Masks created, 1.75 sec.\n",
      "Extracted fluorescence from 317 ROIs in 24375 frames, 104.49 sec.\n",
      "Masks created, 2.03 sec.\n",
      "Extracted fluorescence from 317 ROIs in 23918 frames, 103.69 sec.\n",
      "Masks created, 1.96 sec.\n",
      "Extracted fluorescence from 317 ROIs in 15145 frames, 77.02 sec.\n",
      "Masks created, 1.97 sec.\n",
      "Extracted fluorescence from 317 ROIs in 21005 frames, 93.43 sec.\n",
      "Masks created, 1.99 sec.\n",
      "Extracted fluorescence from 317 ROIs in 13159 frames, 62.18 sec.\n",
      "Masks created, 2.00 sec.\n",
      "Extracted fluorescence from 317 ROIs in 6700 frames, 28.19 sec.\n",
      "Masks created, 1.71 sec.\n",
      "Extracted fluorescence from 317 ROIs in 8435 frames, 42.24 sec.\n",
      "Masks created, 1.76 sec.\n",
      "Extracted fluorescence from 317 ROIs in 8235 frames, 39.96 sec.\n",
      "Masks created, 1.78 sec.\n",
      "Extracted fluorescence from 317 ROIs in 5592 frames, 27.82 sec.\n",
      "Masks created, 1.73 sec.\n",
      "Extracted fluorescence from 317 ROIs in 5002 frames, 24.93 sec.\n",
      "Masks created, 1.82 sec.\n",
      "Extracted fluorescence from 317 ROIs in 5922 frames, 30.07 sec.\n",
      "Masks created, 1.69 sec.\n",
      "Extracted fluorescence from 317 ROIs in 6176 frames, 30.85 sec.\n",
      "Masks created, 1.73 sec.\n",
      "Extracted fluorescence from 317 ROIs in 6243 frames, 28.94 sec.\n",
      "Masks created, 1.81 sec.\n",
      "Extracted fluorescence from 317 ROIs in 13356 frames, 66.66 sec.\n",
      "Masks created, 1.70 sec.\n",
      "Extracted fluorescence from 317 ROIs in 9496 frames, 46.40 sec.\n",
      "Masks created, 1.99 sec.\n",
      "Extracted fluorescence from 317 ROIs in 7116 frames, 34.01 sec.\n",
      "Masks created, 1.69 sec.\n",
      "Extracted fluorescence from 317 ROIs in 6002 frames, 30.35 sec.\n",
      "Masks created, 1.68 sec.\n",
      "Extracted fluorescence from 238 ROIs in 9688 frames, 51.37 sec.\n",
      "Masks created, 1.70 sec.\n",
      "Extracted fluorescence from 238 ROIs in 7014 frames, 31.66 sec.\n",
      "Masks created, 1.58 sec.\n",
      "Extracted fluorescence from 238 ROIs in 9058 frames, 44.68 sec.\n",
      "Masks created, 1.61 sec.\n",
      "Extracted fluorescence from 238 ROIs in 7642 frames, 36.02 sec.\n",
      "Masks created, 1.68 sec.\n",
      "Extracted fluorescence from 238 ROIs in 8782 frames, 43.05 sec.\n",
      "Masks created, 1.68 sec.\n",
      "Extracted fluorescence from 238 ROIs in 24375 frames, 107.90 sec.\n",
      "Masks created, 1.74 sec.\n",
      "Extracted fluorescence from 238 ROIs in 23918 frames, 114.07 sec.\n",
      "Masks created, 1.70 sec.\n",
      "Extracted fluorescence from 238 ROIs in 15145 frames, 73.28 sec.\n",
      "Masks created, 1.75 sec.\n",
      "Extracted fluorescence from 238 ROIs in 21005 frames, 99.98 sec.\n",
      "Masks created, 1.71 sec.\n",
      "Extracted fluorescence from 238 ROIs in 13159 frames, 63.27 sec.\n",
      "Masks created, 1.65 sec.\n",
      "Extracted fluorescence from 238 ROIs in 6700 frames, 31.27 sec.\n",
      "Masks created, 1.73 sec.\n",
      "Extracted fluorescence from 238 ROIs in 8435 frames, 38.20 sec.\n",
      "Masks created, 1.72 sec.\n",
      "Extracted fluorescence from 238 ROIs in 8235 frames, 39.32 sec.\n",
      "Masks created, 1.70 sec.\n",
      "Extracted fluorescence from 238 ROIs in 5592 frames, 24.16 sec.\n",
      "Masks created, 1.73 sec.\n",
      "Extracted fluorescence from 238 ROIs in 5002 frames, 22.32 sec.\n",
      "Masks created, 1.66 sec.\n",
      "Extracted fluorescence from 238 ROIs in 5922 frames, 29.46 sec.\n",
      "Masks created, 1.58 sec.\n",
      "Extracted fluorescence from 238 ROIs in 6176 frames, 35.71 sec.\n",
      "Masks created, 1.76 sec.\n",
      "Extracted fluorescence from 238 ROIs in 6243 frames, 30.85 sec.\n",
      "Masks created, 1.78 sec.\n",
      "Extracted fluorescence from 238 ROIs in 13356 frames, 61.70 sec.\n",
      "Masks created, 1.67 sec.\n",
      "Extracted fluorescence from 238 ROIs in 9496 frames, 42.32 sec.\n",
      "Masks created, 1.66 sec.\n",
      "Extracted fluorescence from 238 ROIs in 7116 frames, 29.30 sec.\n",
      "Masks created, 1.73 sec.\n",
      "Extracted fluorescence from 238 ROIs in 6002 frames, 26.29 sec.\n",
      "Masks created, 2.12 sec.\n",
      "Extracted fluorescence from 205 ROIs in 9688 frames, 51.31 sec.\n",
      "Masks created, 1.96 sec.\n",
      "Extracted fluorescence from 205 ROIs in 7014 frames, 29.57 sec.\n",
      "Masks created, 2.02 sec.\n",
      "Extracted fluorescence from 205 ROIs in 9058 frames, 49.88 sec.\n",
      "Masks created, 2.04 sec.\n",
      "Extracted fluorescence from 205 ROIs in 7642 frames, 32.17 sec.\n",
      "Masks created, 2.04 sec.\n",
      "Extracted fluorescence from 205 ROIs in 8782 frames, 43.66 sec.\n",
      "Masks created, 2.03 sec.\n",
      "Extracted fluorescence from 205 ROIs in 24375 frames, 107.29 sec.\n",
      "Masks created, 2.07 sec.\n",
      "Extracted fluorescence from 205 ROIs in 23918 frames, 115.36 sec.\n",
      "Masks created, 1.87 sec.\n",
      "Extracted fluorescence from 205 ROIs in 15145 frames, 73.84 sec.\n",
      "Masks created, 1.87 sec.\n",
      "Extracted fluorescence from 205 ROIs in 21005 frames, 100.47 sec.\n",
      "Masks created, 1.91 sec.\n",
      "Extracted fluorescence from 205 ROIs in 13159 frames, 61.92 sec.\n",
      "Masks created, 1.92 sec.\n",
      "Extracted fluorescence from 205 ROIs in 6700 frames, 33.19 sec.\n",
      "Masks created, 1.72 sec.\n",
      "Extracted fluorescence from 205 ROIs in 8435 frames, 37.99 sec.\n",
      "Masks created, 1.98 sec.\n",
      "Extracted fluorescence from 205 ROIs in 8235 frames, 47.82 sec.\n",
      "Masks created, 1.90 sec.\n",
      "Extracted fluorescence from 205 ROIs in 5592 frames, 32.53 sec.\n",
      "Masks created, 1.91 sec.\n",
      "Extracted fluorescence from 205 ROIs in 5002 frames, 27.96 sec.\n",
      "Masks created, 1.95 sec.\n",
      "Extracted fluorescence from 205 ROIs in 5922 frames, 36.03 sec.\n",
      "Masks created, 1.88 sec.\n",
      "Extracted fluorescence from 205 ROIs in 6176 frames, 27.44 sec.\n",
      "Masks created, 2.00 sec.\n",
      "Extracted fluorescence from 205 ROIs in 6243 frames, 26.67 sec.\n",
      "Masks created, 1.87 sec.\n",
      "Extracted fluorescence from 205 ROIs in 13356 frames, 57.96 sec.\n",
      "Masks created, 1.86 sec.\n",
      "Extracted fluorescence from 205 ROIs in 9496 frames, 56.45 sec.\n",
      "Masks created, 1.85 sec.\n",
      "Extracted fluorescence from 205 ROIs in 7116 frames, 41.41 sec.\n",
      "Masks created, 1.95 sec.\n",
      "Extracted fluorescence from 205 ROIs in 6002 frames, 35.79 sec.\n"
     ]
    }
   ],
   "source": [
    "for mi in tqdm.tqdm_notebook(range(1,3)):\n",
    "    mouse = mice[mi]\n",
    "    for pn in tqdm.tqdm_notebook(range(1,9)):\n",
    "        plane_dir = Path(f'{h5Dir}{mouse:03}/plane_{pn}/')\n",
    "        roi_collection = np.load(plane_dir / f'JK{mouse:03}_plane{pn}_roi_collection_final.npy', allow_pickle=True).item()\n",
    "        session_to_session_registration = np.load(plane_dir / f'JK{mouse:03}_plane{pn}_session_to_session_registration.npy', allow_pickle=True).item()\n",
    "        selected_session_num = session_to_session_registration['selected_session_num']\n",
    "        first_sn = selected_session_num[0]\n",
    "        first_from_master_dn = plane_dir / f'{first_sn:03d}/plane0/from_master_map/'\n",
    "        first_filtered_master_dn = plane_dir / f'{first_sn:03d}/plane0/filtered_master_map/'\n",
    "        if os.path.isdir(first_filtered_master_dn) != True:\n",
    "            os.mkdir(first_filtered_master_dn)\n",
    "\n",
    "        first_session_ops = np.load(plane_dir / f'{first_sn:03}/plane0/equal_lam/ops.npy', allow_pickle=True).item()\n",
    "        Ly = session_ops['Ly']\n",
    "        Lx = session_ops['Lx']\n",
    "\n",
    "        first_stat = np.load(first_from_master_dn / 'stat.npy',allow_pickle=True)\n",
    "        first_iscell = np.load(first_from_master_dn / 'iscell.npy',allow_pickle=True)\n",
    "\n",
    "        merge_flag = False\n",
    "        # If there are merged ROIs, \n",
    "        # correct iscell.npy and stat.npy (lam = 1/n)\n",
    "        # roi_collection['filtered_matching_master_roi_index_list']\n",
    "        # I have to remove ROIs merged into, to re-calculate signals from the merged ROIs (due to the overlap constraint)\n",
    "        # After re-assigning matching index, remove ROIs merged into.\n",
    "        if 'imerge' in first_stat[0].keys(): # There were merged cells during master ROI filtering            \n",
    "        # if np.sum([len(s['imerge']) for s in first_stat]) > 0: # There were merged cells during master ROI filtering\n",
    "            # Modify stat in each session to have merged ROIs\n",
    "            # Save stat.npy in each session.\n",
    "            # Modify iscell.npy to remove ROIs merged into\n",
    "            # Modify roi_collection to match indices between session ROI and master ROI\n",
    "\n",
    "            # First, correct the lambda in stat.npy\n",
    "            # and collect all merged indices (to remove from iscell and stat later)\n",
    "            merge_out_ind = np.where([len(s['imerge']) for s in first_stat])[0]\n",
    "            if len(merge_out_ind) > 0:\n",
    "                merge_flag = True\n",
    "        \n",
    "        if merge_flag:\n",
    "            all_merged_ind = []\n",
    "            for moi in merge_out_ind:\n",
    "                first_stat[moi]['lam'] = np.ones_like(first_stat[moi]['ypix']) / len(first_stat[moi]['ypix'])\n",
    "                merged_ind = first_stat[moi]['imerge']\n",
    "                all_merged_ind.extend(merged_ind)\n",
    "            all_merged_ind = np.array(all_merged_ind)\n",
    "            \n",
    "            # Apply merge in the rest of the sessions\n",
    "            # Save the stat file after removing merged indices\n",
    "            for sn in selected_session_num[1:]: # except for the first session stat\n",
    "                from_master_dn = plane_dir / f'{sn:03d}/plane0/from_master_map/'\n",
    "                filtered_master_dn = plane_dir / f'{sn:03d}/plane0/filtered_master_map/'\n",
    "                if os.path.isdir(filtered_master_dn) != True:\n",
    "                    os.mkdir(filtered_master_dn)\n",
    "                session_stat = np.load(from_master_dn / 'stat.npy', allow_pickle=True)\n",
    "                for moi in merge_out_ind:\n",
    "                    merged_ind = first_stat[moi]['imerge']\n",
    "                    merge_ypix = []\n",
    "                    merge_xpix = []\n",
    "                    for mi in merged_ind:\n",
    "                        merge_ypix.extend(session_stat[mi]['ypix'])\n",
    "                        merge_xpix.extend(session_stat[mi]['xpix'])\n",
    "                    merge_ypix = np.array(merge_ypix)\n",
    "                    merge_xpix = np.array(merge_xpix)\n",
    "                    # remove redundant pixel pairs\n",
    "                    merge_pix_pair = np.vstack((merge_ypix, merge_xpix))\n",
    "                    unique_pix_pair = np.unique(merge_pix_pair, axis=1)\n",
    "                    merge_ypix = unique_pix_pair[0,:]\n",
    "                    merge_xpix = unique_pix_pair[1,:]\n",
    "                    merge_lam = np.ones_like(merge_ypix) / len(merge_ypix)\n",
    "                    merge_med = median_pix(merge_ypix, merge_xpix)\n",
    "                    new_roi = {'ypix': merge_ypix,\n",
    "                                'xpix': merge_xpix,\n",
    "                                'lam': merge_lam,\n",
    "                                'med': merge_med}\n",
    "                    session_stat = np.append(session_stat, new_roi)\n",
    "                # remove merged indices from session_stat and save it\n",
    "                session_stat = np.delete(session_stat, all_merged_ind)\n",
    "                session_stat = build_roi_stats(session_stat, first_session_ops) # It requires 'diameter', 'aspect', 'Ly', and 'Lx', \n",
    "                                                            #which should be all the same, so it is OK to use first_session_ops\n",
    "                np.save(filtered_master_dn / 'stat.npy', session_stat)\n",
    "            # remove merged indices from iscell and stat\n",
    "            first_iscell = np.delete(first_iscell, all_merged_ind, axis=0)\n",
    "            first_stat = np.delete(first_stat, all_merged_ind)\n",
    "            first_stat = build_roi_stats(first_stat, first_session_ops)\n",
    "            np.save(first_filtered_master_dn / 'stat.npy', first_stat)\n",
    "\n",
    "            # correct roi_collection['final_matching_master_roi_index_list']\n",
    "            # and save to JK0xx_planex_roi_collection_filtered.npy\n",
    "            filtered_matching_master_roi_index_list = []\n",
    "            for i in range(len(selected_session_num)):\n",
    "                sn = selected_session_num[i]\n",
    "                session_stat = np.load(plane_dir / f'{sn:03}/plane0/equal_lam/stat.npy', allow_pickle=True)\n",
    "                session_filtered_master_stat = np.load(plane_dir / f'{sn:03}/plane0/filtered_master_map/stat.npy', allow_pickle=True)\n",
    "                filtered_matching_roi_ind = match_roi_with_filtered_master(session_stat, session_filtered_master_stat, Ly, Lx)\n",
    "                filtered_matching_master_roi_index_list.append(filtered_matching_roi_ind)\n",
    "            roi_collection['filtered_matching_master_roi_index_list'] = filtered_matching_master_roi_index_list\n",
    "\n",
    "        else: # When there is no merge, stat does not need to change, so just copy them from\n",
    "            # 'from_master_map' to 'filtered_master_map'\n",
    "            roi_collection['filtered_matching_master_roi_index_list'] = roi_collection['final_matching_master_roi_index_list']\n",
    "            for sn in selected_session_num:\n",
    "                from_master_dn = plane_dir / f'{sn:03d}/plane0/from_master_map/'\n",
    "                filtered_master_dn = plane_dir / f'{sn:03d}/plane0/filtered_master_map/'\n",
    "                if os.path.isdir(filtered_master_dn) != True:\n",
    "                    os.mkdir(filtered_master_dn)\n",
    "                shutil.copy(from_master_dn / 'stat.npy', filtered_master_dn / 'stat.npy')\n",
    "                \n",
    "        # Then, save the iscell.npy and ops.npy to each session\n",
    "        # For iscell.npy, all sessions should have the same\n",
    "        for sn in selected_session_num:\n",
    "            dn = plane_dir / f'{sn:03d}/plane0/filtered_master_map/'\n",
    "            np.save(dn / 'iscell.npy', first_iscell)\n",
    "            from_dn = plane_dir / f'{sn:03d}/plane0/from_master_map/'\n",
    "            shutil.copy(from_dn / 'ops.npy', dn / 'ops.npy')\n",
    "        \n",
    "        # If there is no merged ROIs, just copy JK0xx_planex_roi_collection_final.npy and save to JK0xx_planex_roi_collection_filtered.npy\n",
    "        # If there was merge, then the corrected roi_collection is saved to '..._roi_collection_filtered.npy'\n",
    "        np.save(plane_dir / f'JK{mouse:03}_plane{pn}_roi_collection_filtered.npy', roi_collection)\n",
    "\n",
    "        # Run signal extraction again from each session.\n",
    "        # Calculate dff as well.\n",
    "        # Try re-calculating them all, since I observed few cells with flat signal\n",
    "        for sn in selected_session_num:\n",
    "            ops = np.load(plane_dir / f'{sn:03}/plane0/filtered_master_map/ops.npy', allow_pickle=True).item()\n",
    "            ops['reg_file'] = plane_dir / f'{sn:03}/plane0/data.bin'\n",
    "            stat = np.load(plane_dir / f'{sn:03}/plane0/filtered_master_map/stat.npy', allow_pickle=True)\n",
    "            \n",
    "            ops, stat, F, Fneu, _, _ = create_masks_and_extract(ops, stat)\n",
    "\n",
    "            dF = F.copy() - ops['neucoeff']*Fneu\n",
    "            dF, Flow = extraction.preprocess(\n",
    "                F=dF,\n",
    "                baseline=ops['baseline'],\n",
    "                win_baseline=ops['win_baseline'],\n",
    "                sig_baseline=ops['sig_baseline'],\n",
    "                fs=ops['fs'],\n",
    "                prctile_baseline=ops['prctile_baseline']\n",
    "            )\n",
    "            spks = extraction.oasis(F=dF, batch_size=ops['batch_size'], tau=ops['tau'], fs=ops['fs'])\n",
    "            dff = dF / Flow\n",
    "\n",
    "            ops['save_path'] = plane_dir / f'{sn:03}/plane0/filtered_master_map/'\n",
    "            fpath = ops['save_path']\n",
    "            if os.path.isdir(fpath) != True:\n",
    "                os.mkdir(fpath)\n",
    "            np.save(os.path.join(fpath, 'ops.npy'), ops)\n",
    "            np.save(os.path.join(fpath, 'stat.npy'), stat)\n",
    "            np.save(os.path.join(fpath,'F.npy'), F)\n",
    "            np.save(os.path.join(fpath,'Fneu.npy'), Fneu)\n",
    "            np.save(os.path.join(fpath, 'spks.npy'), spks)\n",
    "            np.save(os.path.join(fpath, 'dff.npy'), dff)"
   ]
  },
  {
   "cell_type": "markdown",
   "metadata": {},
   "source": [
    "# Signal QC"
   ]
  },
  {
   "cell_type": "code",
   "execution_count": 210,
   "metadata": {},
   "outputs": [
    {
     "data": {
      "text/plain": [
       "array([], dtype=float64)"
      ]
     },
     "execution_count": 210,
     "metadata": {},
     "output_type": "execute_result"
    }
   ],
   "source": [
    "all_merged_ind"
   ]
  }
 ],
 "metadata": {
  "kernelspec": {
   "display_name": "Python 3.8.11 ('suite2p')",
   "language": "python",
   "name": "python3"
  },
  "language_info": {
   "codemirror_mode": {
    "name": "ipython",
    "version": 3
   },
   "file_extension": ".py",
   "mimetype": "text/x-python",
   "name": "python",
   "nbconvert_exporter": "python",
   "pygments_lexer": "ipython3",
   "version": "3.8.11"
  },
  "orig_nbformat": 4,
  "vscode": {
   "interpreter": {
    "hash": "53092f88beb6d9efd0118112bc0e9c1c54eac338b7f8334bd9c460f5dc451b11"
   }
  }
 },
 "nbformat": 4,
 "nbformat_minor": 2
}
