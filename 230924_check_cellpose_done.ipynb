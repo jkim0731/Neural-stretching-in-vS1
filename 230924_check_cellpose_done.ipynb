{
 "cells": [
  {
   "cell_type": "code",
   "execution_count": 2,
   "metadata": {},
   "outputs": [],
   "source": [
    "import numpy as np\n",
    "import pandas as pd\n",
    "from pathlib import Path\n",
    "import multiprocessing\n",
    "from suite2p import extraction"
   ]
  },
  {
   "cell_type": "code",
   "execution_count": 1,
   "metadata": {},
   "outputs": [
    {
     "name": "stdout",
     "output_type": "stream",
     "text": [
      "052_plane_2_001x missing\n",
      "052_plane_2_006x missing\n",
      "052_plane_4_029x missing\n"
     ]
    }
   ],
   "source": [
    "\n",
    "\n",
    "BASE_DIR_1 = Path('F:/')\n",
    "BASE_DIR_2 = Path('D:/')\n",
    "\n",
    "mice = [25,27,30,36,39,52]\n",
    "planes = range(1,9)\n",
    "\n",
    "# Generate tuples of sessions\n",
    "session_tuples = []\n",
    "for mouse in mice:\n",
    "    base_dir = BASE_DIR_1 if mouse < 31 else BASE_DIR_2\n",
    "    for plane in planes:\n",
    "        plane_dir = base_dir / f'{mouse:03}/plane_{plane}'\n",
    "        sessions = [x.name for x in plane_dir.iterdir() if x.is_dir() and x.name[0].isdigit()]\n",
    "        # list of (mouse,plane,session) tuples\n",
    "        for session in sessions:\n",
    "            session_dir = plane_dir / session / 'plane0'\n",
    "            mask_fn = f'{mouse:03}_plane_{plane}_{session}_cp_masks.npy'\n",
    "\n",
    "            if not (session_dir / mask_fn).exists():\n",
    "                session_tuples.append((mouse,plane,session))\n",
    "                print(f'{mouse:03}_plane_{plane}_{session} missing')"
   ]
  },
  {
   "cell_type": "code",
   "execution_count": 7,
   "metadata": {},
   "outputs": [
    {
     "data": {
      "text/plain": [
       "47"
      ]
     },
     "execution_count": 7,
     "metadata": {},
     "output_type": "execute_result"
    }
   ],
   "source": [
    "len(session_tuples)"
   ]
  },
  {
   "cell_type": "code",
   "execution_count": 12,
   "metadata": {},
   "outputs": [
    {
     "name": "stdout",
     "output_type": "stream",
     "text": [
      "added enhanced mean image\n",
      "added enhanced mean image\n",
      "added enhanced mean image\n",
      "added enhanced mean image\n",
      "added enhanced mean image\n",
      "added enhanced mean image\n"
     ]
    }
   ],
   "source": [
    "meanimge_exists = []\n",
    "for mouse, plane, session in session_tuples:\n",
    "    base_dir = BASE_DIR_1 if mouse < 31 else BASE_DIR_2\n",
    "    session_dir = base_dir / f'{mouse:03}/plane_{plane}/{session}/plane0'\n",
    "    ops_fn = session_dir / 'ops.npy'\n",
    "    ops = np.load(ops_fn, allow_pickle=True).item()\n",
    "    if not 'meanImgE' in ops.keys():\n",
    "        ops = extraction.enhanced_mean_image(ops)\n",
    "        np.save(ops_fn, ops)"
   ]
  },
  {
   "cell_type": "code",
   "execution_count": 11,
   "metadata": {},
   "outputs": [
    {
     "data": {
      "text/plain": [
       "41"
      ]
     },
     "execution_count": 11,
     "metadata": {},
     "output_type": "execute_result"
    }
   ],
   "source": [
    "len(np.where(meanimge_exists)[0])"
   ]
  },
  {
   "cell_type": "markdown",
   "metadata": {},
   "source": [
    "# Check if merging is done\n",
    "- by 230910_roi_collation_parallel.py"
   ]
  },
  {
   "cell_type": "code",
   "execution_count": 87,
   "metadata": {},
   "outputs": [],
   "source": [
    "mice = [25,27,30,36,39,52]\n",
    "planes = range(1,9)\n",
    "base_dir = Path(r'E:\\TPM\\JK\\h5')\n",
    "\n",
    "# Generate tuples of sessions\n",
    "session_tuples_missing_final = []\n",
    "session_tuples_missing_merged = []\n",
    "for mouse in mice:\n",
    "    for plane in planes:\n",
    "        plane_dir = base_dir / f'{mouse:03}/plane_{plane}'\n",
    "        sessions = [x.name for x in plane_dir.iterdir() if x.is_dir() and x.name[0].isdigit() and x.name[-1].isdigit()]\n",
    "        # list of (mouse,plane,session) tuples\n",
    "        for session in sessions:\n",
    "            session_dir = plane_dir / session / 'plane0' / 'roi'\n",
    "            final_merge_fn = f'final_roi_results_{mouse:03}_plane_{plane}_{session}_wo_dendrite_filtering.npy'\n",
    "            merge_fn = f'merged_masks_{mouse:03}_plane_{plane}_{session}.npy'\n",
    "\n",
    "            if not (session_dir / merge_fn).exists():\n",
    "                session_tuples_missing_merged.append((mouse,plane,session))\n",
    "            elif not (session_dir / final_merge_fn).exists():\n",
    "                session_tuples_missing_final.append((mouse,plane,session))\n"
   ]
  },
  {
   "cell_type": "code",
   "execution_count": 88,
   "metadata": {},
   "outputs": [
    {
     "data": {
      "text/plain": [
       "16"
      ]
     },
     "execution_count": 88,
     "metadata": {},
     "output_type": "execute_result"
    }
   ],
   "source": [
    "len(session_tuples_missing_final)"
   ]
  },
  {
   "cell_type": "code",
   "execution_count": 89,
   "metadata": {},
   "outputs": [
    {
     "data": {
      "text/plain": [
       "16"
      ]
     },
     "execution_count": 89,
     "metadata": {},
     "output_type": "execute_result"
    }
   ],
   "source": [
    "len(session_tuples_missing_merged)"
   ]
  },
  {
   "cell_type": "code",
   "execution_count": 90,
   "metadata": {},
   "outputs": [
    {
     "data": {
      "text/plain": [
       "[(25, 1, '5555_002'),\n",
       " (25, 8, '002'),\n",
       " (27, 1, '006'),\n",
       " (27, 4, '025'),\n",
       " (27, 6, '5554_002'),\n",
       " (30, 4, '9999_2'),\n",
       " (36, 6, '9998_2'),\n",
       " (39, 8, '5554_110'),\n",
       " (52, 2, '022'),\n",
       " (52, 5, '001'),\n",
       " (52, 5, '020'),\n",
       " (52, 5, '028'),\n",
       " (52, 6, '011'),\n",
       " (52, 6, '013'),\n",
       " (52, 6, '019'),\n",
       " (52, 6, '029')]"
      ]
     },
     "execution_count": 90,
     "metadata": {},
     "output_type": "execute_result"
    }
   ],
   "source": [
    "session_tuples_missing_final"
   ]
  },
  {
   "cell_type": "code",
   "execution_count": 7,
   "metadata": {},
   "outputs": [],
   "source": [
    "# All these merge error sessions have masks created\n",
    "\n",
    "for tuple in session_tuples:\n",
    "    mouse = tuple[0]\n",
    "    plane = tuple[1]\n",
    "    session = tuple[2]\n",
    "    session_dir = base_dir / f'{mouse:03}/plane_{plane}/{session}/plane0/'\n",
    "    mask_fn = f'{mouse:03}_plane_{plane}_{session}_cp_masks.npy'\n",
    "    if not (session_dir / mask_fn).exists():\n",
    "        print(f'{mouse:03}_plane_{plane}_{session} done')\n"
   ]
  },
  {
   "cell_type": "markdown",
   "metadata": {},
   "source": [
    "# Fix problems\n",
    "- 2 modes of failure\n",
    "    - No merge at all\n",
    "         - Problem with 0 unique mask. Fixed in def clean_and_merge_masks\n",
    "    - Final merge problem\n",
    "          - multiple mask2 matched rois in <deal_with_one_to_one>\n",
    "          - These are neighboring ROIs seemingly single ROI, so just compare with the sum area"
   ]
  }
 ],
 "metadata": {
  "kernelspec": {
   "display_name": "suite2p",
   "language": "python",
   "name": "python3"
  },
  "language_info": {
   "codemirror_mode": {
    "name": "ipython",
    "version": 3
   },
   "file_extension": ".py",
   "mimetype": "text/x-python",
   "name": "python",
   "nbconvert_exporter": "python",
   "pygments_lexer": "ipython3",
   "version": "3.8.11"
  },
  "orig_nbformat": 4
 },
 "nbformat": 4,
 "nbformat_minor": 2
}
